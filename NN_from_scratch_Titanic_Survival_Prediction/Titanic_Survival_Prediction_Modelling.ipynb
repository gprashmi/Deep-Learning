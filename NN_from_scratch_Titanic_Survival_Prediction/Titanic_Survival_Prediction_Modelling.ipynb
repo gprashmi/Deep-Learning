{
 "cells": [
  {
   "cell_type": "markdown",
   "metadata": {},
   "source": [
    "## Titanic Survival Prediction Modelling"
   ]
  },
  {
   "cell_type": "code",
   "execution_count": 1,
   "metadata": {
    "_cell_guid": "b1076dfc-b9ad-4769-8c92-a6c4dae69d19",
    "_uuid": "8f2839f25d086af736a60e9eeb907d3b93b6e0e5",
    "execution": {
     "iopub.execute_input": "2020-12-04T21:36:33.044950Z",
     "iopub.status.busy": "2020-12-04T21:36:33.043710Z",
     "iopub.status.idle": "2020-12-04T21:36:34.657229Z",
     "shell.execute_reply": "2020-12-04T21:36:34.656281Z"
    },
    "papermill": {
     "duration": 1.740565,
     "end_time": "2020-12-04T21:36:34.657376",
     "exception": false,
     "start_time": "2020-12-04T21:36:32.916811",
     "status": "completed"
    },
    "tags": []
   },
   "outputs": [],
   "source": [
    "#import libraries\n",
    "import os\n",
    "import numpy as np \n",
    "import pandas as pd \n",
    "import seaborn as sns\n",
    "import matplotlib.pyplot as plt\n",
    "import re\n",
    "import warnings\n",
    "from collections import defaultdict\n",
    "from sklearn.preprocessing import LabelEncoder, StandardScaler, MinMaxScaler\n",
    "from sklearn.ensemble import ExtraTreesRegressor\n",
    "from sklearn.preprocessing import OrdinalEncoder\n",
    "from sklearn.experimental import enable_iterative_imputer\n",
    "from sklearn.impute import IterativeImputer\n",
    "from sklearn.model_selection import train_test_split\n",
    "from sklearn.metrics import accuracy_score\n",
    "from sklearn.ensemble import GradientBoostingClassifier\n",
    "from sklearn.neural_network import MLPClassifier\n",
    "from sklearn.linear_model import LogisticRegression\n",
    "from sklearn.ensemble import VotingClassifier\n",
    "import keras\n",
    "import tensorflow as tf\n",
    "\n",
    "warnings.filterwarnings(\"ignore\")"
   ]
  },
  {
   "cell_type": "code",
   "execution_count": 2,
   "metadata": {
    "_cell_guid": "79c7e3d0-c299-4dcb-8224-4455121ee9b0",
    "_uuid": "d629ff2d2480ee46fbb7e2d37f6b5fab8052498a",
    "execution": {
     "iopub.execute_input": "2020-12-04T21:36:34.849112Z",
     "iopub.status.busy": "2020-12-04T21:36:34.847922Z",
     "iopub.status.idle": "2020-12-04T21:36:34.853310Z",
     "shell.execute_reply": "2020-12-04T21:36:34.854297Z"
    },
    "papermill": {
     "duration": 0.102376,
     "end_time": "2020-12-04T21:36:34.854529",
     "exception": false,
     "start_time": "2020-12-04T21:36:34.752153",
     "status": "completed"
    },
    "tags": []
   },
   "outputs": [
    {
     "name": "stdout",
     "output_type": "stream",
     "text": [
      "/kaggle/input/titanic/train.csv\n",
      "/kaggle/input/titanic/test.csv\n",
      "/kaggle/input/titanic/gender_submission.csv\n"
     ]
    }
   ],
   "source": [
    "#check for the paths of the train, test and submission files\n",
    "for dirname, _, filenames in os.walk('/kaggle/input'):\n",
    "    for filename in filenames:\n",
    "        print(os.path.join(dirname, filename))"
   ]
  },
  {
   "cell_type": "code",
   "execution_count": 3,
   "metadata": {
    "execution": {
     "iopub.execute_input": "2020-12-04T21:36:35.066039Z",
     "iopub.status.busy": "2020-12-04T21:36:35.065245Z",
     "iopub.status.idle": "2020-12-04T21:36:35.092602Z",
     "shell.execute_reply": "2020-12-04T21:36:35.091875Z"
    },
    "papermill": {
     "duration": 0.142015,
     "end_time": "2020-12-04T21:36:35.092740",
     "exception": false,
     "start_time": "2020-12-04T21:36:34.950725",
     "status": "completed"
    },
    "tags": []
   },
   "outputs": [],
   "source": [
    "#read the train and test files using pandas read_csv\n",
    "#train_titanic = pd.read_csv(\"/kaggle/input/titanic/train.csv\")\n",
    "#test_titanic = pd.read_csv(\"/kaggle/input/titanic/test.csv\")\n",
    "\n",
    "train_titanic = pd.read_csv(\"train.csv\")\n",
    "test_titanic = pd.read_csv(\"test.csv\")"
   ]
  },
  {
   "cell_type": "markdown",
   "metadata": {
    "papermill": {
     "duration": 0.094137,
     "end_time": "2020-12-04T21:36:35.278519",
     "exception": false,
     "start_time": "2020-12-04T21:36:35.184382",
     "status": "completed"
    },
    "tags": []
   },
   "source": [
    "### **Data Exploration**\n",
    "\n",
    "This section performs basic data exploration like number of columns, instances, null values. etc on both train and test datasets.\n",
    "\n",
    "**Train data exploration**\n",
    "\n",
    "Check few instances of train data"
   ]
  },
  {
   "cell_type": "code",
   "execution_count": 4,
   "metadata": {
    "execution": {
     "iopub.execute_input": "2020-12-04T21:36:35.487697Z",
     "iopub.status.busy": "2020-12-04T21:36:35.486861Z",
     "iopub.status.idle": "2020-12-04T21:36:35.501455Z",
     "shell.execute_reply": "2020-12-04T21:36:35.500742Z"
    },
    "papermill": {
     "duration": 0.130045,
     "end_time": "2020-12-04T21:36:35.501597",
     "exception": false,
     "start_time": "2020-12-04T21:36:35.371552",
     "status": "completed"
    },
    "tags": []
   },
   "outputs": [
    {
     "data": {
      "text/html": [
       "<div>\n",
       "<style scoped>\n",
       "    .dataframe tbody tr th:only-of-type {\n",
       "        vertical-align: middle;\n",
       "    }\n",
       "\n",
       "    .dataframe tbody tr th {\n",
       "        vertical-align: top;\n",
       "    }\n",
       "\n",
       "    .dataframe thead th {\n",
       "        text-align: right;\n",
       "    }\n",
       "</style>\n",
       "<table border=\"1\" class=\"dataframe\">\n",
       "  <thead>\n",
       "    <tr style=\"text-align: right;\">\n",
       "      <th></th>\n",
       "      <th>PassengerId</th>\n",
       "      <th>Survived</th>\n",
       "      <th>Pclass</th>\n",
       "      <th>Name</th>\n",
       "      <th>Sex</th>\n",
       "      <th>Age</th>\n",
       "      <th>SibSp</th>\n",
       "      <th>Parch</th>\n",
       "      <th>Ticket</th>\n",
       "      <th>Fare</th>\n",
       "      <th>Cabin</th>\n",
       "      <th>Embarked</th>\n",
       "    </tr>\n",
       "  </thead>\n",
       "  <tbody>\n",
       "    <tr>\n",
       "      <th>0</th>\n",
       "      <td>1</td>\n",
       "      <td>0</td>\n",
       "      <td>3</td>\n",
       "      <td>Braund, Mr. Owen Harris</td>\n",
       "      <td>male</td>\n",
       "      <td>22.0</td>\n",
       "      <td>1</td>\n",
       "      <td>0</td>\n",
       "      <td>A/5 21171</td>\n",
       "      <td>7.2500</td>\n",
       "      <td>NaN</td>\n",
       "      <td>S</td>\n",
       "    </tr>\n",
       "    <tr>\n",
       "      <th>1</th>\n",
       "      <td>2</td>\n",
       "      <td>1</td>\n",
       "      <td>1</td>\n",
       "      <td>Cumings, Mrs. John Bradley (Florence Briggs Th...</td>\n",
       "      <td>female</td>\n",
       "      <td>38.0</td>\n",
       "      <td>1</td>\n",
       "      <td>0</td>\n",
       "      <td>PC 17599</td>\n",
       "      <td>71.2833</td>\n",
       "      <td>C85</td>\n",
       "      <td>C</td>\n",
       "    </tr>\n",
       "    <tr>\n",
       "      <th>2</th>\n",
       "      <td>3</td>\n",
       "      <td>1</td>\n",
       "      <td>3</td>\n",
       "      <td>Heikkinen, Miss. Laina</td>\n",
       "      <td>female</td>\n",
       "      <td>26.0</td>\n",
       "      <td>0</td>\n",
       "      <td>0</td>\n",
       "      <td>STON/O2. 3101282</td>\n",
       "      <td>7.9250</td>\n",
       "      <td>NaN</td>\n",
       "      <td>S</td>\n",
       "    </tr>\n",
       "    <tr>\n",
       "      <th>3</th>\n",
       "      <td>4</td>\n",
       "      <td>1</td>\n",
       "      <td>1</td>\n",
       "      <td>Futrelle, Mrs. Jacques Heath (Lily May Peel)</td>\n",
       "      <td>female</td>\n",
       "      <td>35.0</td>\n",
       "      <td>1</td>\n",
       "      <td>0</td>\n",
       "      <td>113803</td>\n",
       "      <td>53.1000</td>\n",
       "      <td>C123</td>\n",
       "      <td>S</td>\n",
       "    </tr>\n",
       "    <tr>\n",
       "      <th>4</th>\n",
       "      <td>5</td>\n",
       "      <td>0</td>\n",
       "      <td>3</td>\n",
       "      <td>Allen, Mr. William Henry</td>\n",
       "      <td>male</td>\n",
       "      <td>35.0</td>\n",
       "      <td>0</td>\n",
       "      <td>0</td>\n",
       "      <td>373450</td>\n",
       "      <td>8.0500</td>\n",
       "      <td>NaN</td>\n",
       "      <td>S</td>\n",
       "    </tr>\n",
       "  </tbody>\n",
       "</table>\n",
       "</div>"
      ],
      "text/plain": [
       "   PassengerId  Survived  Pclass  \\\n",
       "0            1         0       3   \n",
       "1            2         1       1   \n",
       "2            3         1       3   \n",
       "3            4         1       1   \n",
       "4            5         0       3   \n",
       "\n",
       "                                                Name     Sex   Age  SibSp  \\\n",
       "0                            Braund, Mr. Owen Harris    male  22.0      1   \n",
       "1  Cumings, Mrs. John Bradley (Florence Briggs Th...  female  38.0      1   \n",
       "2                             Heikkinen, Miss. Laina  female  26.0      0   \n",
       "3       Futrelle, Mrs. Jacques Heath (Lily May Peel)  female  35.0      1   \n",
       "4                           Allen, Mr. William Henry    male  35.0      0   \n",
       "\n",
       "   Parch            Ticket     Fare Cabin Embarked  \n",
       "0      0         A/5 21171   7.2500   NaN        S  \n",
       "1      0          PC 17599  71.2833   C85        C  \n",
       "2      0  STON/O2. 3101282   7.9250   NaN        S  \n",
       "3      0            113803  53.1000  C123        S  \n",
       "4      0            373450   8.0500   NaN        S  "
      ]
     },
     "execution_count": 4,
     "metadata": {},
     "output_type": "execute_result"
    }
   ],
   "source": [
    "train_titanic.head()"
   ]
  },
  {
   "cell_type": "code",
   "execution_count": 5,
   "metadata": {
    "execution": {
     "iopub.execute_input": "2020-12-04T21:36:35.710429Z",
     "iopub.status.busy": "2020-12-04T21:36:35.709254Z",
     "iopub.status.idle": "2020-12-04T21:36:35.714222Z",
     "shell.execute_reply": "2020-12-04T21:36:35.713584Z"
    },
    "papermill": {
     "duration": 0.117867,
     "end_time": "2020-12-04T21:36:35.714352",
     "exception": false,
     "start_time": "2020-12-04T21:36:35.596485",
     "status": "completed"
    },
    "tags": []
   },
   "outputs": [
    {
     "data": {
      "text/html": [
       "<div>\n",
       "<style scoped>\n",
       "    .dataframe tbody tr th:only-of-type {\n",
       "        vertical-align: middle;\n",
       "    }\n",
       "\n",
       "    .dataframe tbody tr th {\n",
       "        vertical-align: top;\n",
       "    }\n",
       "\n",
       "    .dataframe thead th {\n",
       "        text-align: right;\n",
       "    }\n",
       "</style>\n",
       "<table border=\"1\" class=\"dataframe\">\n",
       "  <thead>\n",
       "    <tr style=\"text-align: right;\">\n",
       "      <th></th>\n",
       "      <th>PassengerId</th>\n",
       "      <th>Survived</th>\n",
       "      <th>Pclass</th>\n",
       "      <th>Name</th>\n",
       "      <th>Sex</th>\n",
       "      <th>Age</th>\n",
       "      <th>SibSp</th>\n",
       "      <th>Parch</th>\n",
       "      <th>Ticket</th>\n",
       "      <th>Fare</th>\n",
       "      <th>Cabin</th>\n",
       "      <th>Embarked</th>\n",
       "    </tr>\n",
       "  </thead>\n",
       "  <tbody>\n",
       "    <tr>\n",
       "      <th>886</th>\n",
       "      <td>887</td>\n",
       "      <td>0</td>\n",
       "      <td>2</td>\n",
       "      <td>Montvila, Rev. Juozas</td>\n",
       "      <td>male</td>\n",
       "      <td>27.0</td>\n",
       "      <td>0</td>\n",
       "      <td>0</td>\n",
       "      <td>211536</td>\n",
       "      <td>13.00</td>\n",
       "      <td>NaN</td>\n",
       "      <td>S</td>\n",
       "    </tr>\n",
       "    <tr>\n",
       "      <th>887</th>\n",
       "      <td>888</td>\n",
       "      <td>1</td>\n",
       "      <td>1</td>\n",
       "      <td>Graham, Miss. Margaret Edith</td>\n",
       "      <td>female</td>\n",
       "      <td>19.0</td>\n",
       "      <td>0</td>\n",
       "      <td>0</td>\n",
       "      <td>112053</td>\n",
       "      <td>30.00</td>\n",
       "      <td>B42</td>\n",
       "      <td>S</td>\n",
       "    </tr>\n",
       "    <tr>\n",
       "      <th>888</th>\n",
       "      <td>889</td>\n",
       "      <td>0</td>\n",
       "      <td>3</td>\n",
       "      <td>Johnston, Miss. Catherine Helen \"Carrie\"</td>\n",
       "      <td>female</td>\n",
       "      <td>NaN</td>\n",
       "      <td>1</td>\n",
       "      <td>2</td>\n",
       "      <td>W./C. 6607</td>\n",
       "      <td>23.45</td>\n",
       "      <td>NaN</td>\n",
       "      <td>S</td>\n",
       "    </tr>\n",
       "    <tr>\n",
       "      <th>889</th>\n",
       "      <td>890</td>\n",
       "      <td>1</td>\n",
       "      <td>1</td>\n",
       "      <td>Behr, Mr. Karl Howell</td>\n",
       "      <td>male</td>\n",
       "      <td>26.0</td>\n",
       "      <td>0</td>\n",
       "      <td>0</td>\n",
       "      <td>111369</td>\n",
       "      <td>30.00</td>\n",
       "      <td>C148</td>\n",
       "      <td>C</td>\n",
       "    </tr>\n",
       "    <tr>\n",
       "      <th>890</th>\n",
       "      <td>891</td>\n",
       "      <td>0</td>\n",
       "      <td>3</td>\n",
       "      <td>Dooley, Mr. Patrick</td>\n",
       "      <td>male</td>\n",
       "      <td>32.0</td>\n",
       "      <td>0</td>\n",
       "      <td>0</td>\n",
       "      <td>370376</td>\n",
       "      <td>7.75</td>\n",
       "      <td>NaN</td>\n",
       "      <td>Q</td>\n",
       "    </tr>\n",
       "  </tbody>\n",
       "</table>\n",
       "</div>"
      ],
      "text/plain": [
       "     PassengerId  Survived  Pclass                                      Name  \\\n",
       "886          887         0       2                     Montvila, Rev. Juozas   \n",
       "887          888         1       1              Graham, Miss. Margaret Edith   \n",
       "888          889         0       3  Johnston, Miss. Catherine Helen \"Carrie\"   \n",
       "889          890         1       1                     Behr, Mr. Karl Howell   \n",
       "890          891         0       3                       Dooley, Mr. Patrick   \n",
       "\n",
       "        Sex   Age  SibSp  Parch      Ticket   Fare Cabin Embarked  \n",
       "886    male  27.0      0      0      211536  13.00   NaN        S  \n",
       "887  female  19.0      0      0      112053  30.00   B42        S  \n",
       "888  female   NaN      1      2  W./C. 6607  23.45   NaN        S  \n",
       "889    male  26.0      0      0      111369  30.00  C148        C  \n",
       "890    male  32.0      0      0      370376   7.75   NaN        Q  "
      ]
     },
     "execution_count": 5,
     "metadata": {},
     "output_type": "execute_result"
    }
   ],
   "source": [
    "train_titanic.tail()"
   ]
  },
  {
   "cell_type": "markdown",
   "metadata": {
    "papermill": {
     "duration": 0.094665,
     "end_time": "2020-12-04T21:36:35.903688",
     "exception": false,
     "start_time": "2020-12-04T21:36:35.809023",
     "status": "completed"
    },
    "tags": []
   },
   "source": [
    "Check the information present in the data: columns, number of instances, null values, data type"
   ]
  },
  {
   "cell_type": "code",
   "execution_count": 6,
   "metadata": {
    "execution": {
     "iopub.execute_input": "2020-12-04T21:36:36.136842Z",
     "iopub.status.busy": "2020-12-04T21:36:36.131130Z",
     "iopub.status.idle": "2020-12-04T21:36:36.146099Z",
     "shell.execute_reply": "2020-12-04T21:36:36.145435Z"
    },
    "papermill": {
     "duration": 0.140325,
     "end_time": "2020-12-04T21:36:36.146270",
     "exception": false,
     "start_time": "2020-12-04T21:36:36.005945",
     "status": "completed"
    },
    "tags": []
   },
   "outputs": [
    {
     "name": "stdout",
     "output_type": "stream",
     "text": [
      "<class 'pandas.core.frame.DataFrame'>\n",
      "RangeIndex: 891 entries, 0 to 890\n",
      "Data columns (total 12 columns):\n",
      " #   Column       Non-Null Count  Dtype  \n",
      "---  ------       --------------  -----  \n",
      " 0   PassengerId  891 non-null    int64  \n",
      " 1   Survived     891 non-null    int64  \n",
      " 2   Pclass       891 non-null    int64  \n",
      " 3   Name         891 non-null    object \n",
      " 4   Sex          891 non-null    object \n",
      " 5   Age          714 non-null    float64\n",
      " 6   SibSp        891 non-null    int64  \n",
      " 7   Parch        891 non-null    int64  \n",
      " 8   Ticket       891 non-null    object \n",
      " 9   Fare         891 non-null    float64\n",
      " 10  Cabin        204 non-null    object \n",
      " 11  Embarked     889 non-null    object \n",
      "dtypes: float64(2), int64(5), object(5)\n",
      "memory usage: 83.7+ KB\n"
     ]
    }
   ],
   "source": [
    "train_titanic.info()"
   ]
  },
  {
   "cell_type": "markdown",
   "metadata": {
    "papermill": {
     "duration": 0.094568,
     "end_time": "2020-12-04T21:36:36.337906",
     "exception": false,
     "start_time": "2020-12-04T21:36:36.243338",
     "status": "completed"
    },
    "tags": []
   },
   "source": [
    "This shows that the train dataset has 891 instances with 11 feature columns and 1 dependent column (Survived) and their data types. Features Age, Embarked and Cabin have missing values. "
   ]
  },
  {
   "cell_type": "code",
   "execution_count": 7,
   "metadata": {
    "execution": {
     "iopub.execute_input": "2020-12-04T21:36:36.539727Z",
     "iopub.status.busy": "2020-12-04T21:36:36.538844Z",
     "iopub.status.idle": "2020-12-04T21:36:36.542836Z",
     "shell.execute_reply": "2020-12-04T21:36:36.543447Z"
    },
    "papermill": {
     "duration": 0.110019,
     "end_time": "2020-12-04T21:36:36.543604",
     "exception": false,
     "start_time": "2020-12-04T21:36:36.433585",
     "status": "completed"
    },
    "tags": []
   },
   "outputs": [
    {
     "data": {
      "text/plain": [
       "PassengerId      0\n",
       "Survived         0\n",
       "Pclass           0\n",
       "Name             0\n",
       "Sex              0\n",
       "Age            177\n",
       "SibSp            0\n",
       "Parch            0\n",
       "Ticket           0\n",
       "Fare             0\n",
       "Cabin          687\n",
       "Embarked         2\n",
       "dtype: int64"
      ]
     },
     "execution_count": 7,
     "metadata": {},
     "output_type": "execute_result"
    }
   ],
   "source": [
    "#check for the null values in the dataset\n",
    "train_titanic.isnull().sum()"
   ]
  },
  {
   "cell_type": "markdown",
   "metadata": {
    "papermill": {
     "duration": 0.098995,
     "end_time": "2020-12-04T21:36:36.738904",
     "exception": false,
     "start_time": "2020-12-04T21:36:36.639909",
     "status": "completed"
    },
    "tags": []
   },
   "source": [
    "This shows Age and Cabin have a lot of null values compared to Embarked feature."
   ]
  },
  {
   "cell_type": "markdown",
   "metadata": {
    "papermill": {
     "duration": 0.095398,
     "end_time": "2020-12-04T21:36:36.930226",
     "exception": false,
     "start_time": "2020-12-04T21:36:36.834828",
     "status": "completed"
    },
    "tags": []
   },
   "source": [
    "**Test data exploration**\n",
    "\n",
    "Check few instances of test data"
   ]
  },
  {
   "cell_type": "code",
   "execution_count": 8,
   "metadata": {
    "execution": {
     "iopub.execute_input": "2020-12-04T21:36:37.151752Z",
     "iopub.status.busy": "2020-12-04T21:36:37.143822Z",
     "iopub.status.idle": "2020-12-04T21:36:37.156718Z",
     "shell.execute_reply": "2020-12-04T21:36:37.155849Z"
    },
    "papermill": {
     "duration": 0.123339,
     "end_time": "2020-12-04T21:36:37.156861",
     "exception": false,
     "start_time": "2020-12-04T21:36:37.033522",
     "status": "completed"
    },
    "tags": []
   },
   "outputs": [
    {
     "data": {
      "text/html": [
       "<div>\n",
       "<style scoped>\n",
       "    .dataframe tbody tr th:only-of-type {\n",
       "        vertical-align: middle;\n",
       "    }\n",
       "\n",
       "    .dataframe tbody tr th {\n",
       "        vertical-align: top;\n",
       "    }\n",
       "\n",
       "    .dataframe thead th {\n",
       "        text-align: right;\n",
       "    }\n",
       "</style>\n",
       "<table border=\"1\" class=\"dataframe\">\n",
       "  <thead>\n",
       "    <tr style=\"text-align: right;\">\n",
       "      <th></th>\n",
       "      <th>PassengerId</th>\n",
       "      <th>Pclass</th>\n",
       "      <th>Name</th>\n",
       "      <th>Sex</th>\n",
       "      <th>Age</th>\n",
       "      <th>SibSp</th>\n",
       "      <th>Parch</th>\n",
       "      <th>Ticket</th>\n",
       "      <th>Fare</th>\n",
       "      <th>Cabin</th>\n",
       "      <th>Embarked</th>\n",
       "    </tr>\n",
       "  </thead>\n",
       "  <tbody>\n",
       "    <tr>\n",
       "      <th>0</th>\n",
       "      <td>892</td>\n",
       "      <td>3</td>\n",
       "      <td>Kelly, Mr. James</td>\n",
       "      <td>male</td>\n",
       "      <td>34.5</td>\n",
       "      <td>0</td>\n",
       "      <td>0</td>\n",
       "      <td>330911</td>\n",
       "      <td>7.8292</td>\n",
       "      <td>NaN</td>\n",
       "      <td>Q</td>\n",
       "    </tr>\n",
       "    <tr>\n",
       "      <th>1</th>\n",
       "      <td>893</td>\n",
       "      <td>3</td>\n",
       "      <td>Wilkes, Mrs. James (Ellen Needs)</td>\n",
       "      <td>female</td>\n",
       "      <td>47.0</td>\n",
       "      <td>1</td>\n",
       "      <td>0</td>\n",
       "      <td>363272</td>\n",
       "      <td>7.0000</td>\n",
       "      <td>NaN</td>\n",
       "      <td>S</td>\n",
       "    </tr>\n",
       "    <tr>\n",
       "      <th>2</th>\n",
       "      <td>894</td>\n",
       "      <td>2</td>\n",
       "      <td>Myles, Mr. Thomas Francis</td>\n",
       "      <td>male</td>\n",
       "      <td>62.0</td>\n",
       "      <td>0</td>\n",
       "      <td>0</td>\n",
       "      <td>240276</td>\n",
       "      <td>9.6875</td>\n",
       "      <td>NaN</td>\n",
       "      <td>Q</td>\n",
       "    </tr>\n",
       "    <tr>\n",
       "      <th>3</th>\n",
       "      <td>895</td>\n",
       "      <td>3</td>\n",
       "      <td>Wirz, Mr. Albert</td>\n",
       "      <td>male</td>\n",
       "      <td>27.0</td>\n",
       "      <td>0</td>\n",
       "      <td>0</td>\n",
       "      <td>315154</td>\n",
       "      <td>8.6625</td>\n",
       "      <td>NaN</td>\n",
       "      <td>S</td>\n",
       "    </tr>\n",
       "    <tr>\n",
       "      <th>4</th>\n",
       "      <td>896</td>\n",
       "      <td>3</td>\n",
       "      <td>Hirvonen, Mrs. Alexander (Helga E Lindqvist)</td>\n",
       "      <td>female</td>\n",
       "      <td>22.0</td>\n",
       "      <td>1</td>\n",
       "      <td>1</td>\n",
       "      <td>3101298</td>\n",
       "      <td>12.2875</td>\n",
       "      <td>NaN</td>\n",
       "      <td>S</td>\n",
       "    </tr>\n",
       "  </tbody>\n",
       "</table>\n",
       "</div>"
      ],
      "text/plain": [
       "   PassengerId  Pclass                                          Name     Sex  \\\n",
       "0          892       3                              Kelly, Mr. James    male   \n",
       "1          893       3              Wilkes, Mrs. James (Ellen Needs)  female   \n",
       "2          894       2                     Myles, Mr. Thomas Francis    male   \n",
       "3          895       3                              Wirz, Mr. Albert    male   \n",
       "4          896       3  Hirvonen, Mrs. Alexander (Helga E Lindqvist)  female   \n",
       "\n",
       "    Age  SibSp  Parch   Ticket     Fare Cabin Embarked  \n",
       "0  34.5      0      0   330911   7.8292   NaN        Q  \n",
       "1  47.0      1      0   363272   7.0000   NaN        S  \n",
       "2  62.0      0      0   240276   9.6875   NaN        Q  \n",
       "3  27.0      0      0   315154   8.6625   NaN        S  \n",
       "4  22.0      1      1  3101298  12.2875   NaN        S  "
      ]
     },
     "execution_count": 8,
     "metadata": {},
     "output_type": "execute_result"
    }
   ],
   "source": [
    "test_titanic.head()"
   ]
  },
  {
   "cell_type": "markdown",
   "metadata": {
    "papermill": {
     "duration": 0.099335,
     "end_time": "2020-12-04T21:36:37.354961",
     "exception": false,
     "start_time": "2020-12-04T21:36:37.255626",
     "status": "completed"
    },
    "tags": []
   },
   "source": [
    "Check the information present in the test data: columns, number of instances, null values, data type"
   ]
  },
  {
   "cell_type": "code",
   "execution_count": 9,
   "metadata": {
    "execution": {
     "iopub.execute_input": "2020-12-04T21:36:37.569964Z",
     "iopub.status.busy": "2020-12-04T21:36:37.569131Z",
     "iopub.status.idle": "2020-12-04T21:36:37.577072Z",
     "shell.execute_reply": "2020-12-04T21:36:37.572788Z"
    },
    "papermill": {
     "duration": 0.122064,
     "end_time": "2020-12-04T21:36:37.577267",
     "exception": false,
     "start_time": "2020-12-04T21:36:37.455203",
     "status": "completed"
    },
    "tags": []
   },
   "outputs": [
    {
     "name": "stdout",
     "output_type": "stream",
     "text": [
      "<class 'pandas.core.frame.DataFrame'>\n",
      "RangeIndex: 418 entries, 0 to 417\n",
      "Data columns (total 11 columns):\n",
      " #   Column       Non-Null Count  Dtype  \n",
      "---  ------       --------------  -----  \n",
      " 0   PassengerId  418 non-null    int64  \n",
      " 1   Pclass       418 non-null    int64  \n",
      " 2   Name         418 non-null    object \n",
      " 3   Sex          418 non-null    object \n",
      " 4   Age          332 non-null    float64\n",
      " 5   SibSp        418 non-null    int64  \n",
      " 6   Parch        418 non-null    int64  \n",
      " 7   Ticket       418 non-null    object \n",
      " 8   Fare         417 non-null    float64\n",
      " 9   Cabin        91 non-null     object \n",
      " 10  Embarked     418 non-null    object \n",
      "dtypes: float64(2), int64(4), object(5)\n",
      "memory usage: 36.0+ KB\n"
     ]
    }
   ],
   "source": [
    "test_titanic.info()"
   ]
  },
  {
   "cell_type": "markdown",
   "metadata": {
    "papermill": {
     "duration": 0.096993,
     "end_time": "2020-12-04T21:36:37.772962",
     "exception": false,
     "start_time": "2020-12-04T21:36:37.675969",
     "status": "completed"
    },
    "tags": []
   },
   "source": [
    "This shows that the test dataset has 481 instances with 11 feature columns and their data types. Here again features Age, Fare and Cabin have missing values."
   ]
  },
  {
   "cell_type": "code",
   "execution_count": 10,
   "metadata": {
    "execution": {
     "iopub.execute_input": "2020-12-04T21:36:37.980365Z",
     "iopub.status.busy": "2020-12-04T21:36:37.979183Z",
     "iopub.status.idle": "2020-12-04T21:36:37.983979Z",
     "shell.execute_reply": "2020-12-04T21:36:37.984690Z"
    },
    "papermill": {
     "duration": 0.112533,
     "end_time": "2020-12-04T21:36:37.984893",
     "exception": false,
     "start_time": "2020-12-04T21:36:37.872360",
     "status": "completed"
    },
    "tags": []
   },
   "outputs": [
    {
     "data": {
      "text/plain": [
       "PassengerId      0\n",
       "Pclass           0\n",
       "Name             0\n",
       "Sex              0\n",
       "Age             86\n",
       "SibSp            0\n",
       "Parch            0\n",
       "Ticket           0\n",
       "Fare             1\n",
       "Cabin          327\n",
       "Embarked         0\n",
       "dtype: int64"
      ]
     },
     "execution_count": 10,
     "metadata": {},
     "output_type": "execute_result"
    }
   ],
   "source": [
    "#check for the null values in the dataset\n",
    "test_titanic.isnull().sum()"
   ]
  },
  {
   "cell_type": "markdown",
   "metadata": {
    "papermill": {
     "duration": 0.098457,
     "end_time": "2020-12-04T21:36:38.184513",
     "exception": false,
     "start_time": "2020-12-04T21:36:38.086056",
     "status": "completed"
    },
    "tags": []
   },
   "source": [
    "This shows Age and Cabin have a lot of null values compared to Fare feature."
   ]
  },
  {
   "cell_type": "markdown",
   "metadata": {
    "papermill": {
     "duration": 0.097282,
     "end_time": "2020-12-04T21:36:38.379841",
     "exception": false,
     "start_time": "2020-12-04T21:36:38.282559",
     "status": "completed"
    },
    "tags": []
   },
   "source": [
    "### Data Cleaning\n",
    "\n",
    "This section performs data cleaning to fill the missing values in train and test data. This is done by first concatenating the train and test datasets, drop unnecessary columns, use Ordinal Encoder to encode the string values in columns: Sex, Title, Emabrked features and finally perform IterativeImputer to fill missing values."
   ]
  },
  {
   "cell_type": "code",
   "execution_count": 11,
   "metadata": {
    "execution": {
     "iopub.execute_input": "2020-12-04T21:36:38.588781Z",
     "iopub.status.busy": "2020-12-04T21:36:38.587731Z",
     "iopub.status.idle": "2020-12-04T21:36:38.592110Z",
     "shell.execute_reply": "2020-12-04T21:36:38.591397Z"
    },
    "papermill": {
     "duration": 0.1149,
     "end_time": "2020-12-04T21:36:38.592293",
     "exception": false,
     "start_time": "2020-12-04T21:36:38.477393",
     "status": "completed"
    },
    "tags": []
   },
   "outputs": [
    {
     "name": "stdout",
     "output_type": "stream",
     "text": [
      "X.shape: (891, 11)\n",
      "y.shape: (891,)\n"
     ]
    }
   ],
   "source": [
    "#divide the train data into input features data: X and output dependent feature: y\n",
    "X = train_titanic.drop(columns = \"Survived\", axis = 1)\n",
    "y = train_titanic[\"Survived\"]\n",
    "\n",
    "#check for the shape of i/p and o/p data\n",
    "print(\"X.shape:\",X.shape)\n",
    "print(\"y.shape:\",y.shape)"
   ]
  },
  {
   "cell_type": "code",
   "execution_count": 12,
   "metadata": {
    "execution": {
     "iopub.execute_input": "2020-12-04T21:36:38.809673Z",
     "iopub.status.busy": "2020-12-04T21:36:38.808667Z",
     "iopub.status.idle": "2020-12-04T21:36:38.813704Z",
     "shell.execute_reply": "2020-12-04T21:36:38.813075Z"
    },
    "papermill": {
     "duration": 0.121649,
     "end_time": "2020-12-04T21:36:38.813827",
     "exception": false,
     "start_time": "2020-12-04T21:36:38.692178",
     "status": "completed"
    },
    "tags": []
   },
   "outputs": [
    {
     "data": {
      "text/html": [
       "<div>\n",
       "<style scoped>\n",
       "    .dataframe tbody tr th:only-of-type {\n",
       "        vertical-align: middle;\n",
       "    }\n",
       "\n",
       "    .dataframe tbody tr th {\n",
       "        vertical-align: top;\n",
       "    }\n",
       "\n",
       "    .dataframe thead th {\n",
       "        text-align: right;\n",
       "    }\n",
       "</style>\n",
       "<table border=\"1\" class=\"dataframe\">\n",
       "  <thead>\n",
       "    <tr style=\"text-align: right;\">\n",
       "      <th></th>\n",
       "      <th>PassengerId</th>\n",
       "      <th>Pclass</th>\n",
       "      <th>Name</th>\n",
       "      <th>Sex</th>\n",
       "      <th>Age</th>\n",
       "      <th>SibSp</th>\n",
       "      <th>Parch</th>\n",
       "      <th>Ticket</th>\n",
       "      <th>Fare</th>\n",
       "      <th>Cabin</th>\n",
       "      <th>Embarked</th>\n",
       "    </tr>\n",
       "  </thead>\n",
       "  <tbody>\n",
       "    <tr>\n",
       "      <th>0</th>\n",
       "      <td>1</td>\n",
       "      <td>3</td>\n",
       "      <td>Braund, Mr. Owen Harris</td>\n",
       "      <td>male</td>\n",
       "      <td>22.0</td>\n",
       "      <td>1</td>\n",
       "      <td>0</td>\n",
       "      <td>A/5 21171</td>\n",
       "      <td>7.2500</td>\n",
       "      <td>NaN</td>\n",
       "      <td>S</td>\n",
       "    </tr>\n",
       "    <tr>\n",
       "      <th>1</th>\n",
       "      <td>2</td>\n",
       "      <td>1</td>\n",
       "      <td>Cumings, Mrs. John Bradley (Florence Briggs Th...</td>\n",
       "      <td>female</td>\n",
       "      <td>38.0</td>\n",
       "      <td>1</td>\n",
       "      <td>0</td>\n",
       "      <td>PC 17599</td>\n",
       "      <td>71.2833</td>\n",
       "      <td>C85</td>\n",
       "      <td>C</td>\n",
       "    </tr>\n",
       "    <tr>\n",
       "      <th>2</th>\n",
       "      <td>3</td>\n",
       "      <td>3</td>\n",
       "      <td>Heikkinen, Miss. Laina</td>\n",
       "      <td>female</td>\n",
       "      <td>26.0</td>\n",
       "      <td>0</td>\n",
       "      <td>0</td>\n",
       "      <td>STON/O2. 3101282</td>\n",
       "      <td>7.9250</td>\n",
       "      <td>NaN</td>\n",
       "      <td>S</td>\n",
       "    </tr>\n",
       "  </tbody>\n",
       "</table>\n",
       "</div>"
      ],
      "text/plain": [
       "   PassengerId  Pclass                                               Name  \\\n",
       "0            1       3                            Braund, Mr. Owen Harris   \n",
       "1            2       1  Cumings, Mrs. John Bradley (Florence Briggs Th...   \n",
       "2            3       3                             Heikkinen, Miss. Laina   \n",
       "\n",
       "      Sex   Age  SibSp  Parch            Ticket     Fare Cabin Embarked  \n",
       "0    male  22.0      1      0         A/5 21171   7.2500   NaN        S  \n",
       "1  female  38.0      1      0          PC 17599  71.2833   C85        C  \n",
       "2  female  26.0      0      0  STON/O2. 3101282   7.9250   NaN        S  "
      ]
     },
     "execution_count": 12,
     "metadata": {},
     "output_type": "execute_result"
    }
   ],
   "source": [
    "#check few instances of input data\n",
    "X.head(3)"
   ]
  },
  {
   "cell_type": "code",
   "execution_count": 13,
   "metadata": {
    "execution": {
     "iopub.execute_input": "2020-12-04T21:36:39.020191Z",
     "iopub.status.busy": "2020-12-04T21:36:39.019289Z",
     "iopub.status.idle": "2020-12-04T21:36:39.024287Z",
     "shell.execute_reply": "2020-12-04T21:36:39.023469Z"
    },
    "papermill": {
     "duration": 0.110969,
     "end_time": "2020-12-04T21:36:39.024439",
     "exception": false,
     "start_time": "2020-12-04T21:36:38.913470",
     "status": "completed"
    },
    "tags": []
   },
   "outputs": [
    {
     "data": {
      "text/plain": [
       "0    0\n",
       "1    1\n",
       "2    1\n",
       "3    1\n",
       "4    0\n",
       "5    0\n",
       "6    0\n",
       "7    0\n",
       "8    1\n",
       "9    1\n",
       "Name: Survived, dtype: int64"
      ]
     },
     "execution_count": 13,
     "metadata": {},
     "output_type": "execute_result"
    }
   ],
   "source": [
    "#check few instances of output data\n",
    "y[:10]"
   ]
  },
  {
   "cell_type": "code",
   "execution_count": 14,
   "metadata": {
    "execution": {
     "iopub.execute_input": "2020-12-04T21:36:39.230417Z",
     "iopub.status.busy": "2020-12-04T21:36:39.229456Z",
     "iopub.status.idle": "2020-12-04T21:36:39.234945Z",
     "shell.execute_reply": "2020-12-04T21:36:39.234104Z"
    },
    "papermill": {
     "duration": 0.109849,
     "end_time": "2020-12-04T21:36:39.235100",
     "exception": false,
     "start_time": "2020-12-04T21:36:39.125251",
     "status": "completed"
    },
    "tags": []
   },
   "outputs": [
    {
     "data": {
      "text/plain": [
       "891"
      ]
     },
     "execution_count": 14,
     "metadata": {},
     "output_type": "execute_result"
    }
   ],
   "source": [
    "len(y)"
   ]
  },
  {
   "cell_type": "code",
   "execution_count": 15,
   "metadata": {
    "execution": {
     "iopub.execute_input": "2020-12-04T21:36:39.458172Z",
     "iopub.status.busy": "2020-12-04T21:36:39.457167Z",
     "iopub.status.idle": "2020-12-04T21:36:39.460975Z",
     "shell.execute_reply": "2020-12-04T21:36:39.460059Z"
    },
    "papermill": {
     "duration": 0.121762,
     "end_time": "2020-12-04T21:36:39.461199",
     "exception": false,
     "start_time": "2020-12-04T21:36:39.339437",
     "status": "completed"
    },
    "tags": []
   },
   "outputs": [],
   "source": [
    "#concatenate train and test data into a single dataset: titanic\n",
    "titanic = X.append(test_titanic, ignore_index = True)"
   ]
  },
  {
   "cell_type": "markdown",
   "metadata": {
    "papermill": {
     "duration": 0.103383,
     "end_time": "2020-12-04T21:36:39.669926",
     "exception": false,
     "start_time": "2020-12-04T21:36:39.566543",
     "status": "completed"
    },
    "tags": []
   },
   "source": [
    "Check if the concatenation was successful."
   ]
  },
  {
   "cell_type": "code",
   "execution_count": 16,
   "metadata": {
    "execution": {
     "iopub.execute_input": "2020-12-04T21:36:39.941888Z",
     "iopub.status.busy": "2020-12-04T21:36:39.940835Z",
     "iopub.status.idle": "2020-12-04T21:36:39.945164Z",
     "shell.execute_reply": "2020-12-04T21:36:39.945792Z"
    },
    "papermill": {
     "duration": 0.123072,
     "end_time": "2020-12-04T21:36:39.945964",
     "exception": false,
     "start_time": "2020-12-04T21:36:39.822892",
     "status": "completed"
    },
    "tags": []
   },
   "outputs": [
    {
     "data": {
      "text/html": [
       "<div>\n",
       "<style scoped>\n",
       "    .dataframe tbody tr th:only-of-type {\n",
       "        vertical-align: middle;\n",
       "    }\n",
       "\n",
       "    .dataframe tbody tr th {\n",
       "        vertical-align: top;\n",
       "    }\n",
       "\n",
       "    .dataframe thead th {\n",
       "        text-align: right;\n",
       "    }\n",
       "</style>\n",
       "<table border=\"1\" class=\"dataframe\">\n",
       "  <thead>\n",
       "    <tr style=\"text-align: right;\">\n",
       "      <th></th>\n",
       "      <th>PassengerId</th>\n",
       "      <th>Pclass</th>\n",
       "      <th>Name</th>\n",
       "      <th>Sex</th>\n",
       "      <th>Age</th>\n",
       "      <th>SibSp</th>\n",
       "      <th>Parch</th>\n",
       "      <th>Ticket</th>\n",
       "      <th>Fare</th>\n",
       "      <th>Cabin</th>\n",
       "      <th>Embarked</th>\n",
       "    </tr>\n",
       "  </thead>\n",
       "  <tbody>\n",
       "    <tr>\n",
       "      <th>0</th>\n",
       "      <td>1</td>\n",
       "      <td>3</td>\n",
       "      <td>Braund, Mr. Owen Harris</td>\n",
       "      <td>male</td>\n",
       "      <td>22.0</td>\n",
       "      <td>1</td>\n",
       "      <td>0</td>\n",
       "      <td>A/5 21171</td>\n",
       "      <td>7.2500</td>\n",
       "      <td>NaN</td>\n",
       "      <td>S</td>\n",
       "    </tr>\n",
       "    <tr>\n",
       "      <th>1</th>\n",
       "      <td>2</td>\n",
       "      <td>1</td>\n",
       "      <td>Cumings, Mrs. John Bradley (Florence Briggs Th...</td>\n",
       "      <td>female</td>\n",
       "      <td>38.0</td>\n",
       "      <td>1</td>\n",
       "      <td>0</td>\n",
       "      <td>PC 17599</td>\n",
       "      <td>71.2833</td>\n",
       "      <td>C85</td>\n",
       "      <td>C</td>\n",
       "    </tr>\n",
       "    <tr>\n",
       "      <th>2</th>\n",
       "      <td>3</td>\n",
       "      <td>3</td>\n",
       "      <td>Heikkinen, Miss. Laina</td>\n",
       "      <td>female</td>\n",
       "      <td>26.0</td>\n",
       "      <td>0</td>\n",
       "      <td>0</td>\n",
       "      <td>STON/O2. 3101282</td>\n",
       "      <td>7.9250</td>\n",
       "      <td>NaN</td>\n",
       "      <td>S</td>\n",
       "    </tr>\n",
       "    <tr>\n",
       "      <th>3</th>\n",
       "      <td>4</td>\n",
       "      <td>1</td>\n",
       "      <td>Futrelle, Mrs. Jacques Heath (Lily May Peel)</td>\n",
       "      <td>female</td>\n",
       "      <td>35.0</td>\n",
       "      <td>1</td>\n",
       "      <td>0</td>\n",
       "      <td>113803</td>\n",
       "      <td>53.1000</td>\n",
       "      <td>C123</td>\n",
       "      <td>S</td>\n",
       "    </tr>\n",
       "    <tr>\n",
       "      <th>4</th>\n",
       "      <td>5</td>\n",
       "      <td>3</td>\n",
       "      <td>Allen, Mr. William Henry</td>\n",
       "      <td>male</td>\n",
       "      <td>35.0</td>\n",
       "      <td>0</td>\n",
       "      <td>0</td>\n",
       "      <td>373450</td>\n",
       "      <td>8.0500</td>\n",
       "      <td>NaN</td>\n",
       "      <td>S</td>\n",
       "    </tr>\n",
       "  </tbody>\n",
       "</table>\n",
       "</div>"
      ],
      "text/plain": [
       "   PassengerId  Pclass                                               Name  \\\n",
       "0            1       3                            Braund, Mr. Owen Harris   \n",
       "1            2       1  Cumings, Mrs. John Bradley (Florence Briggs Th...   \n",
       "2            3       3                             Heikkinen, Miss. Laina   \n",
       "3            4       1       Futrelle, Mrs. Jacques Heath (Lily May Peel)   \n",
       "4            5       3                           Allen, Mr. William Henry   \n",
       "\n",
       "      Sex   Age  SibSp  Parch            Ticket     Fare Cabin Embarked  \n",
       "0    male  22.0      1      0         A/5 21171   7.2500   NaN        S  \n",
       "1  female  38.0      1      0          PC 17599  71.2833   C85        C  \n",
       "2  female  26.0      0      0  STON/O2. 3101282   7.9250   NaN        S  \n",
       "3  female  35.0      1      0            113803  53.1000  C123        S  \n",
       "4    male  35.0      0      0            373450   8.0500   NaN        S  "
      ]
     },
     "execution_count": 16,
     "metadata": {},
     "output_type": "execute_result"
    }
   ],
   "source": [
    "titanic.head()"
   ]
  },
  {
   "cell_type": "code",
   "execution_count": 17,
   "metadata": {
    "execution": {
     "iopub.execute_input": "2020-12-04T21:36:40.179857Z",
     "iopub.status.busy": "2020-12-04T21:36:40.179050Z",
     "iopub.status.idle": "2020-12-04T21:36:40.184530Z",
     "shell.execute_reply": "2020-12-04T21:36:40.185119Z"
    },
    "papermill": {
     "duration": 0.13088,
     "end_time": "2020-12-04T21:36:40.185295",
     "exception": false,
     "start_time": "2020-12-04T21:36:40.054415",
     "status": "completed"
    },
    "tags": []
   },
   "outputs": [
    {
     "data": {
      "text/html": [
       "<div>\n",
       "<style scoped>\n",
       "    .dataframe tbody tr th:only-of-type {\n",
       "        vertical-align: middle;\n",
       "    }\n",
       "\n",
       "    .dataframe tbody tr th {\n",
       "        vertical-align: top;\n",
       "    }\n",
       "\n",
       "    .dataframe thead th {\n",
       "        text-align: right;\n",
       "    }\n",
       "</style>\n",
       "<table border=\"1\" class=\"dataframe\">\n",
       "  <thead>\n",
       "    <tr style=\"text-align: right;\">\n",
       "      <th></th>\n",
       "      <th>PassengerId</th>\n",
       "      <th>Pclass</th>\n",
       "      <th>Name</th>\n",
       "      <th>Sex</th>\n",
       "      <th>Age</th>\n",
       "      <th>SibSp</th>\n",
       "      <th>Parch</th>\n",
       "      <th>Ticket</th>\n",
       "      <th>Fare</th>\n",
       "      <th>Cabin</th>\n",
       "      <th>Embarked</th>\n",
       "    </tr>\n",
       "  </thead>\n",
       "  <tbody>\n",
       "    <tr>\n",
       "      <th>1304</th>\n",
       "      <td>1305</td>\n",
       "      <td>3</td>\n",
       "      <td>Spector, Mr. Woolf</td>\n",
       "      <td>male</td>\n",
       "      <td>NaN</td>\n",
       "      <td>0</td>\n",
       "      <td>0</td>\n",
       "      <td>A.5. 3236</td>\n",
       "      <td>8.0500</td>\n",
       "      <td>NaN</td>\n",
       "      <td>S</td>\n",
       "    </tr>\n",
       "    <tr>\n",
       "      <th>1305</th>\n",
       "      <td>1306</td>\n",
       "      <td>1</td>\n",
       "      <td>Oliva y Ocana, Dona. Fermina</td>\n",
       "      <td>female</td>\n",
       "      <td>39.0</td>\n",
       "      <td>0</td>\n",
       "      <td>0</td>\n",
       "      <td>PC 17758</td>\n",
       "      <td>108.9000</td>\n",
       "      <td>C105</td>\n",
       "      <td>C</td>\n",
       "    </tr>\n",
       "    <tr>\n",
       "      <th>1306</th>\n",
       "      <td>1307</td>\n",
       "      <td>3</td>\n",
       "      <td>Saether, Mr. Simon Sivertsen</td>\n",
       "      <td>male</td>\n",
       "      <td>38.5</td>\n",
       "      <td>0</td>\n",
       "      <td>0</td>\n",
       "      <td>SOTON/O.Q. 3101262</td>\n",
       "      <td>7.2500</td>\n",
       "      <td>NaN</td>\n",
       "      <td>S</td>\n",
       "    </tr>\n",
       "    <tr>\n",
       "      <th>1307</th>\n",
       "      <td>1308</td>\n",
       "      <td>3</td>\n",
       "      <td>Ware, Mr. Frederick</td>\n",
       "      <td>male</td>\n",
       "      <td>NaN</td>\n",
       "      <td>0</td>\n",
       "      <td>0</td>\n",
       "      <td>359309</td>\n",
       "      <td>8.0500</td>\n",
       "      <td>NaN</td>\n",
       "      <td>S</td>\n",
       "    </tr>\n",
       "    <tr>\n",
       "      <th>1308</th>\n",
       "      <td>1309</td>\n",
       "      <td>3</td>\n",
       "      <td>Peter, Master. Michael J</td>\n",
       "      <td>male</td>\n",
       "      <td>NaN</td>\n",
       "      <td>1</td>\n",
       "      <td>1</td>\n",
       "      <td>2668</td>\n",
       "      <td>22.3583</td>\n",
       "      <td>NaN</td>\n",
       "      <td>C</td>\n",
       "    </tr>\n",
       "  </tbody>\n",
       "</table>\n",
       "</div>"
      ],
      "text/plain": [
       "      PassengerId  Pclass                          Name     Sex   Age  SibSp  \\\n",
       "1304         1305       3            Spector, Mr. Woolf    male   NaN      0   \n",
       "1305         1306       1  Oliva y Ocana, Dona. Fermina  female  39.0      0   \n",
       "1306         1307       3  Saether, Mr. Simon Sivertsen    male  38.5      0   \n",
       "1307         1308       3           Ware, Mr. Frederick    male   NaN      0   \n",
       "1308         1309       3      Peter, Master. Michael J    male   NaN      1   \n",
       "\n",
       "      Parch              Ticket      Fare Cabin Embarked  \n",
       "1304      0           A.5. 3236    8.0500   NaN        S  \n",
       "1305      0            PC 17758  108.9000  C105        C  \n",
       "1306      0  SOTON/O.Q. 3101262    7.2500   NaN        S  \n",
       "1307      0              359309    8.0500   NaN        S  \n",
       "1308      1                2668   22.3583   NaN        C  "
      ]
     },
     "execution_count": 17,
     "metadata": {},
     "output_type": "execute_result"
    }
   ],
   "source": [
    "titanic.tail()"
   ]
  },
  {
   "cell_type": "code",
   "execution_count": 18,
   "metadata": {
    "execution": {
     "iopub.execute_input": "2020-12-04T21:36:40.404935Z",
     "iopub.status.busy": "2020-12-04T21:36:40.403992Z",
     "iopub.status.idle": "2020-12-04T21:36:40.423134Z",
     "shell.execute_reply": "2020-12-04T21:36:40.417386Z"
    },
    "papermill": {
     "duration": 0.128724,
     "end_time": "2020-12-04T21:36:40.423305",
     "exception": false,
     "start_time": "2020-12-04T21:36:40.294581",
     "status": "completed"
    },
    "tags": []
   },
   "outputs": [
    {
     "name": "stdout",
     "output_type": "stream",
     "text": [
      "<class 'pandas.core.frame.DataFrame'>\n",
      "RangeIndex: 1309 entries, 0 to 1308\n",
      "Data columns (total 11 columns):\n",
      " #   Column       Non-Null Count  Dtype  \n",
      "---  ------       --------------  -----  \n",
      " 0   PassengerId  1309 non-null   int64  \n",
      " 1   Pclass       1309 non-null   int64  \n",
      " 2   Name         1309 non-null   object \n",
      " 3   Sex          1309 non-null   object \n",
      " 4   Age          1046 non-null   float64\n",
      " 5   SibSp        1309 non-null   int64  \n",
      " 6   Parch        1309 non-null   int64  \n",
      " 7   Ticket       1309 non-null   object \n",
      " 8   Fare         1308 non-null   float64\n",
      " 9   Cabin        295 non-null    object \n",
      " 10  Embarked     1307 non-null   object \n",
      "dtypes: float64(2), int64(4), object(5)\n",
      "memory usage: 112.6+ KB\n"
     ]
    }
   ],
   "source": [
    "titanic.info()"
   ]
  },
  {
   "cell_type": "markdown",
   "metadata": {
    "papermill": {
     "duration": 0.104553,
     "end_time": "2020-12-04T21:36:40.635475",
     "exception": false,
     "start_time": "2020-12-04T21:36:40.530922",
     "status": "completed"
    },
    "tags": []
   },
   "source": [
    "After the concatenation, the final dataset has 1309 entries, with 11 feature columns."
   ]
  },
  {
   "cell_type": "code",
   "execution_count": 19,
   "metadata": {
    "execution": {
     "iopub.execute_input": "2020-12-04T21:36:40.851178Z",
     "iopub.status.busy": "2020-12-04T21:36:40.849048Z",
     "iopub.status.idle": "2020-12-04T21:36:40.855603Z",
     "shell.execute_reply": "2020-12-04T21:36:40.855007Z"
    },
    "papermill": {
     "duration": 0.115785,
     "end_time": "2020-12-04T21:36:40.855739",
     "exception": false,
     "start_time": "2020-12-04T21:36:40.739954",
     "status": "completed"
    },
    "tags": []
   },
   "outputs": [
    {
     "data": {
      "text/plain": [
       "PassengerId       0\n",
       "Pclass            0\n",
       "Name              0\n",
       "Sex               0\n",
       "Age             263\n",
       "SibSp             0\n",
       "Parch             0\n",
       "Ticket            0\n",
       "Fare              1\n",
       "Cabin          1014\n",
       "Embarked          2\n",
       "dtype: int64"
      ]
     },
     "execution_count": 19,
     "metadata": {},
     "output_type": "execute_result"
    }
   ],
   "source": [
    "titanic.isnull().sum()"
   ]
  },
  {
   "cell_type": "markdown",
   "metadata": {
    "papermill": {
     "duration": 0.102301,
     "end_time": "2020-12-04T21:36:41.060166",
     "exception": false,
     "start_time": "2020-12-04T21:36:40.957865",
     "status": "completed"
    },
    "tags": []
   },
   "source": [
    "The dataset has missing values in columns: Age, Fare, Embarked and Cabin."
   ]
  },
  {
   "cell_type": "markdown",
   "metadata": {
    "papermill": {
     "duration": 0.103629,
     "end_time": "2020-12-04T21:36:41.267522",
     "exception": false,
     "start_time": "2020-12-04T21:36:41.163893",
     "status": "completed"
    },
    "tags": []
   },
   "source": [
    "Create a below new features as follows:\n",
    "\n",
    "1. \"Family_Size\" = This calculates the total number of people travelling aboard as a family. It is calculated as: Family_Size = Parch+SibSp+1\n",
    "\n",
    "2. \"Total_fare\" = Total_fare is the fare paid per family to travel on the Titanic. The \"Fare\" column gives the individual fare values. Thus Total_fare is calculated as: Total_fare = Fare * Famliy_size\n",
    "\n",
    "3. \"Title\" = This feature contains the prefixes used for a person's name. This is extracted from the \"Name\" column and is used for modelling, since from raw data visualization we have seen that Mrs, Miss, Royal have higher chance of survival compared to Mr, Officer."
   ]
  },
  {
   "cell_type": "code",
   "execution_count": 20,
   "metadata": {
    "execution": {
     "iopub.execute_input": "2020-12-04T21:36:41.481074Z",
     "iopub.status.busy": "2020-12-04T21:36:41.480274Z",
     "iopub.status.idle": "2020-12-04T21:36:41.511033Z",
     "shell.execute_reply": "2020-12-04T21:36:41.510201Z"
    },
    "papermill": {
     "duration": 0.140015,
     "end_time": "2020-12-04T21:36:41.511219",
     "exception": false,
     "start_time": "2020-12-04T21:36:41.371204",
     "status": "completed"
    },
    "tags": []
   },
   "outputs": [],
   "source": [
    "#Family_size feature\n",
    "titanic[\"Family_size\"] = titanic[\"Parch\"] + titanic[\"SibSp\"] + 1"
   ]
  },
  {
   "cell_type": "code",
   "execution_count": 21,
   "metadata": {
    "execution": {
     "iopub.execute_input": "2020-12-04T21:36:41.725947Z",
     "iopub.status.busy": "2020-12-04T21:36:41.725076Z",
     "iopub.status.idle": "2020-12-04T21:36:41.728620Z",
     "shell.execute_reply": "2020-12-04T21:36:41.727917Z"
    },
    "papermill": {
     "duration": 0.112694,
     "end_time": "2020-12-04T21:36:41.728770",
     "exception": false,
     "start_time": "2020-12-04T21:36:41.616076",
     "status": "completed"
    },
    "tags": []
   },
   "outputs": [],
   "source": [
    "#Total_fare feature\n",
    "titanic[\"Total_fare\"] = titanic[\"Fare\"] * titanic[\"Family_size\"]"
   ]
  },
  {
   "cell_type": "code",
   "execution_count": 22,
   "metadata": {
    "execution": {
     "iopub.execute_input": "2020-12-04T21:36:41.956887Z",
     "iopub.status.busy": "2020-12-04T21:36:41.956061Z",
     "iopub.status.idle": "2020-12-04T21:36:41.959573Z",
     "shell.execute_reply": "2020-12-04T21:36:41.958766Z"
    },
    "papermill": {
     "duration": 0.123247,
     "end_time": "2020-12-04T21:36:41.959701",
     "exception": false,
     "start_time": "2020-12-04T21:36:41.836454",
     "status": "completed"
    },
    "tags": []
   },
   "outputs": [],
   "source": [
    "#Title feature\n",
    "#extract the title from the Name using re\n",
    "titanic[\"Title\"] = list(map(lambda x: (re.search(r'[a-zA-Z]+\\.',x).group()).capitalize(),titanic[\"Name\"].values))"
   ]
  },
  {
   "cell_type": "code",
   "execution_count": 23,
   "metadata": {
    "execution": {
     "iopub.execute_input": "2020-12-04T21:36:42.176253Z",
     "iopub.status.busy": "2020-12-04T21:36:42.175225Z",
     "iopub.status.idle": "2020-12-04T21:36:42.180347Z",
     "shell.execute_reply": "2020-12-04T21:36:42.179535Z"
    },
    "papermill": {
     "duration": 0.115877,
     "end_time": "2020-12-04T21:36:42.180481",
     "exception": false,
     "start_time": "2020-12-04T21:36:42.064604",
     "status": "completed"
    },
    "tags": []
   },
   "outputs": [
    {
     "data": {
      "text/plain": [
       "Mr.          757\n",
       "Miss.        260\n",
       "Mrs.         197\n",
       "Master.       61\n",
       "Rev.           8\n",
       "Dr.            8\n",
       "Col.           4\n",
       "Ms.            2\n",
       "Mlle.          2\n",
       "Major.         2\n",
       "Dona.          1\n",
       "Lady.          1\n",
       "Countess.      1\n",
       "Jonkheer.      1\n",
       "Sir.           1\n",
       "Don.           1\n",
       "Capt.          1\n",
       "Mme.           1\n",
       "Name: Title, dtype: int64"
      ]
     },
     "execution_count": 23,
     "metadata": {},
     "output_type": "execute_result"
    }
   ],
   "source": [
    "titanic[\"Title\"].value_counts()"
   ]
  },
  {
   "cell_type": "markdown",
   "metadata": {
    "papermill": {
     "duration": 0.102881,
     "end_time": "2020-12-04T21:36:42.387563",
     "exception": false,
     "start_time": "2020-12-04T21:36:42.284682",
     "status": "completed"
    },
    "tags": []
   },
   "source": [
    "The Title column contains multiple title that seems similar. Thus we'll group and map some of the titles into common title."
   ]
  },
  {
   "cell_type": "code",
   "execution_count": 24,
   "metadata": {
    "execution": {
     "iopub.execute_input": "2020-12-04T21:36:42.605734Z",
     "iopub.status.busy": "2020-12-04T21:36:42.604862Z",
     "iopub.status.idle": "2020-12-04T21:36:42.608144Z",
     "shell.execute_reply": "2020-12-04T21:36:42.607368Z"
    },
    "papermill": {
     "duration": 0.116665,
     "end_time": "2020-12-04T21:36:42.608276",
     "exception": false,
     "start_time": "2020-12-04T21:36:42.491611",
     "status": "completed"
    },
    "tags": []
   },
   "outputs": [],
   "source": [
    "titanic[\"Title\"] = titanic[\"Title\"].map({\"Mr.\":\"Mr\",\"Miss.\":\"Miss\",\"Mrs.\":\"Mrs\",\"Master.\":\"Master\",\"Dr.\":\"Officer\",\"Rev.\":\"Officer\",\"Major.\":\"Officer\",\"Col.\":\"Officer\",\"Mlle.\":\"Miss\",\"Mme.\":\"Miss\",\"Jonkheer.\":\"Royal\",\"Capt.\":\"Officer\",\"Sir.\":\"Royal\",\"Don.\":\"Royal\",\"Ms.\":\"Miss\",\"Lady.\":\"Royal\",\"Countess.\":\"Royal\"})"
   ]
  },
  {
   "cell_type": "markdown",
   "metadata": {
    "papermill": {
     "duration": 0.103393,
     "end_time": "2020-12-04T21:36:42.814324",
     "exception": false,
     "start_time": "2020-12-04T21:36:42.710931",
     "status": "completed"
    },
    "tags": []
   },
   "source": [
    "Check for the data if feature extraction of Family_size, Total_fare and Title was successful."
   ]
  },
  {
   "cell_type": "code",
   "execution_count": 25,
   "metadata": {
    "execution": {
     "iopub.execute_input": "2020-12-04T21:36:43.046894Z",
     "iopub.status.busy": "2020-12-04T21:36:43.032013Z",
     "iopub.status.idle": "2020-12-04T21:36:43.052495Z",
     "shell.execute_reply": "2020-12-04T21:36:43.051692Z"
    },
    "papermill": {
     "duration": 0.135896,
     "end_time": "2020-12-04T21:36:43.052639",
     "exception": false,
     "start_time": "2020-12-04T21:36:42.916743",
     "status": "completed"
    },
    "tags": []
   },
   "outputs": [
    {
     "data": {
      "text/html": [
       "<div>\n",
       "<style scoped>\n",
       "    .dataframe tbody tr th:only-of-type {\n",
       "        vertical-align: middle;\n",
       "    }\n",
       "\n",
       "    .dataframe tbody tr th {\n",
       "        vertical-align: top;\n",
       "    }\n",
       "\n",
       "    .dataframe thead th {\n",
       "        text-align: right;\n",
       "    }\n",
       "</style>\n",
       "<table border=\"1\" class=\"dataframe\">\n",
       "  <thead>\n",
       "    <tr style=\"text-align: right;\">\n",
       "      <th></th>\n",
       "      <th>PassengerId</th>\n",
       "      <th>Pclass</th>\n",
       "      <th>Name</th>\n",
       "      <th>Sex</th>\n",
       "      <th>Age</th>\n",
       "      <th>SibSp</th>\n",
       "      <th>Parch</th>\n",
       "      <th>Ticket</th>\n",
       "      <th>Fare</th>\n",
       "      <th>Cabin</th>\n",
       "      <th>Embarked</th>\n",
       "      <th>Family_size</th>\n",
       "      <th>Total_fare</th>\n",
       "      <th>Title</th>\n",
       "    </tr>\n",
       "  </thead>\n",
       "  <tbody>\n",
       "    <tr>\n",
       "      <th>0</th>\n",
       "      <td>1</td>\n",
       "      <td>3</td>\n",
       "      <td>Braund, Mr. Owen Harris</td>\n",
       "      <td>male</td>\n",
       "      <td>22.0</td>\n",
       "      <td>1</td>\n",
       "      <td>0</td>\n",
       "      <td>A/5 21171</td>\n",
       "      <td>7.2500</td>\n",
       "      <td>NaN</td>\n",
       "      <td>S</td>\n",
       "      <td>2</td>\n",
       "      <td>14.5000</td>\n",
       "      <td>Mr</td>\n",
       "    </tr>\n",
       "    <tr>\n",
       "      <th>1</th>\n",
       "      <td>2</td>\n",
       "      <td>1</td>\n",
       "      <td>Cumings, Mrs. John Bradley (Florence Briggs Th...</td>\n",
       "      <td>female</td>\n",
       "      <td>38.0</td>\n",
       "      <td>1</td>\n",
       "      <td>0</td>\n",
       "      <td>PC 17599</td>\n",
       "      <td>71.2833</td>\n",
       "      <td>C85</td>\n",
       "      <td>C</td>\n",
       "      <td>2</td>\n",
       "      <td>142.5666</td>\n",
       "      <td>Mrs</td>\n",
       "    </tr>\n",
       "    <tr>\n",
       "      <th>2</th>\n",
       "      <td>3</td>\n",
       "      <td>3</td>\n",
       "      <td>Heikkinen, Miss. Laina</td>\n",
       "      <td>female</td>\n",
       "      <td>26.0</td>\n",
       "      <td>0</td>\n",
       "      <td>0</td>\n",
       "      <td>STON/O2. 3101282</td>\n",
       "      <td>7.9250</td>\n",
       "      <td>NaN</td>\n",
       "      <td>S</td>\n",
       "      <td>1</td>\n",
       "      <td>7.9250</td>\n",
       "      <td>Miss</td>\n",
       "    </tr>\n",
       "    <tr>\n",
       "      <th>3</th>\n",
       "      <td>4</td>\n",
       "      <td>1</td>\n",
       "      <td>Futrelle, Mrs. Jacques Heath (Lily May Peel)</td>\n",
       "      <td>female</td>\n",
       "      <td>35.0</td>\n",
       "      <td>1</td>\n",
       "      <td>0</td>\n",
       "      <td>113803</td>\n",
       "      <td>53.1000</td>\n",
       "      <td>C123</td>\n",
       "      <td>S</td>\n",
       "      <td>2</td>\n",
       "      <td>106.2000</td>\n",
       "      <td>Mrs</td>\n",
       "    </tr>\n",
       "    <tr>\n",
       "      <th>4</th>\n",
       "      <td>5</td>\n",
       "      <td>3</td>\n",
       "      <td>Allen, Mr. William Henry</td>\n",
       "      <td>male</td>\n",
       "      <td>35.0</td>\n",
       "      <td>0</td>\n",
       "      <td>0</td>\n",
       "      <td>373450</td>\n",
       "      <td>8.0500</td>\n",
       "      <td>NaN</td>\n",
       "      <td>S</td>\n",
       "      <td>1</td>\n",
       "      <td>8.0500</td>\n",
       "      <td>Mr</td>\n",
       "    </tr>\n",
       "  </tbody>\n",
       "</table>\n",
       "</div>"
      ],
      "text/plain": [
       "   PassengerId  Pclass                                               Name  \\\n",
       "0            1       3                            Braund, Mr. Owen Harris   \n",
       "1            2       1  Cumings, Mrs. John Bradley (Florence Briggs Th...   \n",
       "2            3       3                             Heikkinen, Miss. Laina   \n",
       "3            4       1       Futrelle, Mrs. Jacques Heath (Lily May Peel)   \n",
       "4            5       3                           Allen, Mr. William Henry   \n",
       "\n",
       "      Sex   Age  SibSp  Parch            Ticket     Fare Cabin Embarked  \\\n",
       "0    male  22.0      1      0         A/5 21171   7.2500   NaN        S   \n",
       "1  female  38.0      1      0          PC 17599  71.2833   C85        C   \n",
       "2  female  26.0      0      0  STON/O2. 3101282   7.9250   NaN        S   \n",
       "3  female  35.0      1      0            113803  53.1000  C123        S   \n",
       "4    male  35.0      0      0            373450   8.0500   NaN        S   \n",
       "\n",
       "   Family_size  Total_fare Title  \n",
       "0            2     14.5000    Mr  \n",
       "1            2    142.5666   Mrs  \n",
       "2            1      7.9250  Miss  \n",
       "3            2    106.2000   Mrs  \n",
       "4            1      8.0500    Mr  "
      ]
     },
     "execution_count": 25,
     "metadata": {},
     "output_type": "execute_result"
    }
   ],
   "source": [
    "titanic.head()"
   ]
  },
  {
   "cell_type": "code",
   "execution_count": 26,
   "metadata": {
    "execution": {
     "iopub.execute_input": "2020-12-04T21:36:43.287045Z",
     "iopub.status.busy": "2020-12-04T21:36:43.286006Z",
     "iopub.status.idle": "2020-12-04T21:36:43.291343Z",
     "shell.execute_reply": "2020-12-04T21:36:43.290683Z"
    },
    "papermill": {
     "duration": 0.132166,
     "end_time": "2020-12-04T21:36:43.291497",
     "exception": false,
     "start_time": "2020-12-04T21:36:43.159331",
     "status": "completed"
    },
    "tags": []
   },
   "outputs": [
    {
     "data": {
      "text/html": [
       "<div>\n",
       "<style scoped>\n",
       "    .dataframe tbody tr th:only-of-type {\n",
       "        vertical-align: middle;\n",
       "    }\n",
       "\n",
       "    .dataframe tbody tr th {\n",
       "        vertical-align: top;\n",
       "    }\n",
       "\n",
       "    .dataframe thead th {\n",
       "        text-align: right;\n",
       "    }\n",
       "</style>\n",
       "<table border=\"1\" class=\"dataframe\">\n",
       "  <thead>\n",
       "    <tr style=\"text-align: right;\">\n",
       "      <th></th>\n",
       "      <th>PassengerId</th>\n",
       "      <th>Pclass</th>\n",
       "      <th>Name</th>\n",
       "      <th>Sex</th>\n",
       "      <th>Age</th>\n",
       "      <th>SibSp</th>\n",
       "      <th>Parch</th>\n",
       "      <th>Ticket</th>\n",
       "      <th>Fare</th>\n",
       "      <th>Cabin</th>\n",
       "      <th>Embarked</th>\n",
       "      <th>Family_size</th>\n",
       "      <th>Total_fare</th>\n",
       "      <th>Title</th>\n",
       "    </tr>\n",
       "  </thead>\n",
       "  <tbody>\n",
       "    <tr>\n",
       "      <th>1304</th>\n",
       "      <td>1305</td>\n",
       "      <td>3</td>\n",
       "      <td>Spector, Mr. Woolf</td>\n",
       "      <td>male</td>\n",
       "      <td>NaN</td>\n",
       "      <td>0</td>\n",
       "      <td>0</td>\n",
       "      <td>A.5. 3236</td>\n",
       "      <td>8.0500</td>\n",
       "      <td>NaN</td>\n",
       "      <td>S</td>\n",
       "      <td>1</td>\n",
       "      <td>8.0500</td>\n",
       "      <td>Mr</td>\n",
       "    </tr>\n",
       "    <tr>\n",
       "      <th>1305</th>\n",
       "      <td>1306</td>\n",
       "      <td>1</td>\n",
       "      <td>Oliva y Ocana, Dona. Fermina</td>\n",
       "      <td>female</td>\n",
       "      <td>39.0</td>\n",
       "      <td>0</td>\n",
       "      <td>0</td>\n",
       "      <td>PC 17758</td>\n",
       "      <td>108.9000</td>\n",
       "      <td>C105</td>\n",
       "      <td>C</td>\n",
       "      <td>1</td>\n",
       "      <td>108.9000</td>\n",
       "      <td>NaN</td>\n",
       "    </tr>\n",
       "    <tr>\n",
       "      <th>1306</th>\n",
       "      <td>1307</td>\n",
       "      <td>3</td>\n",
       "      <td>Saether, Mr. Simon Sivertsen</td>\n",
       "      <td>male</td>\n",
       "      <td>38.5</td>\n",
       "      <td>0</td>\n",
       "      <td>0</td>\n",
       "      <td>SOTON/O.Q. 3101262</td>\n",
       "      <td>7.2500</td>\n",
       "      <td>NaN</td>\n",
       "      <td>S</td>\n",
       "      <td>1</td>\n",
       "      <td>7.2500</td>\n",
       "      <td>Mr</td>\n",
       "    </tr>\n",
       "    <tr>\n",
       "      <th>1307</th>\n",
       "      <td>1308</td>\n",
       "      <td>3</td>\n",
       "      <td>Ware, Mr. Frederick</td>\n",
       "      <td>male</td>\n",
       "      <td>NaN</td>\n",
       "      <td>0</td>\n",
       "      <td>0</td>\n",
       "      <td>359309</td>\n",
       "      <td>8.0500</td>\n",
       "      <td>NaN</td>\n",
       "      <td>S</td>\n",
       "      <td>1</td>\n",
       "      <td>8.0500</td>\n",
       "      <td>Mr</td>\n",
       "    </tr>\n",
       "    <tr>\n",
       "      <th>1308</th>\n",
       "      <td>1309</td>\n",
       "      <td>3</td>\n",
       "      <td>Peter, Master. Michael J</td>\n",
       "      <td>male</td>\n",
       "      <td>NaN</td>\n",
       "      <td>1</td>\n",
       "      <td>1</td>\n",
       "      <td>2668</td>\n",
       "      <td>22.3583</td>\n",
       "      <td>NaN</td>\n",
       "      <td>C</td>\n",
       "      <td>3</td>\n",
       "      <td>67.0749</td>\n",
       "      <td>Master</td>\n",
       "    </tr>\n",
       "  </tbody>\n",
       "</table>\n",
       "</div>"
      ],
      "text/plain": [
       "      PassengerId  Pclass                          Name     Sex   Age  SibSp  \\\n",
       "1304         1305       3            Spector, Mr. Woolf    male   NaN      0   \n",
       "1305         1306       1  Oliva y Ocana, Dona. Fermina  female  39.0      0   \n",
       "1306         1307       3  Saether, Mr. Simon Sivertsen    male  38.5      0   \n",
       "1307         1308       3           Ware, Mr. Frederick    male   NaN      0   \n",
       "1308         1309       3      Peter, Master. Michael J    male   NaN      1   \n",
       "\n",
       "      Parch              Ticket      Fare Cabin Embarked  Family_size  \\\n",
       "1304      0           A.5. 3236    8.0500   NaN        S            1   \n",
       "1305      0            PC 17758  108.9000  C105        C            1   \n",
       "1306      0  SOTON/O.Q. 3101262    7.2500   NaN        S            1   \n",
       "1307      0              359309    8.0500   NaN        S            1   \n",
       "1308      1                2668   22.3583   NaN        C            3   \n",
       "\n",
       "      Total_fare   Title  \n",
       "1304      8.0500      Mr  \n",
       "1305    108.9000     NaN  \n",
       "1306      7.2500      Mr  \n",
       "1307      8.0500      Mr  \n",
       "1308     67.0749  Master  "
      ]
     },
     "execution_count": 26,
     "metadata": {},
     "output_type": "execute_result"
    }
   ],
   "source": [
    "titanic.tail()"
   ]
  },
  {
   "cell_type": "markdown",
   "metadata": {
    "papermill": {
     "duration": 0.107617,
     "end_time": "2020-12-04T21:36:43.504129",
     "exception": false,
     "start_time": "2020-12-04T21:36:43.396512",
     "status": "completed"
    },
    "tags": []
   },
   "source": [
    "Drop unnecessary columns. \n",
    "1. PassengerID: Since this is only on ID column, this is not required for modelling and prediction\n",
    "2. Name, Fare, SipSp, Parch: Since we extracted new features from these existing features, these columns are dropped too\n",
    "3. Ticket: This contains the ticket number which again is not required for modelling and prediction\n",
    "4. Cabin: This column contains the cabin in which passengers were travelling. This column has lot of missing values, about 70% of data is missing and filling this column is difficult with having only 30% of the data. Filling this column can result in false predictions and thus it is dropped."
   ]
  },
  {
   "cell_type": "code",
   "execution_count": 27,
   "metadata": {
    "execution": {
     "iopub.execute_input": "2020-12-04T21:36:43.724390Z",
     "iopub.status.busy": "2020-12-04T21:36:43.723269Z",
     "iopub.status.idle": "2020-12-04T21:36:43.728939Z",
     "shell.execute_reply": "2020-12-04T21:36:43.728346Z"
    },
    "papermill": {
     "duration": 0.120009,
     "end_time": "2020-12-04T21:36:43.729071",
     "exception": false,
     "start_time": "2020-12-04T21:36:43.609062",
     "status": "completed"
    },
    "tags": []
   },
   "outputs": [],
   "source": [
    "titanic.drop(columns = [\"PassengerId\",\"Name\",\"Ticket\",\"Cabin\",\"SibSp\",\"Parch\",\"Fare\"], axis = 1, inplace = True)"
   ]
  },
  {
   "cell_type": "markdown",
   "metadata": {
    "papermill": {
     "duration": 0.104509,
     "end_time": "2020-12-04T21:36:43.939543",
     "exception": false,
     "start_time": "2020-12-04T21:36:43.835034",
     "status": "completed"
    },
    "tags": []
   },
   "source": [
    "Check for the final dataset used for data cleaning."
   ]
  },
  {
   "cell_type": "code",
   "execution_count": 28,
   "metadata": {
    "execution": {
     "iopub.execute_input": "2020-12-04T21:36:44.166745Z",
     "iopub.status.busy": "2020-12-04T21:36:44.165566Z",
     "iopub.status.idle": "2020-12-04T21:36:44.169796Z",
     "shell.execute_reply": "2020-12-04T21:36:44.170346Z"
    },
    "papermill": {
     "duration": 0.125844,
     "end_time": "2020-12-04T21:36:44.170508",
     "exception": false,
     "start_time": "2020-12-04T21:36:44.044664",
     "status": "completed"
    },
    "tags": []
   },
   "outputs": [
    {
     "data": {
      "text/html": [
       "<div>\n",
       "<style scoped>\n",
       "    .dataframe tbody tr th:only-of-type {\n",
       "        vertical-align: middle;\n",
       "    }\n",
       "\n",
       "    .dataframe tbody tr th {\n",
       "        vertical-align: top;\n",
       "    }\n",
       "\n",
       "    .dataframe thead th {\n",
       "        text-align: right;\n",
       "    }\n",
       "</style>\n",
       "<table border=\"1\" class=\"dataframe\">\n",
       "  <thead>\n",
       "    <tr style=\"text-align: right;\">\n",
       "      <th></th>\n",
       "      <th>Pclass</th>\n",
       "      <th>Sex</th>\n",
       "      <th>Age</th>\n",
       "      <th>Embarked</th>\n",
       "      <th>Family_size</th>\n",
       "      <th>Total_fare</th>\n",
       "      <th>Title</th>\n",
       "    </tr>\n",
       "  </thead>\n",
       "  <tbody>\n",
       "    <tr>\n",
       "      <th>0</th>\n",
       "      <td>3</td>\n",
       "      <td>male</td>\n",
       "      <td>22.0</td>\n",
       "      <td>S</td>\n",
       "      <td>2</td>\n",
       "      <td>14.5000</td>\n",
       "      <td>Mr</td>\n",
       "    </tr>\n",
       "    <tr>\n",
       "      <th>1</th>\n",
       "      <td>1</td>\n",
       "      <td>female</td>\n",
       "      <td>38.0</td>\n",
       "      <td>C</td>\n",
       "      <td>2</td>\n",
       "      <td>142.5666</td>\n",
       "      <td>Mrs</td>\n",
       "    </tr>\n",
       "    <tr>\n",
       "      <th>2</th>\n",
       "      <td>3</td>\n",
       "      <td>female</td>\n",
       "      <td>26.0</td>\n",
       "      <td>S</td>\n",
       "      <td>1</td>\n",
       "      <td>7.9250</td>\n",
       "      <td>Miss</td>\n",
       "    </tr>\n",
       "    <tr>\n",
       "      <th>3</th>\n",
       "      <td>1</td>\n",
       "      <td>female</td>\n",
       "      <td>35.0</td>\n",
       "      <td>S</td>\n",
       "      <td>2</td>\n",
       "      <td>106.2000</td>\n",
       "      <td>Mrs</td>\n",
       "    </tr>\n",
       "    <tr>\n",
       "      <th>4</th>\n",
       "      <td>3</td>\n",
       "      <td>male</td>\n",
       "      <td>35.0</td>\n",
       "      <td>S</td>\n",
       "      <td>1</td>\n",
       "      <td>8.0500</td>\n",
       "      <td>Mr</td>\n",
       "    </tr>\n",
       "  </tbody>\n",
       "</table>\n",
       "</div>"
      ],
      "text/plain": [
       "   Pclass     Sex   Age Embarked  Family_size  Total_fare Title\n",
       "0       3    male  22.0        S            2     14.5000    Mr\n",
       "1       1  female  38.0        C            2    142.5666   Mrs\n",
       "2       3  female  26.0        S            1      7.9250  Miss\n",
       "3       1  female  35.0        S            2    106.2000   Mrs\n",
       "4       3    male  35.0        S            1      8.0500    Mr"
      ]
     },
     "execution_count": 28,
     "metadata": {},
     "output_type": "execute_result"
    }
   ],
   "source": [
    "titanic.head()"
   ]
  },
  {
   "cell_type": "code",
   "execution_count": 29,
   "metadata": {
    "execution": {
     "iopub.execute_input": "2020-12-04T21:36:44.398282Z",
     "iopub.status.busy": "2020-12-04T21:36:44.397354Z",
     "iopub.status.idle": "2020-12-04T21:36:44.402772Z",
     "shell.execute_reply": "2020-12-04T21:36:44.402067Z"
    },
    "papermill": {
     "duration": 0.125365,
     "end_time": "2020-12-04T21:36:44.402916",
     "exception": false,
     "start_time": "2020-12-04T21:36:44.277551",
     "status": "completed"
    },
    "tags": []
   },
   "outputs": [
    {
     "data": {
      "text/html": [
       "<div>\n",
       "<style scoped>\n",
       "    .dataframe tbody tr th:only-of-type {\n",
       "        vertical-align: middle;\n",
       "    }\n",
       "\n",
       "    .dataframe tbody tr th {\n",
       "        vertical-align: top;\n",
       "    }\n",
       "\n",
       "    .dataframe thead th {\n",
       "        text-align: right;\n",
       "    }\n",
       "</style>\n",
       "<table border=\"1\" class=\"dataframe\">\n",
       "  <thead>\n",
       "    <tr style=\"text-align: right;\">\n",
       "      <th></th>\n",
       "      <th>Pclass</th>\n",
       "      <th>Sex</th>\n",
       "      <th>Age</th>\n",
       "      <th>Embarked</th>\n",
       "      <th>Family_size</th>\n",
       "      <th>Total_fare</th>\n",
       "      <th>Title</th>\n",
       "    </tr>\n",
       "  </thead>\n",
       "  <tbody>\n",
       "    <tr>\n",
       "      <th>1304</th>\n",
       "      <td>3</td>\n",
       "      <td>male</td>\n",
       "      <td>NaN</td>\n",
       "      <td>S</td>\n",
       "      <td>1</td>\n",
       "      <td>8.0500</td>\n",
       "      <td>Mr</td>\n",
       "    </tr>\n",
       "    <tr>\n",
       "      <th>1305</th>\n",
       "      <td>1</td>\n",
       "      <td>female</td>\n",
       "      <td>39.0</td>\n",
       "      <td>C</td>\n",
       "      <td>1</td>\n",
       "      <td>108.9000</td>\n",
       "      <td>NaN</td>\n",
       "    </tr>\n",
       "    <tr>\n",
       "      <th>1306</th>\n",
       "      <td>3</td>\n",
       "      <td>male</td>\n",
       "      <td>38.5</td>\n",
       "      <td>S</td>\n",
       "      <td>1</td>\n",
       "      <td>7.2500</td>\n",
       "      <td>Mr</td>\n",
       "    </tr>\n",
       "    <tr>\n",
       "      <th>1307</th>\n",
       "      <td>3</td>\n",
       "      <td>male</td>\n",
       "      <td>NaN</td>\n",
       "      <td>S</td>\n",
       "      <td>1</td>\n",
       "      <td>8.0500</td>\n",
       "      <td>Mr</td>\n",
       "    </tr>\n",
       "    <tr>\n",
       "      <th>1308</th>\n",
       "      <td>3</td>\n",
       "      <td>male</td>\n",
       "      <td>NaN</td>\n",
       "      <td>C</td>\n",
       "      <td>3</td>\n",
       "      <td>67.0749</td>\n",
       "      <td>Master</td>\n",
       "    </tr>\n",
       "  </tbody>\n",
       "</table>\n",
       "</div>"
      ],
      "text/plain": [
       "      Pclass     Sex   Age Embarked  Family_size  Total_fare   Title\n",
       "1304       3    male   NaN        S            1      8.0500      Mr\n",
       "1305       1  female  39.0        C            1    108.9000     NaN\n",
       "1306       3    male  38.5        S            1      7.2500      Mr\n",
       "1307       3    male   NaN        S            1      8.0500      Mr\n",
       "1308       3    male   NaN        C            3     67.0749  Master"
      ]
     },
     "execution_count": 29,
     "metadata": {},
     "output_type": "execute_result"
    }
   ],
   "source": [
    "titanic.tail()"
   ]
  },
  {
   "cell_type": "code",
   "execution_count": 30,
   "metadata": {
    "execution": {
     "iopub.execute_input": "2020-12-04T21:36:44.628913Z",
     "iopub.status.busy": "2020-12-04T21:36:44.625417Z",
     "iopub.status.idle": "2020-12-04T21:36:44.633878Z",
     "shell.execute_reply": "2020-12-04T21:36:44.632872Z"
    },
    "papermill": {
     "duration": 0.124968,
     "end_time": "2020-12-04T21:36:44.634285",
     "exception": false,
     "start_time": "2020-12-04T21:36:44.509317",
     "status": "completed"
    },
    "tags": []
   },
   "outputs": [
    {
     "name": "stdout",
     "output_type": "stream",
     "text": [
      "<class 'pandas.core.frame.DataFrame'>\n",
      "RangeIndex: 1309 entries, 0 to 1308\n",
      "Data columns (total 7 columns):\n",
      " #   Column       Non-Null Count  Dtype  \n",
      "---  ------       --------------  -----  \n",
      " 0   Pclass       1309 non-null   int64  \n",
      " 1   Sex          1309 non-null   object \n",
      " 2   Age          1046 non-null   float64\n",
      " 3   Embarked     1307 non-null   object \n",
      " 4   Family_size  1309 non-null   int64  \n",
      " 5   Total_fare   1308 non-null   float64\n",
      " 6   Title        1308 non-null   object \n",
      "dtypes: float64(2), int64(2), object(3)\n",
      "memory usage: 71.7+ KB\n"
     ]
    }
   ],
   "source": [
    "titanic.info()"
   ]
  },
  {
   "cell_type": "code",
   "execution_count": 31,
   "metadata": {
    "execution": {
     "iopub.execute_input": "2020-12-04T21:36:44.869328Z",
     "iopub.status.busy": "2020-12-04T21:36:44.864662Z",
     "iopub.status.idle": "2020-12-04T21:36:44.874212Z",
     "shell.execute_reply": "2020-12-04T21:36:44.873394Z"
    },
    "papermill": {
     "duration": 0.129742,
     "end_time": "2020-12-04T21:36:44.874349",
     "exception": false,
     "start_time": "2020-12-04T21:36:44.744607",
     "status": "completed"
    },
    "tags": []
   },
   "outputs": [
    {
     "data": {
      "text/html": [
       "<div>\n",
       "<style scoped>\n",
       "    .dataframe tbody tr th:only-of-type {\n",
       "        vertical-align: middle;\n",
       "    }\n",
       "\n",
       "    .dataframe tbody tr th {\n",
       "        vertical-align: top;\n",
       "    }\n",
       "\n",
       "    .dataframe thead th {\n",
       "        text-align: right;\n",
       "    }\n",
       "</style>\n",
       "<table border=\"1\" class=\"dataframe\">\n",
       "  <thead>\n",
       "    <tr style=\"text-align: right;\">\n",
       "      <th></th>\n",
       "      <th>Pclass</th>\n",
       "      <th>Sex</th>\n",
       "      <th>Age</th>\n",
       "      <th>Embarked</th>\n",
       "      <th>Family_size</th>\n",
       "      <th>Total_fare</th>\n",
       "      <th>Title</th>\n",
       "    </tr>\n",
       "  </thead>\n",
       "  <tbody>\n",
       "    <tr>\n",
       "      <th>61</th>\n",
       "      <td>1</td>\n",
       "      <td>female</td>\n",
       "      <td>38.0</td>\n",
       "      <td>NaN</td>\n",
       "      <td>1</td>\n",
       "      <td>80.0</td>\n",
       "      <td>Miss</td>\n",
       "    </tr>\n",
       "    <tr>\n",
       "      <th>829</th>\n",
       "      <td>1</td>\n",
       "      <td>female</td>\n",
       "      <td>62.0</td>\n",
       "      <td>NaN</td>\n",
       "      <td>1</td>\n",
       "      <td>80.0</td>\n",
       "      <td>Mrs</td>\n",
       "    </tr>\n",
       "  </tbody>\n",
       "</table>\n",
       "</div>"
      ],
      "text/plain": [
       "     Pclass     Sex   Age Embarked  Family_size  Total_fare Title\n",
       "61        1  female  38.0      NaN            1        80.0  Miss\n",
       "829       1  female  62.0      NaN            1        80.0   Mrs"
      ]
     },
     "execution_count": 31,
     "metadata": {},
     "output_type": "execute_result"
    }
   ],
   "source": [
    "titanic[titanic[\"Embarked\"].isnull()]"
   ]
  },
  {
   "cell_type": "markdown",
   "metadata": {
    "papermill": {
     "duration": 0.108409,
     "end_time": "2020-12-04T21:36:45.092613",
     "exception": false,
     "start_time": "2020-12-04T21:36:44.984204",
     "status": "completed"
    },
    "tags": []
   },
   "source": [
    "Before performing data cleaning, the categorical features: embark, sex and title are converted to numerical values using OrdinalEncoder. The purpose of using OrdinalEncoder is to convert strings to intergers, and convert back the intergers to strings after data cleaning. This is done so that, one-hot encoding can be performed on the categorical features before modelling. Also, we convert the strings to intergers only for non-null values using OE keeping the null values as NaN."
   ]
  },
  {
   "cell_type": "code",
   "execution_count": 32,
   "metadata": {
    "execution": {
     "iopub.execute_input": "2020-12-04T21:36:45.320251Z",
     "iopub.status.busy": "2020-12-04T21:36:45.319333Z",
     "iopub.status.idle": "2020-12-04T21:36:45.322748Z",
     "shell.execute_reply": "2020-12-04T21:36:45.322008Z"
    },
    "papermill": {
     "duration": 0.12033,
     "end_time": "2020-12-04T21:36:45.322873",
     "exception": false,
     "start_time": "2020-12-04T21:36:45.202543",
     "status": "completed"
    },
    "tags": []
   },
   "outputs": [],
   "source": [
    "#function to encode non-null cat. feature instances to integers \n",
    "def encode_data(data,encoder):\n",
    "    #extract non-null values\n",
    "    non_nulls = np.array(data.dropna())\n",
    "    #convert to 2D for OE\n",
    "    data_reshape = non_nulls.reshape(-1,1)\n",
    "    #perform encoding\n",
    "    data_encoded = encoder.fit_transform(data_reshape)\n",
    "    #assign the intergers to non-null values and retain the null values\n",
    "    data.loc[data.notnull()] = np.squeeze(data_encoded)\n",
    "    return data"
   ]
  },
  {
   "cell_type": "code",
   "execution_count": 33,
   "metadata": {
    "execution": {
     "iopub.execute_input": "2020-12-04T21:36:45.554771Z",
     "iopub.status.busy": "2020-12-04T21:36:45.553826Z",
     "iopub.status.idle": "2020-12-04T21:36:45.559142Z",
     "shell.execute_reply": "2020-12-04T21:36:45.558356Z"
    },
    "papermill": {
     "duration": 0.128984,
     "end_time": "2020-12-04T21:36:45.559282",
     "exception": false,
     "start_time": "2020-12-04T21:36:45.430298",
     "status": "completed"
    },
    "tags": []
   },
   "outputs": [],
   "source": [
    "#instantiate OrdinalEncoder for each cat. feature\n",
    "encoder_embark = OrdinalEncoder()\n",
    "encoder_sex = OrdinalEncoder()\n",
    "encoder_title = OrdinalEncoder()\n",
    "\n",
    "#call the encode function\n",
    "titanic[\"Embarked\"] = encode_data(titanic[\"Embarked\"],encoder_embark)\n",
    "titanic[\"Sex\"] = encode_data(titanic[\"Sex\"],encoder_sex)\n",
    "titanic[\"Title\"] = encode_data(titanic[\"Title\"],encoder_title)"
   ]
  },
  {
   "cell_type": "markdown",
   "metadata": {
    "papermill": {
     "duration": 0.108922,
     "end_time": "2020-12-04T21:36:45.778709",
     "exception": false,
     "start_time": "2020-12-04T21:36:45.669787",
     "status": "completed"
    },
    "tags": []
   },
   "source": [
    "Check if the encoding was successfull"
   ]
  },
  {
   "cell_type": "code",
   "execution_count": 34,
   "metadata": {
    "execution": {
     "iopub.execute_input": "2020-12-04T21:36:46.024651Z",
     "iopub.status.busy": "2020-12-04T21:36:46.023480Z",
     "iopub.status.idle": "2020-12-04T21:36:46.029271Z",
     "shell.execute_reply": "2020-12-04T21:36:46.028463Z"
    },
    "papermill": {
     "duration": 0.141513,
     "end_time": "2020-12-04T21:36:46.029415",
     "exception": false,
     "start_time": "2020-12-04T21:36:45.887902",
     "status": "completed"
    },
    "tags": []
   },
   "outputs": [
    {
     "data": {
      "text/html": [
       "<div>\n",
       "<style scoped>\n",
       "    .dataframe tbody tr th:only-of-type {\n",
       "        vertical-align: middle;\n",
       "    }\n",
       "\n",
       "    .dataframe tbody tr th {\n",
       "        vertical-align: top;\n",
       "    }\n",
       "\n",
       "    .dataframe thead th {\n",
       "        text-align: right;\n",
       "    }\n",
       "</style>\n",
       "<table border=\"1\" class=\"dataframe\">\n",
       "  <thead>\n",
       "    <tr style=\"text-align: right;\">\n",
       "      <th></th>\n",
       "      <th>Pclass</th>\n",
       "      <th>Sex</th>\n",
       "      <th>Age</th>\n",
       "      <th>Embarked</th>\n",
       "      <th>Family_size</th>\n",
       "      <th>Total_fare</th>\n",
       "      <th>Title</th>\n",
       "    </tr>\n",
       "  </thead>\n",
       "  <tbody>\n",
       "    <tr>\n",
       "      <th>0</th>\n",
       "      <td>3</td>\n",
       "      <td>1.0</td>\n",
       "      <td>22.0</td>\n",
       "      <td>2</td>\n",
       "      <td>2</td>\n",
       "      <td>14.5000</td>\n",
       "      <td>2</td>\n",
       "    </tr>\n",
       "    <tr>\n",
       "      <th>1</th>\n",
       "      <td>1</td>\n",
       "      <td>0.0</td>\n",
       "      <td>38.0</td>\n",
       "      <td>0</td>\n",
       "      <td>2</td>\n",
       "      <td>142.5666</td>\n",
       "      <td>3</td>\n",
       "    </tr>\n",
       "    <tr>\n",
       "      <th>2</th>\n",
       "      <td>3</td>\n",
       "      <td>0.0</td>\n",
       "      <td>26.0</td>\n",
       "      <td>2</td>\n",
       "      <td>1</td>\n",
       "      <td>7.9250</td>\n",
       "      <td>1</td>\n",
       "    </tr>\n",
       "    <tr>\n",
       "      <th>3</th>\n",
       "      <td>1</td>\n",
       "      <td>0.0</td>\n",
       "      <td>35.0</td>\n",
       "      <td>2</td>\n",
       "      <td>2</td>\n",
       "      <td>106.2000</td>\n",
       "      <td>3</td>\n",
       "    </tr>\n",
       "    <tr>\n",
       "      <th>4</th>\n",
       "      <td>3</td>\n",
       "      <td>1.0</td>\n",
       "      <td>35.0</td>\n",
       "      <td>2</td>\n",
       "      <td>1</td>\n",
       "      <td>8.0500</td>\n",
       "      <td>2</td>\n",
       "    </tr>\n",
       "  </tbody>\n",
       "</table>\n",
       "</div>"
      ],
      "text/plain": [
       "   Pclass  Sex   Age Embarked  Family_size  Total_fare Title\n",
       "0       3  1.0  22.0        2            2     14.5000     2\n",
       "1       1  0.0  38.0        0            2    142.5666     3\n",
       "2       3  0.0  26.0        2            1      7.9250     1\n",
       "3       1  0.0  35.0        2            2    106.2000     3\n",
       "4       3  1.0  35.0        2            1      8.0500     2"
      ]
     },
     "execution_count": 34,
     "metadata": {},
     "output_type": "execute_result"
    }
   ],
   "source": [
    "titanic.head()"
   ]
  },
  {
   "cell_type": "code",
   "execution_count": 35,
   "metadata": {
    "execution": {
     "iopub.execute_input": "2020-12-04T21:36:46.295132Z",
     "iopub.status.busy": "2020-12-04T21:36:46.293933Z",
     "iopub.status.idle": "2020-12-04T21:36:46.299349Z",
     "shell.execute_reply": "2020-12-04T21:36:46.298595Z"
    },
    "papermill": {
     "duration": 0.133016,
     "end_time": "2020-12-04T21:36:46.299488",
     "exception": false,
     "start_time": "2020-12-04T21:36:46.166472",
     "status": "completed"
    },
    "tags": []
   },
   "outputs": [
    {
     "data": {
      "text/html": [
       "<div>\n",
       "<style scoped>\n",
       "    .dataframe tbody tr th:only-of-type {\n",
       "        vertical-align: middle;\n",
       "    }\n",
       "\n",
       "    .dataframe tbody tr th {\n",
       "        vertical-align: top;\n",
       "    }\n",
       "\n",
       "    .dataframe thead th {\n",
       "        text-align: right;\n",
       "    }\n",
       "</style>\n",
       "<table border=\"1\" class=\"dataframe\">\n",
       "  <thead>\n",
       "    <tr style=\"text-align: right;\">\n",
       "      <th></th>\n",
       "      <th>Pclass</th>\n",
       "      <th>Sex</th>\n",
       "      <th>Age</th>\n",
       "      <th>Embarked</th>\n",
       "      <th>Family_size</th>\n",
       "      <th>Total_fare</th>\n",
       "      <th>Title</th>\n",
       "    </tr>\n",
       "  </thead>\n",
       "  <tbody>\n",
       "    <tr>\n",
       "      <th>1304</th>\n",
       "      <td>3</td>\n",
       "      <td>1.0</td>\n",
       "      <td>NaN</td>\n",
       "      <td>2</td>\n",
       "      <td>1</td>\n",
       "      <td>8.0500</td>\n",
       "      <td>2</td>\n",
       "    </tr>\n",
       "    <tr>\n",
       "      <th>1305</th>\n",
       "      <td>1</td>\n",
       "      <td>0.0</td>\n",
       "      <td>39.0</td>\n",
       "      <td>0</td>\n",
       "      <td>1</td>\n",
       "      <td>108.9000</td>\n",
       "      <td>NaN</td>\n",
       "    </tr>\n",
       "    <tr>\n",
       "      <th>1306</th>\n",
       "      <td>3</td>\n",
       "      <td>1.0</td>\n",
       "      <td>38.5</td>\n",
       "      <td>2</td>\n",
       "      <td>1</td>\n",
       "      <td>7.2500</td>\n",
       "      <td>2</td>\n",
       "    </tr>\n",
       "    <tr>\n",
       "      <th>1307</th>\n",
       "      <td>3</td>\n",
       "      <td>1.0</td>\n",
       "      <td>NaN</td>\n",
       "      <td>2</td>\n",
       "      <td>1</td>\n",
       "      <td>8.0500</td>\n",
       "      <td>2</td>\n",
       "    </tr>\n",
       "    <tr>\n",
       "      <th>1308</th>\n",
       "      <td>3</td>\n",
       "      <td>1.0</td>\n",
       "      <td>NaN</td>\n",
       "      <td>0</td>\n",
       "      <td>3</td>\n",
       "      <td>67.0749</td>\n",
       "      <td>0</td>\n",
       "    </tr>\n",
       "  </tbody>\n",
       "</table>\n",
       "</div>"
      ],
      "text/plain": [
       "      Pclass  Sex   Age Embarked  Family_size  Total_fare Title\n",
       "1304       3  1.0   NaN        2            1      8.0500     2\n",
       "1305       1  0.0  39.0        0            1    108.9000   NaN\n",
       "1306       3  1.0  38.5        2            1      7.2500     2\n",
       "1307       3  1.0   NaN        2            1      8.0500     2\n",
       "1308       3  1.0   NaN        0            3     67.0749     0"
      ]
     },
     "execution_count": 35,
     "metadata": {},
     "output_type": "execute_result"
    }
   ],
   "source": [
    "titanic.tail()"
   ]
  },
  {
   "cell_type": "markdown",
   "metadata": {
    "papermill": {
     "duration": 0.112992,
     "end_time": "2020-12-04T21:36:46.524814",
     "exception": false,
     "start_time": "2020-12-04T21:36:46.411822",
     "status": "completed"
    },
    "tags": []
   },
   "source": [
    "This shows the encoding was done only for non-null values."
   ]
  },
  {
   "cell_type": "markdown",
   "metadata": {
    "papermill": {
     "duration": 0.122484,
     "end_time": "2020-12-04T21:36:46.759060",
     "exception": false,
     "start_time": "2020-12-04T21:36:46.636576",
     "status": "completed"
    },
    "tags": []
   },
   "source": [
    "IterativeImputer: It is a method for imputing missing values by modeling each feature with missing values as a function of other features in a round-robin fashion."
   ]
  },
  {
   "cell_type": "code",
   "execution_count": 36,
   "metadata": {
    "execution": {
     "iopub.execute_input": "2020-12-04T21:36:46.999843Z",
     "iopub.status.busy": "2020-12-04T21:36:46.998418Z",
     "iopub.status.idle": "2020-12-04T21:36:50.135025Z",
     "shell.execute_reply": "2020-12-04T21:36:50.135630Z"
    },
    "papermill": {
     "duration": 3.261498,
     "end_time": "2020-12-04T21:36:50.135812",
     "exception": false,
     "start_time": "2020-12-04T21:36:46.874314",
     "status": "completed"
    },
    "tags": []
   },
   "outputs": [],
   "source": [
    "#perform IterativeImpution for impute the missing values\n",
    "imputer = IterativeImputer(ExtraTreesRegressor())\n",
    "encode_data = pd.DataFrame(np.round(imputer.fit_transform(titanic)),columns = titanic.columns)"
   ]
  },
  {
   "cell_type": "markdown",
   "metadata": {
    "papermill": {
     "duration": 0.108965,
     "end_time": "2020-12-04T21:36:50.358166",
     "exception": false,
     "start_time": "2020-12-04T21:36:50.249201",
     "status": "completed"
    },
    "tags": []
   },
   "source": [
    "Check for the data after imputation"
   ]
  },
  {
   "cell_type": "code",
   "execution_count": 37,
   "metadata": {
    "execution": {
     "iopub.execute_input": "2020-12-04T21:36:50.594683Z",
     "iopub.status.busy": "2020-12-04T21:36:50.593534Z",
     "iopub.status.idle": "2020-12-04T21:36:50.598347Z",
     "shell.execute_reply": "2020-12-04T21:36:50.597521Z"
    },
    "papermill": {
     "duration": 0.129412,
     "end_time": "2020-12-04T21:36:50.598479",
     "exception": false,
     "start_time": "2020-12-04T21:36:50.469067",
     "status": "completed"
    },
    "tags": []
   },
   "outputs": [
    {
     "data": {
      "text/html": [
       "<div>\n",
       "<style scoped>\n",
       "    .dataframe tbody tr th:only-of-type {\n",
       "        vertical-align: middle;\n",
       "    }\n",
       "\n",
       "    .dataframe tbody tr th {\n",
       "        vertical-align: top;\n",
       "    }\n",
       "\n",
       "    .dataframe thead th {\n",
       "        text-align: right;\n",
       "    }\n",
       "</style>\n",
       "<table border=\"1\" class=\"dataframe\">\n",
       "  <thead>\n",
       "    <tr style=\"text-align: right;\">\n",
       "      <th></th>\n",
       "      <th>Pclass</th>\n",
       "      <th>Sex</th>\n",
       "      <th>Age</th>\n",
       "      <th>Embarked</th>\n",
       "      <th>Family_size</th>\n",
       "      <th>Total_fare</th>\n",
       "      <th>Title</th>\n",
       "    </tr>\n",
       "  </thead>\n",
       "  <tbody>\n",
       "    <tr>\n",
       "      <th>0</th>\n",
       "      <td>3.0</td>\n",
       "      <td>1.0</td>\n",
       "      <td>22.0</td>\n",
       "      <td>2.0</td>\n",
       "      <td>2.0</td>\n",
       "      <td>14.0</td>\n",
       "      <td>2.0</td>\n",
       "    </tr>\n",
       "    <tr>\n",
       "      <th>1</th>\n",
       "      <td>1.0</td>\n",
       "      <td>0.0</td>\n",
       "      <td>38.0</td>\n",
       "      <td>0.0</td>\n",
       "      <td>2.0</td>\n",
       "      <td>143.0</td>\n",
       "      <td>3.0</td>\n",
       "    </tr>\n",
       "    <tr>\n",
       "      <th>2</th>\n",
       "      <td>3.0</td>\n",
       "      <td>0.0</td>\n",
       "      <td>26.0</td>\n",
       "      <td>2.0</td>\n",
       "      <td>1.0</td>\n",
       "      <td>8.0</td>\n",
       "      <td>1.0</td>\n",
       "    </tr>\n",
       "    <tr>\n",
       "      <th>3</th>\n",
       "      <td>1.0</td>\n",
       "      <td>0.0</td>\n",
       "      <td>35.0</td>\n",
       "      <td>2.0</td>\n",
       "      <td>2.0</td>\n",
       "      <td>106.0</td>\n",
       "      <td>3.0</td>\n",
       "    </tr>\n",
       "    <tr>\n",
       "      <th>4</th>\n",
       "      <td>3.0</td>\n",
       "      <td>1.0</td>\n",
       "      <td>35.0</td>\n",
       "      <td>2.0</td>\n",
       "      <td>1.0</td>\n",
       "      <td>8.0</td>\n",
       "      <td>2.0</td>\n",
       "    </tr>\n",
       "  </tbody>\n",
       "</table>\n",
       "</div>"
      ],
      "text/plain": [
       "   Pclass  Sex   Age  Embarked  Family_size  Total_fare  Title\n",
       "0     3.0  1.0  22.0       2.0          2.0        14.0    2.0\n",
       "1     1.0  0.0  38.0       0.0          2.0       143.0    3.0\n",
       "2     3.0  0.0  26.0       2.0          1.0         8.0    1.0\n",
       "3     1.0  0.0  35.0       2.0          2.0       106.0    3.0\n",
       "4     3.0  1.0  35.0       2.0          1.0         8.0    2.0"
      ]
     },
     "execution_count": 37,
     "metadata": {},
     "output_type": "execute_result"
    }
   ],
   "source": [
    "encode_data.head()"
   ]
  },
  {
   "cell_type": "code",
   "execution_count": 38,
   "metadata": {
    "execution": {
     "iopub.execute_input": "2020-12-04T21:36:50.838734Z",
     "iopub.status.busy": "2020-12-04T21:36:50.832628Z",
     "iopub.status.idle": "2020-12-04T21:36:50.844216Z",
     "shell.execute_reply": "2020-12-04T21:36:50.843533Z"
    },
    "papermill": {
     "duration": 0.133291,
     "end_time": "2020-12-04T21:36:50.844348",
     "exception": false,
     "start_time": "2020-12-04T21:36:50.711057",
     "status": "completed"
    },
    "tags": []
   },
   "outputs": [
    {
     "data": {
      "text/html": [
       "<div>\n",
       "<style scoped>\n",
       "    .dataframe tbody tr th:only-of-type {\n",
       "        vertical-align: middle;\n",
       "    }\n",
       "\n",
       "    .dataframe tbody tr th {\n",
       "        vertical-align: top;\n",
       "    }\n",
       "\n",
       "    .dataframe thead th {\n",
       "        text-align: right;\n",
       "    }\n",
       "</style>\n",
       "<table border=\"1\" class=\"dataframe\">\n",
       "  <thead>\n",
       "    <tr style=\"text-align: right;\">\n",
       "      <th></th>\n",
       "      <th>Pclass</th>\n",
       "      <th>Sex</th>\n",
       "      <th>Age</th>\n",
       "      <th>Embarked</th>\n",
       "      <th>Family_size</th>\n",
       "      <th>Total_fare</th>\n",
       "      <th>Title</th>\n",
       "    </tr>\n",
       "  </thead>\n",
       "  <tbody>\n",
       "    <tr>\n",
       "      <th>1304</th>\n",
       "      <td>3.0</td>\n",
       "      <td>1.0</td>\n",
       "      <td>30.0</td>\n",
       "      <td>2.0</td>\n",
       "      <td>1.0</td>\n",
       "      <td>8.0</td>\n",
       "      <td>2.0</td>\n",
       "    </tr>\n",
       "    <tr>\n",
       "      <th>1305</th>\n",
       "      <td>1.0</td>\n",
       "      <td>0.0</td>\n",
       "      <td>39.0</td>\n",
       "      <td>0.0</td>\n",
       "      <td>1.0</td>\n",
       "      <td>109.0</td>\n",
       "      <td>1.0</td>\n",
       "    </tr>\n",
       "    <tr>\n",
       "      <th>1306</th>\n",
       "      <td>3.0</td>\n",
       "      <td>1.0</td>\n",
       "      <td>38.0</td>\n",
       "      <td>2.0</td>\n",
       "      <td>1.0</td>\n",
       "      <td>7.0</td>\n",
       "      <td>2.0</td>\n",
       "    </tr>\n",
       "    <tr>\n",
       "      <th>1307</th>\n",
       "      <td>3.0</td>\n",
       "      <td>1.0</td>\n",
       "      <td>30.0</td>\n",
       "      <td>2.0</td>\n",
       "      <td>1.0</td>\n",
       "      <td>8.0</td>\n",
       "      <td>2.0</td>\n",
       "    </tr>\n",
       "    <tr>\n",
       "      <th>1308</th>\n",
       "      <td>3.0</td>\n",
       "      <td>1.0</td>\n",
       "      <td>8.0</td>\n",
       "      <td>0.0</td>\n",
       "      <td>3.0</td>\n",
       "      <td>67.0</td>\n",
       "      <td>0.0</td>\n",
       "    </tr>\n",
       "  </tbody>\n",
       "</table>\n",
       "</div>"
      ],
      "text/plain": [
       "      Pclass  Sex   Age  Embarked  Family_size  Total_fare  Title\n",
       "1304     3.0  1.0  30.0       2.0          1.0         8.0    2.0\n",
       "1305     1.0  0.0  39.0       0.0          1.0       109.0    1.0\n",
       "1306     3.0  1.0  38.0       2.0          1.0         7.0    2.0\n",
       "1307     3.0  1.0  30.0       2.0          1.0         8.0    2.0\n",
       "1308     3.0  1.0   8.0       0.0          3.0        67.0    0.0"
      ]
     },
     "execution_count": 38,
     "metadata": {},
     "output_type": "execute_result"
    }
   ],
   "source": [
    "encode_data.tail()"
   ]
  },
  {
   "cell_type": "code",
   "execution_count": 39,
   "metadata": {
    "execution": {
     "iopub.execute_input": "2020-12-04T21:36:51.082947Z",
     "iopub.status.busy": "2020-12-04T21:36:51.081780Z",
     "iopub.status.idle": "2020-12-04T21:36:51.086973Z",
     "shell.execute_reply": "2020-12-04T21:36:51.086348Z"
    },
    "papermill": {
     "duration": 0.131515,
     "end_time": "2020-12-04T21:36:51.087120",
     "exception": false,
     "start_time": "2020-12-04T21:36:50.955605",
     "status": "completed"
    },
    "tags": []
   },
   "outputs": [
    {
     "data": {
      "text/plain": [
       "Pclass         0\n",
       "Sex            0\n",
       "Age            0\n",
       "Embarked       0\n",
       "Family_size    0\n",
       "Total_fare     0\n",
       "Title          0\n",
       "dtype: int64"
      ]
     },
     "execution_count": 39,
     "metadata": {},
     "output_type": "execute_result"
    }
   ],
   "source": [
    "encode_data.isnull().sum()"
   ]
  },
  {
   "cell_type": "markdown",
   "metadata": {
    "papermill": {
     "duration": 0.115445,
     "end_time": "2020-12-04T21:36:51.313957",
     "exception": false,
     "start_time": "2020-12-04T21:36:51.198512",
     "status": "completed"
    },
    "tags": []
   },
   "source": [
    "This shows the imputation was successfull and the data has no null values."
   ]
  },
  {
   "cell_type": "code",
   "execution_count": 40,
   "metadata": {
    "execution": {
     "iopub.execute_input": "2020-12-04T21:36:51.550909Z",
     "iopub.status.busy": "2020-12-04T21:36:51.549433Z",
     "iopub.status.idle": "2020-12-04T21:36:51.554836Z",
     "shell.execute_reply": "2020-12-04T21:36:51.554208Z"
    },
    "papermill": {
     "duration": 0.129195,
     "end_time": "2020-12-04T21:36:51.554960",
     "exception": false,
     "start_time": "2020-12-04T21:36:51.425765",
     "status": "completed"
    },
    "tags": []
   },
   "outputs": [],
   "source": [
    "#function to convert the encoded intergers back to srtings\n",
    "def inverse_encode(data,encoder):\n",
    "    #convert to 2D for OE\n",
    "    data_reshape  = data.values.reshape(-1,1)\n",
    "    #perform inverse encoding\n",
    "    data_inv_encoded = encoder.inverse_transform(data_reshape )\n",
    "    #assign the strings to the initial non-null values\n",
    "    data = np.squeeze(data_inv_encoded)\n",
    "    return data\n",
    "\n",
    "encode_data[\"Embarked\"] = inverse_encode(encode_data[\"Embarked\"],encoder_embark)\n",
    "encode_data[\"Sex\"] = inverse_encode(encode_data[\"Sex\"],encoder_sex)\n",
    "encode_data[\"Title\"] = inverse_encode(encode_data[\"Title\"],encoder_title)"
   ]
  },
  {
   "cell_type": "markdown",
   "metadata": {
    "papermill": {
     "duration": 0.11342,
     "end_time": "2020-12-04T21:36:51.782017",
     "exception": false,
     "start_time": "2020-12-04T21:36:51.668597",
     "status": "completed"
    },
    "tags": []
   },
   "source": [
    "Check if the inverse encoding is successful"
   ]
  },
  {
   "cell_type": "code",
   "execution_count": 41,
   "metadata": {
    "execution": {
     "iopub.execute_input": "2020-12-04T21:36:52.025381Z",
     "iopub.status.busy": "2020-12-04T21:36:52.024380Z",
     "iopub.status.idle": "2020-12-04T21:36:52.029748Z",
     "shell.execute_reply": "2020-12-04T21:36:52.028892Z"
    },
    "papermill": {
     "duration": 0.136026,
     "end_time": "2020-12-04T21:36:52.029895",
     "exception": false,
     "start_time": "2020-12-04T21:36:51.893869",
     "status": "completed"
    },
    "tags": []
   },
   "outputs": [
    {
     "data": {
      "text/html": [
       "<div>\n",
       "<style scoped>\n",
       "    .dataframe tbody tr th:only-of-type {\n",
       "        vertical-align: middle;\n",
       "    }\n",
       "\n",
       "    .dataframe tbody tr th {\n",
       "        vertical-align: top;\n",
       "    }\n",
       "\n",
       "    .dataframe thead th {\n",
       "        text-align: right;\n",
       "    }\n",
       "</style>\n",
       "<table border=\"1\" class=\"dataframe\">\n",
       "  <thead>\n",
       "    <tr style=\"text-align: right;\">\n",
       "      <th></th>\n",
       "      <th>Pclass</th>\n",
       "      <th>Sex</th>\n",
       "      <th>Age</th>\n",
       "      <th>Embarked</th>\n",
       "      <th>Family_size</th>\n",
       "      <th>Total_fare</th>\n",
       "      <th>Title</th>\n",
       "    </tr>\n",
       "  </thead>\n",
       "  <tbody>\n",
       "    <tr>\n",
       "      <th>0</th>\n",
       "      <td>3.0</td>\n",
       "      <td>male</td>\n",
       "      <td>22.0</td>\n",
       "      <td>S</td>\n",
       "      <td>2.0</td>\n",
       "      <td>14.0</td>\n",
       "      <td>Mr</td>\n",
       "    </tr>\n",
       "    <tr>\n",
       "      <th>1</th>\n",
       "      <td>1.0</td>\n",
       "      <td>female</td>\n",
       "      <td>38.0</td>\n",
       "      <td>C</td>\n",
       "      <td>2.0</td>\n",
       "      <td>143.0</td>\n",
       "      <td>Mrs</td>\n",
       "    </tr>\n",
       "    <tr>\n",
       "      <th>2</th>\n",
       "      <td>3.0</td>\n",
       "      <td>female</td>\n",
       "      <td>26.0</td>\n",
       "      <td>S</td>\n",
       "      <td>1.0</td>\n",
       "      <td>8.0</td>\n",
       "      <td>Miss</td>\n",
       "    </tr>\n",
       "    <tr>\n",
       "      <th>3</th>\n",
       "      <td>1.0</td>\n",
       "      <td>female</td>\n",
       "      <td>35.0</td>\n",
       "      <td>S</td>\n",
       "      <td>2.0</td>\n",
       "      <td>106.0</td>\n",
       "      <td>Mrs</td>\n",
       "    </tr>\n",
       "    <tr>\n",
       "      <th>4</th>\n",
       "      <td>3.0</td>\n",
       "      <td>male</td>\n",
       "      <td>35.0</td>\n",
       "      <td>S</td>\n",
       "      <td>1.0</td>\n",
       "      <td>8.0</td>\n",
       "      <td>Mr</td>\n",
       "    </tr>\n",
       "  </tbody>\n",
       "</table>\n",
       "</div>"
      ],
      "text/plain": [
       "   Pclass     Sex   Age Embarked  Family_size  Total_fare Title\n",
       "0     3.0    male  22.0        S          2.0        14.0    Mr\n",
       "1     1.0  female  38.0        C          2.0       143.0   Mrs\n",
       "2     3.0  female  26.0        S          1.0         8.0  Miss\n",
       "3     1.0  female  35.0        S          2.0       106.0   Mrs\n",
       "4     3.0    male  35.0        S          1.0         8.0    Mr"
      ]
     },
     "execution_count": 41,
     "metadata": {},
     "output_type": "execute_result"
    }
   ],
   "source": [
    "encode_data.head()"
   ]
  },
  {
   "cell_type": "code",
   "execution_count": 42,
   "metadata": {
    "execution": {
     "iopub.execute_input": "2020-12-04T21:36:52.278493Z",
     "iopub.status.busy": "2020-12-04T21:36:52.277557Z",
     "iopub.status.idle": "2020-12-04T21:36:52.282838Z",
     "shell.execute_reply": "2020-12-04T21:36:52.282229Z"
    },
    "papermill": {
     "duration": 0.136021,
     "end_time": "2020-12-04T21:36:52.282968",
     "exception": false,
     "start_time": "2020-12-04T21:36:52.146947",
     "status": "completed"
    },
    "tags": []
   },
   "outputs": [
    {
     "data": {
      "text/html": [
       "<div>\n",
       "<style scoped>\n",
       "    .dataframe tbody tr th:only-of-type {\n",
       "        vertical-align: middle;\n",
       "    }\n",
       "\n",
       "    .dataframe tbody tr th {\n",
       "        vertical-align: top;\n",
       "    }\n",
       "\n",
       "    .dataframe thead th {\n",
       "        text-align: right;\n",
       "    }\n",
       "</style>\n",
       "<table border=\"1\" class=\"dataframe\">\n",
       "  <thead>\n",
       "    <tr style=\"text-align: right;\">\n",
       "      <th></th>\n",
       "      <th>Pclass</th>\n",
       "      <th>Sex</th>\n",
       "      <th>Age</th>\n",
       "      <th>Embarked</th>\n",
       "      <th>Family_size</th>\n",
       "      <th>Total_fare</th>\n",
       "      <th>Title</th>\n",
       "    </tr>\n",
       "  </thead>\n",
       "  <tbody>\n",
       "    <tr>\n",
       "      <th>1304</th>\n",
       "      <td>3.0</td>\n",
       "      <td>male</td>\n",
       "      <td>30.0</td>\n",
       "      <td>S</td>\n",
       "      <td>1.0</td>\n",
       "      <td>8.0</td>\n",
       "      <td>Mr</td>\n",
       "    </tr>\n",
       "    <tr>\n",
       "      <th>1305</th>\n",
       "      <td>1.0</td>\n",
       "      <td>female</td>\n",
       "      <td>39.0</td>\n",
       "      <td>C</td>\n",
       "      <td>1.0</td>\n",
       "      <td>109.0</td>\n",
       "      <td>Miss</td>\n",
       "    </tr>\n",
       "    <tr>\n",
       "      <th>1306</th>\n",
       "      <td>3.0</td>\n",
       "      <td>male</td>\n",
       "      <td>38.0</td>\n",
       "      <td>S</td>\n",
       "      <td>1.0</td>\n",
       "      <td>7.0</td>\n",
       "      <td>Mr</td>\n",
       "    </tr>\n",
       "    <tr>\n",
       "      <th>1307</th>\n",
       "      <td>3.0</td>\n",
       "      <td>male</td>\n",
       "      <td>30.0</td>\n",
       "      <td>S</td>\n",
       "      <td>1.0</td>\n",
       "      <td>8.0</td>\n",
       "      <td>Mr</td>\n",
       "    </tr>\n",
       "    <tr>\n",
       "      <th>1308</th>\n",
       "      <td>3.0</td>\n",
       "      <td>male</td>\n",
       "      <td>8.0</td>\n",
       "      <td>C</td>\n",
       "      <td>3.0</td>\n",
       "      <td>67.0</td>\n",
       "      <td>Master</td>\n",
       "    </tr>\n",
       "  </tbody>\n",
       "</table>\n",
       "</div>"
      ],
      "text/plain": [
       "      Pclass     Sex   Age Embarked  Family_size  Total_fare   Title\n",
       "1304     3.0    male  30.0        S          1.0         8.0      Mr\n",
       "1305     1.0  female  39.0        C          1.0       109.0    Miss\n",
       "1306     3.0    male  38.0        S          1.0         7.0      Mr\n",
       "1307     3.0    male  30.0        S          1.0         8.0      Mr\n",
       "1308     3.0    male   8.0        C          3.0        67.0  Master"
      ]
     },
     "execution_count": 42,
     "metadata": {},
     "output_type": "execute_result"
    }
   ],
   "source": [
    "encode_data.tail()"
   ]
  },
  {
   "cell_type": "code",
   "execution_count": 43,
   "metadata": {
    "execution": {
     "iopub.execute_input": "2020-12-04T21:36:52.521259Z",
     "iopub.status.busy": "2020-12-04T21:36:52.520361Z",
     "iopub.status.idle": "2020-12-04T21:36:52.525833Z",
     "shell.execute_reply": "2020-12-04T21:36:52.525260Z"
    },
    "papermill": {
     "duration": 0.126248,
     "end_time": "2020-12-04T21:36:52.525966",
     "exception": false,
     "start_time": "2020-12-04T21:36:52.399718",
     "status": "completed"
    },
    "tags": []
   },
   "outputs": [
    {
     "data": {
      "text/plain": [
       "Pclass              1\n",
       "Sex            female\n",
       "Age                62\n",
       "Embarked            C\n",
       "Family_size         1\n",
       "Total_fare         80\n",
       "Title             Mrs\n",
       "Name: 829, dtype: object"
      ]
     },
     "execution_count": 43,
     "metadata": {},
     "output_type": "execute_result"
    }
   ],
   "source": [
    "encode_data.iloc[829]"
   ]
  },
  {
   "cell_type": "code",
   "execution_count": 44,
   "metadata": {
    "execution": {
     "iopub.execute_input": "2020-12-04T21:36:52.767024Z",
     "iopub.status.busy": "2020-12-04T21:36:52.766049Z",
     "iopub.status.idle": "2020-12-04T21:36:52.770378Z",
     "shell.execute_reply": "2020-12-04T21:36:52.770972Z"
    },
    "papermill": {
     "duration": 0.130308,
     "end_time": "2020-12-04T21:36:52.771149",
     "exception": false,
     "start_time": "2020-12-04T21:36:52.640841",
     "status": "completed"
    },
    "tags": []
   },
   "outputs": [
    {
     "data": {
      "text/plain": [
       "Pclass         0\n",
       "Sex            0\n",
       "Age            0\n",
       "Embarked       0\n",
       "Family_size    0\n",
       "Total_fare     0\n",
       "Title          0\n",
       "dtype: int64"
      ]
     },
     "execution_count": 44,
     "metadata": {},
     "output_type": "execute_result"
    }
   ],
   "source": [
    "encode_data.isnull().sum()"
   ]
  },
  {
   "cell_type": "markdown",
   "metadata": {
    "papermill": {
     "duration": 0.11837,
     "end_time": "2020-12-04T21:36:53.005150",
     "exception": false,
     "start_time": "2020-12-04T21:36:52.886780",
     "status": "completed"
    },
    "tags": []
   },
   "source": [
    "**One-Hot encoding**\n",
    "\n",
    "One-hot encode the categorical variables: sex, title and embark"
   ]
  },
  {
   "cell_type": "code",
   "execution_count": 45,
   "metadata": {
    "execution": {
     "iopub.execute_input": "2020-12-04T21:36:53.244199Z",
     "iopub.status.busy": "2020-12-04T21:36:53.243391Z",
     "iopub.status.idle": "2020-12-04T21:36:53.247711Z",
     "shell.execute_reply": "2020-12-04T21:36:53.246689Z"
    },
    "papermill": {
     "duration": 0.126785,
     "end_time": "2020-12-04T21:36:53.247889",
     "exception": false,
     "start_time": "2020-12-04T21:36:53.121104",
     "status": "completed"
    },
    "tags": []
   },
   "outputs": [
    {
     "name": "stdout",
     "output_type": "stream",
     "text": [
      "The categorical features are: ['Sex', 'Embarked', 'Title']\n"
     ]
    }
   ],
   "source": [
    "#collect the categorical variables\n",
    "cat_vab = encode_data.dtypes == object\n",
    "cat_vab = encode_data.columns[cat_vab].tolist()\n",
    "\n",
    "#the categorical features in the dataset\n",
    "print(\"The categorical features are:\",cat_vab)"
   ]
  },
  {
   "cell_type": "code",
   "execution_count": 46,
   "metadata": {
    "execution": {
     "iopub.execute_input": "2020-12-04T21:36:53.490223Z",
     "iopub.status.busy": "2020-12-04T21:36:53.489074Z",
     "iopub.status.idle": "2020-12-04T21:36:53.493537Z",
     "shell.execute_reply": "2020-12-04T21:36:53.492763Z"
    },
    "papermill": {
     "duration": 0.128162,
     "end_time": "2020-12-04T21:36:53.493664",
     "exception": false,
     "start_time": "2020-12-04T21:36:53.365502",
     "status": "completed"
    },
    "tags": []
   },
   "outputs": [
    {
     "data": {
      "text/plain": [
       "['Pclass', 'Age', 'Family_size', 'Total_fare']"
      ]
     },
     "execution_count": 46,
     "metadata": {},
     "output_type": "execute_result"
    }
   ],
   "source": [
    "num_vab = []\n",
    "\n",
    "#iterate through the columns and append the num_vab list with numerical features\n",
    "for fea in encode_data.columns:\n",
    "    if fea not in cat_vab:\n",
    "        num_vab.append(fea)\n",
    "\n",
    "num_vab"
   ]
  },
  {
   "cell_type": "code",
   "execution_count": 47,
   "metadata": {
    "execution": {
     "iopub.execute_input": "2020-12-04T21:36:53.744881Z",
     "iopub.status.busy": "2020-12-04T21:36:53.743655Z",
     "iopub.status.idle": "2020-12-04T21:36:53.757779Z",
     "shell.execute_reply": "2020-12-04T21:36:53.756797Z"
    },
    "papermill": {
     "duration": 0.146289,
     "end_time": "2020-12-04T21:36:53.757948",
     "exception": false,
     "start_time": "2020-12-04T21:36:53.611659",
     "status": "completed"
    },
    "tags": []
   },
   "outputs": [
    {
     "name": "stdout",
     "output_type": "stream",
     "text": [
      "   Sex_female  Sex_male  Embarked_C  Embarked_Q  Embarked_S  Title_Master  \\\n",
      "0           0         1           0           0           1             0   \n",
      "1           1         0           1           0           0             0   \n",
      "2           1         0           0           0           1             0   \n",
      "\n",
      "   Title_Miss  Title_Mr  Title_Mrs  Title_Officer  Title_Royal  \n",
      "0           0         1          0              0            0  \n",
      "1           0         0          1              0            0  \n",
      "2           1         0          0              0            0  \n"
     ]
    }
   ],
   "source": [
    "#create a data frame of categorical features after one hot encoding using pd.get_dummies()\n",
    "cat_df = pd.get_dummies(encode_data[cat_vab])\n",
    "\n",
    "#the dataframe for the categorical features after one hot encoding\n",
    "print(cat_df.head(3))"
   ]
  },
  {
   "cell_type": "code",
   "execution_count": 48,
   "metadata": {
    "execution": {
     "iopub.execute_input": "2020-12-04T21:36:54.005056Z",
     "iopub.status.busy": "2020-12-04T21:36:54.003971Z",
     "iopub.status.idle": "2020-12-04T21:36:54.007732Z",
     "shell.execute_reply": "2020-12-04T21:36:54.008684Z"
    },
    "papermill": {
     "duration": 0.13435,
     "end_time": "2020-12-04T21:36:54.008952",
     "exception": false,
     "start_time": "2020-12-04T21:36:53.874602",
     "status": "completed"
    },
    "tags": []
   },
   "outputs": [
    {
     "name": "stdout",
     "output_type": "stream",
     "text": [
      "(1309, 11)\n"
     ]
    }
   ],
   "source": [
    "#the total number of features based on the values present in each categorical feature\n",
    "print(cat_df.shape)"
   ]
  },
  {
   "cell_type": "code",
   "execution_count": 49,
   "metadata": {
    "execution": {
     "iopub.execute_input": "2020-12-04T21:36:54.258614Z",
     "iopub.status.busy": "2020-12-04T21:36:54.257699Z",
     "iopub.status.idle": "2020-12-04T21:36:54.261978Z",
     "shell.execute_reply": "2020-12-04T21:36:54.262918Z"
    },
    "papermill": {
     "duration": 0.131795,
     "end_time": "2020-12-04T21:36:54.263152",
     "exception": false,
     "start_time": "2020-12-04T21:36:54.131357",
     "status": "completed"
    },
    "tags": []
   },
   "outputs": [
    {
     "name": "stdout",
     "output_type": "stream",
     "text": [
      "(1309, 4)\n"
     ]
    }
   ],
   "source": [
    "#create a dataframe of numerical features\n",
    "num_df = encode_data[num_vab]\n",
    "\n",
    "#the total number of numerical features \n",
    "print(num_df.shape)"
   ]
  },
  {
   "cell_type": "code",
   "execution_count": 50,
   "metadata": {
    "execution": {
     "iopub.execute_input": "2020-12-04T21:36:54.521068Z",
     "iopub.status.busy": "2020-12-04T21:36:54.519826Z",
     "iopub.status.idle": "2020-12-04T21:36:54.524574Z",
     "shell.execute_reply": "2020-12-04T21:36:54.523849Z"
    },
    "papermill": {
     "duration": 0.143558,
     "end_time": "2020-12-04T21:36:54.524698",
     "exception": false,
     "start_time": "2020-12-04T21:36:54.381140",
     "status": "completed"
    },
    "tags": []
   },
   "outputs": [
    {
     "data": {
      "text/html": [
       "<div>\n",
       "<style scoped>\n",
       "    .dataframe tbody tr th:only-of-type {\n",
       "        vertical-align: middle;\n",
       "    }\n",
       "\n",
       "    .dataframe tbody tr th {\n",
       "        vertical-align: top;\n",
       "    }\n",
       "\n",
       "    .dataframe thead th {\n",
       "        text-align: right;\n",
       "    }\n",
       "</style>\n",
       "<table border=\"1\" class=\"dataframe\">\n",
       "  <thead>\n",
       "    <tr style=\"text-align: right;\">\n",
       "      <th></th>\n",
       "      <th>Pclass</th>\n",
       "      <th>Age</th>\n",
       "      <th>Family_size</th>\n",
       "      <th>Total_fare</th>\n",
       "      <th>Sex_female</th>\n",
       "      <th>Sex_male</th>\n",
       "      <th>Embarked_C</th>\n",
       "      <th>Embarked_Q</th>\n",
       "      <th>Embarked_S</th>\n",
       "      <th>Title_Master</th>\n",
       "      <th>Title_Miss</th>\n",
       "      <th>Title_Mr</th>\n",
       "      <th>Title_Mrs</th>\n",
       "      <th>Title_Officer</th>\n",
       "      <th>Title_Royal</th>\n",
       "    </tr>\n",
       "  </thead>\n",
       "  <tbody>\n",
       "    <tr>\n",
       "      <th>0</th>\n",
       "      <td>3.0</td>\n",
       "      <td>22.0</td>\n",
       "      <td>2.0</td>\n",
       "      <td>14.0</td>\n",
       "      <td>0</td>\n",
       "      <td>1</td>\n",
       "      <td>0</td>\n",
       "      <td>0</td>\n",
       "      <td>1</td>\n",
       "      <td>0</td>\n",
       "      <td>0</td>\n",
       "      <td>1</td>\n",
       "      <td>0</td>\n",
       "      <td>0</td>\n",
       "      <td>0</td>\n",
       "    </tr>\n",
       "    <tr>\n",
       "      <th>1</th>\n",
       "      <td>1.0</td>\n",
       "      <td>38.0</td>\n",
       "      <td>2.0</td>\n",
       "      <td>143.0</td>\n",
       "      <td>1</td>\n",
       "      <td>0</td>\n",
       "      <td>1</td>\n",
       "      <td>0</td>\n",
       "      <td>0</td>\n",
       "      <td>0</td>\n",
       "      <td>0</td>\n",
       "      <td>0</td>\n",
       "      <td>1</td>\n",
       "      <td>0</td>\n",
       "      <td>0</td>\n",
       "    </tr>\n",
       "    <tr>\n",
       "      <th>2</th>\n",
       "      <td>3.0</td>\n",
       "      <td>26.0</td>\n",
       "      <td>1.0</td>\n",
       "      <td>8.0</td>\n",
       "      <td>1</td>\n",
       "      <td>0</td>\n",
       "      <td>0</td>\n",
       "      <td>0</td>\n",
       "      <td>1</td>\n",
       "      <td>0</td>\n",
       "      <td>1</td>\n",
       "      <td>0</td>\n",
       "      <td>0</td>\n",
       "      <td>0</td>\n",
       "      <td>0</td>\n",
       "    </tr>\n",
       "    <tr>\n",
       "      <th>3</th>\n",
       "      <td>1.0</td>\n",
       "      <td>35.0</td>\n",
       "      <td>2.0</td>\n",
       "      <td>106.0</td>\n",
       "      <td>1</td>\n",
       "      <td>0</td>\n",
       "      <td>0</td>\n",
       "      <td>0</td>\n",
       "      <td>1</td>\n",
       "      <td>0</td>\n",
       "      <td>0</td>\n",
       "      <td>0</td>\n",
       "      <td>1</td>\n",
       "      <td>0</td>\n",
       "      <td>0</td>\n",
       "    </tr>\n",
       "    <tr>\n",
       "      <th>4</th>\n",
       "      <td>3.0</td>\n",
       "      <td>35.0</td>\n",
       "      <td>1.0</td>\n",
       "      <td>8.0</td>\n",
       "      <td>0</td>\n",
       "      <td>1</td>\n",
       "      <td>0</td>\n",
       "      <td>0</td>\n",
       "      <td>1</td>\n",
       "      <td>0</td>\n",
       "      <td>0</td>\n",
       "      <td>1</td>\n",
       "      <td>0</td>\n",
       "      <td>0</td>\n",
       "      <td>0</td>\n",
       "    </tr>\n",
       "  </tbody>\n",
       "</table>\n",
       "</div>"
      ],
      "text/plain": [
       "   Pclass   Age  Family_size  Total_fare  Sex_female  Sex_male  Embarked_C  \\\n",
       "0     3.0  22.0          2.0        14.0           0         1           0   \n",
       "1     1.0  38.0          2.0       143.0           1         0           1   \n",
       "2     3.0  26.0          1.0         8.0           1         0           0   \n",
       "3     1.0  35.0          2.0       106.0           1         0           0   \n",
       "4     3.0  35.0          1.0         8.0           0         1           0   \n",
       "\n",
       "   Embarked_Q  Embarked_S  Title_Master  Title_Miss  Title_Mr  Title_Mrs  \\\n",
       "0           0           1             0           0         1          0   \n",
       "1           0           0             0           0         0          1   \n",
       "2           0           1             0           1         0          0   \n",
       "3           0           1             0           0         0          1   \n",
       "4           0           1             0           0         1          0   \n",
       "\n",
       "   Title_Officer  Title_Royal  \n",
       "0              0            0  \n",
       "1              0            0  \n",
       "2              0            0  \n",
       "3              0            0  \n",
       "4              0            0  "
      ]
     },
     "execution_count": 50,
     "metadata": {},
     "output_type": "execute_result"
    }
   ],
   "source": [
    "#concat cat_df and num_df along the columns\n",
    "data_df = pd.concat([num_df,cat_df], axis = 1)\n",
    "\n",
    "#check data after concatenation\n",
    "data_df.head()"
   ]
  },
  {
   "cell_type": "code",
   "execution_count": 51,
   "metadata": {
    "execution": {
     "iopub.execute_input": "2020-12-04T21:36:54.770704Z",
     "iopub.status.busy": "2020-12-04T21:36:54.769592Z",
     "iopub.status.idle": "2020-12-04T21:36:54.783059Z",
     "shell.execute_reply": "2020-12-04T21:36:54.782055Z"
    },
    "papermill": {
     "duration": 0.139039,
     "end_time": "2020-12-04T21:36:54.783293",
     "exception": false,
     "start_time": "2020-12-04T21:36:54.644254",
     "status": "completed"
    },
    "tags": []
   },
   "outputs": [
    {
     "name": "stdout",
     "output_type": "stream",
     "text": [
      "<class 'pandas.core.frame.DataFrame'>\n",
      "RangeIndex: 1309 entries, 0 to 1308\n",
      "Data columns (total 15 columns):\n",
      " #   Column         Non-Null Count  Dtype  \n",
      "---  ------         --------------  -----  \n",
      " 0   Pclass         1309 non-null   float64\n",
      " 1   Age            1309 non-null   float64\n",
      " 2   Family_size    1309 non-null   float64\n",
      " 3   Total_fare     1309 non-null   float64\n",
      " 4   Sex_female     1309 non-null   uint8  \n",
      " 5   Sex_male       1309 non-null   uint8  \n",
      " 6   Embarked_C     1309 non-null   uint8  \n",
      " 7   Embarked_Q     1309 non-null   uint8  \n",
      " 8   Embarked_S     1309 non-null   uint8  \n",
      " 9   Title_Master   1309 non-null   uint8  \n",
      " 10  Title_Miss     1309 non-null   uint8  \n",
      " 11  Title_Mr       1309 non-null   uint8  \n",
      " 12  Title_Mrs      1309 non-null   uint8  \n",
      " 13  Title_Officer  1309 non-null   uint8  \n",
      " 14  Title_Royal    1309 non-null   uint8  \n",
      "dtypes: float64(4), uint8(11)\n",
      "memory usage: 55.1 KB\n"
     ]
    }
   ],
   "source": [
    "data_df.info()"
   ]
  },
  {
   "cell_type": "markdown",
   "metadata": {
    "papermill": {
     "duration": 0.120008,
     "end_time": "2020-12-04T21:36:55.024800",
     "exception": false,
     "start_time": "2020-12-04T21:36:54.904792",
     "status": "completed"
    },
    "tags": []
   },
   "source": [
    "There are total 15 columns now with 1309 entires corresponding to 891 of training and 418 of testing data."
   ]
  },
  {
   "cell_type": "code",
   "execution_count": 52,
   "metadata": {
    "execution": {
     "iopub.execute_input": "2020-12-04T21:36:55.294471Z",
     "iopub.status.busy": "2020-12-04T21:36:55.293354Z",
     "iopub.status.idle": "2020-12-04T21:36:55.298124Z",
     "shell.execute_reply": "2020-12-04T21:36:55.298689Z"
    },
    "papermill": {
     "duration": 0.151981,
     "end_time": "2020-12-04T21:36:55.298858",
     "exception": false,
     "start_time": "2020-12-04T21:36:55.146877",
     "status": "completed"
    },
    "tags": []
   },
   "outputs": [
    {
     "data": {
      "text/html": [
       "<div>\n",
       "<style scoped>\n",
       "    .dataframe tbody tr th:only-of-type {\n",
       "        vertical-align: middle;\n",
       "    }\n",
       "\n",
       "    .dataframe tbody tr th {\n",
       "        vertical-align: top;\n",
       "    }\n",
       "\n",
       "    .dataframe thead th {\n",
       "        text-align: right;\n",
       "    }\n",
       "</style>\n",
       "<table border=\"1\" class=\"dataframe\">\n",
       "  <thead>\n",
       "    <tr style=\"text-align: right;\">\n",
       "      <th></th>\n",
       "      <th>Pclass</th>\n",
       "      <th>Age</th>\n",
       "      <th>Family_size</th>\n",
       "      <th>Total_fare</th>\n",
       "      <th>Sex_female</th>\n",
       "      <th>Sex_male</th>\n",
       "      <th>Embarked_C</th>\n",
       "      <th>Embarked_Q</th>\n",
       "      <th>Embarked_S</th>\n",
       "      <th>Title_Master</th>\n",
       "      <th>Title_Miss</th>\n",
       "      <th>Title_Mr</th>\n",
       "      <th>Title_Mrs</th>\n",
       "      <th>Title_Officer</th>\n",
       "      <th>Title_Royal</th>\n",
       "    </tr>\n",
       "  </thead>\n",
       "  <tbody>\n",
       "    <tr>\n",
       "      <th>0</th>\n",
       "      <td>3.0</td>\n",
       "      <td>22.0</td>\n",
       "      <td>2.0</td>\n",
       "      <td>14.0</td>\n",
       "      <td>0</td>\n",
       "      <td>1</td>\n",
       "      <td>0</td>\n",
       "      <td>0</td>\n",
       "      <td>1</td>\n",
       "      <td>0</td>\n",
       "      <td>0</td>\n",
       "      <td>1</td>\n",
       "      <td>0</td>\n",
       "      <td>0</td>\n",
       "      <td>0</td>\n",
       "    </tr>\n",
       "    <tr>\n",
       "      <th>1</th>\n",
       "      <td>1.0</td>\n",
       "      <td>38.0</td>\n",
       "      <td>2.0</td>\n",
       "      <td>143.0</td>\n",
       "      <td>1</td>\n",
       "      <td>0</td>\n",
       "      <td>1</td>\n",
       "      <td>0</td>\n",
       "      <td>0</td>\n",
       "      <td>0</td>\n",
       "      <td>0</td>\n",
       "      <td>0</td>\n",
       "      <td>1</td>\n",
       "      <td>0</td>\n",
       "      <td>0</td>\n",
       "    </tr>\n",
       "    <tr>\n",
       "      <th>2</th>\n",
       "      <td>3.0</td>\n",
       "      <td>26.0</td>\n",
       "      <td>1.0</td>\n",
       "      <td>8.0</td>\n",
       "      <td>1</td>\n",
       "      <td>0</td>\n",
       "      <td>0</td>\n",
       "      <td>0</td>\n",
       "      <td>1</td>\n",
       "      <td>0</td>\n",
       "      <td>1</td>\n",
       "      <td>0</td>\n",
       "      <td>0</td>\n",
       "      <td>0</td>\n",
       "      <td>0</td>\n",
       "    </tr>\n",
       "    <tr>\n",
       "      <th>3</th>\n",
       "      <td>1.0</td>\n",
       "      <td>35.0</td>\n",
       "      <td>2.0</td>\n",
       "      <td>106.0</td>\n",
       "      <td>1</td>\n",
       "      <td>0</td>\n",
       "      <td>0</td>\n",
       "      <td>0</td>\n",
       "      <td>1</td>\n",
       "      <td>0</td>\n",
       "      <td>0</td>\n",
       "      <td>0</td>\n",
       "      <td>1</td>\n",
       "      <td>0</td>\n",
       "      <td>0</td>\n",
       "    </tr>\n",
       "    <tr>\n",
       "      <th>4</th>\n",
       "      <td>3.0</td>\n",
       "      <td>35.0</td>\n",
       "      <td>1.0</td>\n",
       "      <td>8.0</td>\n",
       "      <td>0</td>\n",
       "      <td>1</td>\n",
       "      <td>0</td>\n",
       "      <td>0</td>\n",
       "      <td>1</td>\n",
       "      <td>0</td>\n",
       "      <td>0</td>\n",
       "      <td>1</td>\n",
       "      <td>0</td>\n",
       "      <td>0</td>\n",
       "      <td>0</td>\n",
       "    </tr>\n",
       "  </tbody>\n",
       "</table>\n",
       "</div>"
      ],
      "text/plain": [
       "   Pclass   Age  Family_size  Total_fare  Sex_female  Sex_male  Embarked_C  \\\n",
       "0     3.0  22.0          2.0        14.0           0         1           0   \n",
       "1     1.0  38.0          2.0       143.0           1         0           1   \n",
       "2     3.0  26.0          1.0         8.0           1         0           0   \n",
       "3     1.0  35.0          2.0       106.0           1         0           0   \n",
       "4     3.0  35.0          1.0         8.0           0         1           0   \n",
       "\n",
       "   Embarked_Q  Embarked_S  Title_Master  Title_Miss  Title_Mr  Title_Mrs  \\\n",
       "0           0           1             0           0         1          0   \n",
       "1           0           0             0           0         0          1   \n",
       "2           0           1             0           1         0          0   \n",
       "3           0           1             0           0         0          1   \n",
       "4           0           1             0           0         1          0   \n",
       "\n",
       "   Title_Officer  Title_Royal  \n",
       "0              0            0  \n",
       "1              0            0  \n",
       "2              0            0  \n",
       "3              0            0  \n",
       "4              0            0  "
      ]
     },
     "execution_count": 52,
     "metadata": {},
     "output_type": "execute_result"
    }
   ],
   "source": [
    "data_df.head()"
   ]
  },
  {
   "cell_type": "code",
   "execution_count": 53,
   "metadata": {
    "execution": {
     "iopub.execute_input": "2020-12-04T21:36:55.554590Z",
     "iopub.status.busy": "2020-12-04T21:36:55.553645Z",
     "iopub.status.idle": "2020-12-04T21:36:55.568545Z",
     "shell.execute_reply": "2020-12-04T21:36:55.567794Z"
    },
    "papermill": {
     "duration": 0.148507,
     "end_time": "2020-12-04T21:36:55.568679",
     "exception": false,
     "start_time": "2020-12-04T21:36:55.420172",
     "status": "completed"
    },
    "tags": []
   },
   "outputs": [
    {
     "data": {
      "text/html": [
       "<div>\n",
       "<style scoped>\n",
       "    .dataframe tbody tr th:only-of-type {\n",
       "        vertical-align: middle;\n",
       "    }\n",
       "\n",
       "    .dataframe tbody tr th {\n",
       "        vertical-align: top;\n",
       "    }\n",
       "\n",
       "    .dataframe thead th {\n",
       "        text-align: right;\n",
       "    }\n",
       "</style>\n",
       "<table border=\"1\" class=\"dataframe\">\n",
       "  <thead>\n",
       "    <tr style=\"text-align: right;\">\n",
       "      <th></th>\n",
       "      <th>Pclass</th>\n",
       "      <th>Age</th>\n",
       "      <th>Family_size</th>\n",
       "      <th>Total_fare</th>\n",
       "      <th>Sex_female</th>\n",
       "      <th>Sex_male</th>\n",
       "      <th>Embarked_C</th>\n",
       "      <th>Embarked_Q</th>\n",
       "      <th>Embarked_S</th>\n",
       "      <th>Title_Master</th>\n",
       "      <th>Title_Miss</th>\n",
       "      <th>Title_Mr</th>\n",
       "      <th>Title_Mrs</th>\n",
       "      <th>Title_Officer</th>\n",
       "      <th>Title_Royal</th>\n",
       "    </tr>\n",
       "  </thead>\n",
       "  <tbody>\n",
       "    <tr>\n",
       "      <th>1304</th>\n",
       "      <td>3.0</td>\n",
       "      <td>30.0</td>\n",
       "      <td>1.0</td>\n",
       "      <td>8.0</td>\n",
       "      <td>0</td>\n",
       "      <td>1</td>\n",
       "      <td>0</td>\n",
       "      <td>0</td>\n",
       "      <td>1</td>\n",
       "      <td>0</td>\n",
       "      <td>0</td>\n",
       "      <td>1</td>\n",
       "      <td>0</td>\n",
       "      <td>0</td>\n",
       "      <td>0</td>\n",
       "    </tr>\n",
       "    <tr>\n",
       "      <th>1305</th>\n",
       "      <td>1.0</td>\n",
       "      <td>39.0</td>\n",
       "      <td>1.0</td>\n",
       "      <td>109.0</td>\n",
       "      <td>1</td>\n",
       "      <td>0</td>\n",
       "      <td>1</td>\n",
       "      <td>0</td>\n",
       "      <td>0</td>\n",
       "      <td>0</td>\n",
       "      <td>1</td>\n",
       "      <td>0</td>\n",
       "      <td>0</td>\n",
       "      <td>0</td>\n",
       "      <td>0</td>\n",
       "    </tr>\n",
       "    <tr>\n",
       "      <th>1306</th>\n",
       "      <td>3.0</td>\n",
       "      <td>38.0</td>\n",
       "      <td>1.0</td>\n",
       "      <td>7.0</td>\n",
       "      <td>0</td>\n",
       "      <td>1</td>\n",
       "      <td>0</td>\n",
       "      <td>0</td>\n",
       "      <td>1</td>\n",
       "      <td>0</td>\n",
       "      <td>0</td>\n",
       "      <td>1</td>\n",
       "      <td>0</td>\n",
       "      <td>0</td>\n",
       "      <td>0</td>\n",
       "    </tr>\n",
       "    <tr>\n",
       "      <th>1307</th>\n",
       "      <td>3.0</td>\n",
       "      <td>30.0</td>\n",
       "      <td>1.0</td>\n",
       "      <td>8.0</td>\n",
       "      <td>0</td>\n",
       "      <td>1</td>\n",
       "      <td>0</td>\n",
       "      <td>0</td>\n",
       "      <td>1</td>\n",
       "      <td>0</td>\n",
       "      <td>0</td>\n",
       "      <td>1</td>\n",
       "      <td>0</td>\n",
       "      <td>0</td>\n",
       "      <td>0</td>\n",
       "    </tr>\n",
       "    <tr>\n",
       "      <th>1308</th>\n",
       "      <td>3.0</td>\n",
       "      <td>8.0</td>\n",
       "      <td>3.0</td>\n",
       "      <td>67.0</td>\n",
       "      <td>0</td>\n",
       "      <td>1</td>\n",
       "      <td>1</td>\n",
       "      <td>0</td>\n",
       "      <td>0</td>\n",
       "      <td>1</td>\n",
       "      <td>0</td>\n",
       "      <td>0</td>\n",
       "      <td>0</td>\n",
       "      <td>0</td>\n",
       "      <td>0</td>\n",
       "    </tr>\n",
       "  </tbody>\n",
       "</table>\n",
       "</div>"
      ],
      "text/plain": [
       "      Pclass   Age  Family_size  Total_fare  Sex_female  Sex_male  Embarked_C  \\\n",
       "1304     3.0  30.0          1.0         8.0           0         1           0   \n",
       "1305     1.0  39.0          1.0       109.0           1         0           1   \n",
       "1306     3.0  38.0          1.0         7.0           0         1           0   \n",
       "1307     3.0  30.0          1.0         8.0           0         1           0   \n",
       "1308     3.0   8.0          3.0        67.0           0         1           1   \n",
       "\n",
       "      Embarked_Q  Embarked_S  Title_Master  Title_Miss  Title_Mr  Title_Mrs  \\\n",
       "1304           0           1             0           0         1          0   \n",
       "1305           0           0             0           1         0          0   \n",
       "1306           0           1             0           0         1          0   \n",
       "1307           0           1             0           0         1          0   \n",
       "1308           0           0             1           0         0          0   \n",
       "\n",
       "      Title_Officer  Title_Royal  \n",
       "1304              0            0  \n",
       "1305              0            0  \n",
       "1306              0            0  \n",
       "1307              0            0  \n",
       "1308              0            0  "
      ]
     },
     "execution_count": 53,
     "metadata": {},
     "output_type": "execute_result"
    }
   ],
   "source": [
    "data_df.tail()"
   ]
  },
  {
   "cell_type": "code",
   "execution_count": 54,
   "metadata": {
    "execution": {
     "iopub.execute_input": "2020-12-04T21:36:55.822346Z",
     "iopub.status.busy": "2020-12-04T21:36:55.821448Z",
     "iopub.status.idle": "2020-12-04T21:36:55.824952Z",
     "shell.execute_reply": "2020-12-04T21:36:55.824321Z"
    },
    "papermill": {
     "duration": 0.131806,
     "end_time": "2020-12-04T21:36:55.825106",
     "exception": false,
     "start_time": "2020-12-04T21:36:55.693300",
     "status": "completed"
    },
    "tags": []
   },
   "outputs": [],
   "source": [
    "#divide the data into their respective train and test\n",
    "train_data = data_df[:len(train_titanic)]\n",
    "test_data = data_df[len(train_titanic):]\n",
    "test_data = test_data.reset_index(drop = True)"
   ]
  },
  {
   "cell_type": "code",
   "execution_count": 55,
   "metadata": {
    "execution": {
     "iopub.execute_input": "2020-12-04T21:36:56.100776Z",
     "iopub.status.busy": "2020-12-04T21:36:56.099717Z",
     "iopub.status.idle": "2020-12-04T21:36:56.104476Z",
     "shell.execute_reply": "2020-12-04T21:36:56.105038Z"
    },
    "papermill": {
     "duration": 0.152252,
     "end_time": "2020-12-04T21:36:56.105226",
     "exception": false,
     "start_time": "2020-12-04T21:36:55.952974",
     "status": "completed"
    },
    "tags": []
   },
   "outputs": [
    {
     "data": {
      "text/html": [
       "<div>\n",
       "<style scoped>\n",
       "    .dataframe tbody tr th:only-of-type {\n",
       "        vertical-align: middle;\n",
       "    }\n",
       "\n",
       "    .dataframe tbody tr th {\n",
       "        vertical-align: top;\n",
       "    }\n",
       "\n",
       "    .dataframe thead th {\n",
       "        text-align: right;\n",
       "    }\n",
       "</style>\n",
       "<table border=\"1\" class=\"dataframe\">\n",
       "  <thead>\n",
       "    <tr style=\"text-align: right;\">\n",
       "      <th></th>\n",
       "      <th>Pclass</th>\n",
       "      <th>Age</th>\n",
       "      <th>Family_size</th>\n",
       "      <th>Total_fare</th>\n",
       "      <th>Sex_female</th>\n",
       "      <th>Sex_male</th>\n",
       "      <th>Embarked_C</th>\n",
       "      <th>Embarked_Q</th>\n",
       "      <th>Embarked_S</th>\n",
       "      <th>Title_Master</th>\n",
       "      <th>Title_Miss</th>\n",
       "      <th>Title_Mr</th>\n",
       "      <th>Title_Mrs</th>\n",
       "      <th>Title_Officer</th>\n",
       "      <th>Title_Royal</th>\n",
       "    </tr>\n",
       "  </thead>\n",
       "  <tbody>\n",
       "    <tr>\n",
       "      <th>0</th>\n",
       "      <td>3.0</td>\n",
       "      <td>34.0</td>\n",
       "      <td>1.0</td>\n",
       "      <td>8.0</td>\n",
       "      <td>0</td>\n",
       "      <td>1</td>\n",
       "      <td>0</td>\n",
       "      <td>1</td>\n",
       "      <td>0</td>\n",
       "      <td>0</td>\n",
       "      <td>0</td>\n",
       "      <td>1</td>\n",
       "      <td>0</td>\n",
       "      <td>0</td>\n",
       "      <td>0</td>\n",
       "    </tr>\n",
       "    <tr>\n",
       "      <th>1</th>\n",
       "      <td>3.0</td>\n",
       "      <td>47.0</td>\n",
       "      <td>2.0</td>\n",
       "      <td>14.0</td>\n",
       "      <td>1</td>\n",
       "      <td>0</td>\n",
       "      <td>0</td>\n",
       "      <td>0</td>\n",
       "      <td>1</td>\n",
       "      <td>0</td>\n",
       "      <td>0</td>\n",
       "      <td>0</td>\n",
       "      <td>1</td>\n",
       "      <td>0</td>\n",
       "      <td>0</td>\n",
       "    </tr>\n",
       "    <tr>\n",
       "      <th>2</th>\n",
       "      <td>2.0</td>\n",
       "      <td>62.0</td>\n",
       "      <td>1.0</td>\n",
       "      <td>10.0</td>\n",
       "      <td>0</td>\n",
       "      <td>1</td>\n",
       "      <td>0</td>\n",
       "      <td>1</td>\n",
       "      <td>0</td>\n",
       "      <td>0</td>\n",
       "      <td>0</td>\n",
       "      <td>1</td>\n",
       "      <td>0</td>\n",
       "      <td>0</td>\n",
       "      <td>0</td>\n",
       "    </tr>\n",
       "    <tr>\n",
       "      <th>3</th>\n",
       "      <td>3.0</td>\n",
       "      <td>27.0</td>\n",
       "      <td>1.0</td>\n",
       "      <td>9.0</td>\n",
       "      <td>0</td>\n",
       "      <td>1</td>\n",
       "      <td>0</td>\n",
       "      <td>0</td>\n",
       "      <td>1</td>\n",
       "      <td>0</td>\n",
       "      <td>0</td>\n",
       "      <td>1</td>\n",
       "      <td>0</td>\n",
       "      <td>0</td>\n",
       "      <td>0</td>\n",
       "    </tr>\n",
       "    <tr>\n",
       "      <th>4</th>\n",
       "      <td>3.0</td>\n",
       "      <td>22.0</td>\n",
       "      <td>3.0</td>\n",
       "      <td>37.0</td>\n",
       "      <td>1</td>\n",
       "      <td>0</td>\n",
       "      <td>0</td>\n",
       "      <td>0</td>\n",
       "      <td>1</td>\n",
       "      <td>0</td>\n",
       "      <td>0</td>\n",
       "      <td>0</td>\n",
       "      <td>1</td>\n",
       "      <td>0</td>\n",
       "      <td>0</td>\n",
       "    </tr>\n",
       "  </tbody>\n",
       "</table>\n",
       "</div>"
      ],
      "text/plain": [
       "   Pclass   Age  Family_size  Total_fare  Sex_female  Sex_male  Embarked_C  \\\n",
       "0     3.0  34.0          1.0         8.0           0         1           0   \n",
       "1     3.0  47.0          2.0        14.0           1         0           0   \n",
       "2     2.0  62.0          1.0        10.0           0         1           0   \n",
       "3     3.0  27.0          1.0         9.0           0         1           0   \n",
       "4     3.0  22.0          3.0        37.0           1         0           0   \n",
       "\n",
       "   Embarked_Q  Embarked_S  Title_Master  Title_Miss  Title_Mr  Title_Mrs  \\\n",
       "0           1           0             0           0         1          0   \n",
       "1           0           1             0           0         0          1   \n",
       "2           1           0             0           0         1          0   \n",
       "3           0           1             0           0         1          0   \n",
       "4           0           1             0           0         0          1   \n",
       "\n",
       "   Title_Officer  Title_Royal  \n",
       "0              0            0  \n",
       "1              0            0  \n",
       "2              0            0  \n",
       "3              0            0  \n",
       "4              0            0  "
      ]
     },
     "execution_count": 55,
     "metadata": {},
     "output_type": "execute_result"
    }
   ],
   "source": [
    "test_data.head()"
   ]
  },
  {
   "cell_type": "code",
   "execution_count": 56,
   "metadata": {
    "execution": {
     "iopub.execute_input": "2020-12-04T21:36:56.362110Z",
     "iopub.status.busy": "2020-12-04T21:36:56.360929Z",
     "iopub.status.idle": "2020-12-04T21:36:56.365231Z",
     "shell.execute_reply": "2020-12-04T21:36:56.365969Z"
    },
    "papermill": {
     "duration": 0.135464,
     "end_time": "2020-12-04T21:36:56.366196",
     "exception": false,
     "start_time": "2020-12-04T21:36:56.230732",
     "status": "completed"
    },
    "tags": []
   },
   "outputs": [
    {
     "name": "stdout",
     "output_type": "stream",
     "text": [
      "(891, 15)\n",
      "(418, 15)\n"
     ]
    }
   ],
   "source": [
    "#verify the shape of train and test data\n",
    "print(train_data.shape)\n",
    "print(test_data.shape)"
   ]
  },
  {
   "cell_type": "code",
   "execution_count": 57,
   "metadata": {
    "execution": {
     "iopub.execute_input": "2020-12-04T21:36:56.621386Z",
     "iopub.status.busy": "2020-12-04T21:36:56.620545Z",
     "iopub.status.idle": "2020-12-04T21:36:56.647267Z",
     "shell.execute_reply": "2020-12-04T21:36:56.646533Z"
    },
    "papermill": {
     "duration": 0.157955,
     "end_time": "2020-12-04T21:36:56.647397",
     "exception": false,
     "start_time": "2020-12-04T21:36:56.489442",
     "status": "completed"
    },
    "tags": []
   },
   "outputs": [
    {
     "data": {
      "text/html": [
       "<div>\n",
       "<style scoped>\n",
       "    .dataframe tbody tr th:only-of-type {\n",
       "        vertical-align: middle;\n",
       "    }\n",
       "\n",
       "    .dataframe tbody tr th {\n",
       "        vertical-align: top;\n",
       "    }\n",
       "\n",
       "    .dataframe thead th {\n",
       "        text-align: right;\n",
       "    }\n",
       "</style>\n",
       "<table border=\"1\" class=\"dataframe\">\n",
       "  <thead>\n",
       "    <tr style=\"text-align: right;\">\n",
       "      <th></th>\n",
       "      <th>Pclass</th>\n",
       "      <th>Age</th>\n",
       "      <th>Family_size</th>\n",
       "      <th>Total_fare</th>\n",
       "      <th>Sex_female</th>\n",
       "      <th>Sex_male</th>\n",
       "      <th>Embarked_C</th>\n",
       "      <th>Embarked_Q</th>\n",
       "      <th>Embarked_S</th>\n",
       "      <th>Title_Master</th>\n",
       "      <th>Title_Miss</th>\n",
       "      <th>Title_Mr</th>\n",
       "      <th>Title_Mrs</th>\n",
       "      <th>Title_Officer</th>\n",
       "      <th>Title_Royal</th>\n",
       "    </tr>\n",
       "  </thead>\n",
       "  <tbody>\n",
       "    <tr>\n",
       "      <th>0</th>\n",
       "      <td>0.827377</td>\n",
       "      <td>-0.548403</td>\n",
       "      <td>0.059160</td>\n",
       "      <td>-0.390162</td>\n",
       "      <td>-0.737695</td>\n",
       "      <td>0.737695</td>\n",
       "      <td>-0.485576</td>\n",
       "      <td>-0.307562</td>\n",
       "      <td>0.619306</td>\n",
       "      <td>-0.216803</td>\n",
       "      <td>-0.513644</td>\n",
       "      <td>0.850532</td>\n",
       "      <td>-0.403962</td>\n",
       "      <td>-0.143592</td>\n",
       "      <td>-0.075122</td>\n",
       "    </tr>\n",
       "    <tr>\n",
       "      <th>1</th>\n",
       "      <td>-1.566107</td>\n",
       "      <td>0.612921</td>\n",
       "      <td>0.059160</td>\n",
       "      <td>0.387247</td>\n",
       "      <td>1.355574</td>\n",
       "      <td>-1.355574</td>\n",
       "      <td>2.059412</td>\n",
       "      <td>-0.307562</td>\n",
       "      <td>-1.614710</td>\n",
       "      <td>-0.216803</td>\n",
       "      <td>-0.513644</td>\n",
       "      <td>-1.175735</td>\n",
       "      <td>2.475480</td>\n",
       "      <td>-0.143592</td>\n",
       "      <td>-0.075122</td>\n",
       "    </tr>\n",
       "    <tr>\n",
       "      <th>2</th>\n",
       "      <td>0.827377</td>\n",
       "      <td>-0.258072</td>\n",
       "      <td>-0.560975</td>\n",
       "      <td>-0.426321</td>\n",
       "      <td>1.355574</td>\n",
       "      <td>-1.355574</td>\n",
       "      <td>-0.485576</td>\n",
       "      <td>-0.307562</td>\n",
       "      <td>0.619306</td>\n",
       "      <td>-0.216803</td>\n",
       "      <td>1.946875</td>\n",
       "      <td>-1.175735</td>\n",
       "      <td>-0.403962</td>\n",
       "      <td>-0.143592</td>\n",
       "      <td>-0.075122</td>\n",
       "    </tr>\n",
       "  </tbody>\n",
       "</table>\n",
       "</div>"
      ],
      "text/plain": [
       "     Pclass       Age  Family_size  Total_fare  Sex_female  Sex_male  \\\n",
       "0  0.827377 -0.548403     0.059160   -0.390162   -0.737695  0.737695   \n",
       "1 -1.566107  0.612921     0.059160    0.387247    1.355574 -1.355574   \n",
       "2  0.827377 -0.258072    -0.560975   -0.426321    1.355574 -1.355574   \n",
       "\n",
       "   Embarked_C  Embarked_Q  Embarked_S  Title_Master  Title_Miss  Title_Mr  \\\n",
       "0   -0.485576   -0.307562    0.619306     -0.216803   -0.513644  0.850532   \n",
       "1    2.059412   -0.307562   -1.614710     -0.216803   -0.513644 -1.175735   \n",
       "2   -0.485576   -0.307562    0.619306     -0.216803    1.946875 -1.175735   \n",
       "\n",
       "   Title_Mrs  Title_Officer  Title_Royal  \n",
       "0  -0.403962      -0.143592    -0.075122  \n",
       "1   2.475480      -0.143592    -0.075122  \n",
       "2  -0.403962      -0.143592    -0.075122  "
      ]
     },
     "execution_count": 57,
     "metadata": {},
     "output_type": "execute_result"
    }
   ],
   "source": [
    "#normalize the data\n",
    "scale = StandardScaler()\n",
    "\n",
    "#convert the output a dataframe\n",
    "train_ = pd.DataFrame(scale.fit_transform(train_data), columns = train_data.columns)\n",
    "test_ = pd.DataFrame(scale.transform(test_data), columns = test_data.columns)\n",
    "\n",
    "#check the scaled data\n",
    "train_.head(3)"
   ]
  },
  {
   "cell_type": "code",
   "execution_count": 58,
   "metadata": {
    "execution": {
     "iopub.execute_input": "2020-12-04T21:36:56.920683Z",
     "iopub.status.busy": "2020-12-04T21:36:56.919746Z",
     "iopub.status.idle": "2020-12-04T21:36:56.924480Z",
     "shell.execute_reply": "2020-12-04T21:36:56.923804Z"
    },
    "papermill": {
     "duration": 0.150598,
     "end_time": "2020-12-04T21:36:56.924610",
     "exception": false,
     "start_time": "2020-12-04T21:36:56.774012",
     "status": "completed"
    },
    "tags": []
   },
   "outputs": [
    {
     "data": {
      "text/html": [
       "<div>\n",
       "<style scoped>\n",
       "    .dataframe tbody tr th:only-of-type {\n",
       "        vertical-align: middle;\n",
       "    }\n",
       "\n",
       "    .dataframe tbody tr th {\n",
       "        vertical-align: top;\n",
       "    }\n",
       "\n",
       "    .dataframe thead th {\n",
       "        text-align: right;\n",
       "    }\n",
       "</style>\n",
       "<table border=\"1\" class=\"dataframe\">\n",
       "  <thead>\n",
       "    <tr style=\"text-align: right;\">\n",
       "      <th></th>\n",
       "      <th>Pclass</th>\n",
       "      <th>Age</th>\n",
       "      <th>Family_size</th>\n",
       "      <th>Total_fare</th>\n",
       "      <th>Sex_female</th>\n",
       "      <th>Sex_male</th>\n",
       "      <th>Embarked_C</th>\n",
       "      <th>Embarked_Q</th>\n",
       "      <th>Embarked_S</th>\n",
       "      <th>Title_Master</th>\n",
       "      <th>Title_Miss</th>\n",
       "      <th>Title_Mr</th>\n",
       "      <th>Title_Mrs</th>\n",
       "      <th>Title_Officer</th>\n",
       "      <th>Title_Royal</th>\n",
       "    </tr>\n",
       "  </thead>\n",
       "  <tbody>\n",
       "    <tr>\n",
       "      <th>0</th>\n",
       "      <td>0.827377</td>\n",
       "      <td>0.322590</td>\n",
       "      <td>-0.560975</td>\n",
       "      <td>-0.426321</td>\n",
       "      <td>-0.737695</td>\n",
       "      <td>0.737695</td>\n",
       "      <td>-0.485576</td>\n",
       "      <td>3.251373</td>\n",
       "      <td>-1.614710</td>\n",
       "      <td>-0.216803</td>\n",
       "      <td>-0.513644</td>\n",
       "      <td>0.850532</td>\n",
       "      <td>-0.403962</td>\n",
       "      <td>-0.143592</td>\n",
       "      <td>-0.075122</td>\n",
       "    </tr>\n",
       "    <tr>\n",
       "      <th>1</th>\n",
       "      <td>0.827377</td>\n",
       "      <td>1.266166</td>\n",
       "      <td>0.059160</td>\n",
       "      <td>-0.390162</td>\n",
       "      <td>1.355574</td>\n",
       "      <td>-1.355574</td>\n",
       "      <td>-0.485576</td>\n",
       "      <td>-0.307562</td>\n",
       "      <td>0.619306</td>\n",
       "      <td>-0.216803</td>\n",
       "      <td>-0.513644</td>\n",
       "      <td>-1.175735</td>\n",
       "      <td>2.475480</td>\n",
       "      <td>-0.143592</td>\n",
       "      <td>-0.075122</td>\n",
       "    </tr>\n",
       "    <tr>\n",
       "      <th>2</th>\n",
       "      <td>-0.369365</td>\n",
       "      <td>2.354908</td>\n",
       "      <td>-0.560975</td>\n",
       "      <td>-0.414268</td>\n",
       "      <td>-0.737695</td>\n",
       "      <td>0.737695</td>\n",
       "      <td>-0.485576</td>\n",
       "      <td>3.251373</td>\n",
       "      <td>-1.614710</td>\n",
       "      <td>-0.216803</td>\n",
       "      <td>-0.513644</td>\n",
       "      <td>0.850532</td>\n",
       "      <td>-0.403962</td>\n",
       "      <td>-0.143592</td>\n",
       "      <td>-0.075122</td>\n",
       "    </tr>\n",
       "  </tbody>\n",
       "</table>\n",
       "</div>"
      ],
      "text/plain": [
       "     Pclass       Age  Family_size  Total_fare  Sex_female  Sex_male  \\\n",
       "0  0.827377  0.322590    -0.560975   -0.426321   -0.737695  0.737695   \n",
       "1  0.827377  1.266166     0.059160   -0.390162    1.355574 -1.355574   \n",
       "2 -0.369365  2.354908    -0.560975   -0.414268   -0.737695  0.737695   \n",
       "\n",
       "   Embarked_C  Embarked_Q  Embarked_S  Title_Master  Title_Miss  Title_Mr  \\\n",
       "0   -0.485576    3.251373   -1.614710     -0.216803   -0.513644  0.850532   \n",
       "1   -0.485576   -0.307562    0.619306     -0.216803   -0.513644 -1.175735   \n",
       "2   -0.485576    3.251373   -1.614710     -0.216803   -0.513644  0.850532   \n",
       "\n",
       "   Title_Mrs  Title_Officer  Title_Royal  \n",
       "0  -0.403962      -0.143592    -0.075122  \n",
       "1   2.475480      -0.143592    -0.075122  \n",
       "2  -0.403962      -0.143592    -0.075122  "
      ]
     },
     "execution_count": 58,
     "metadata": {},
     "output_type": "execute_result"
    }
   ],
   "source": [
    "test_.head(3)"
   ]
  },
  {
   "cell_type": "markdown",
   "metadata": {
    "papermill": {
     "duration": 0.1352,
     "end_time": "2020-12-04T21:36:57.219390",
     "exception": false,
     "start_time": "2020-12-04T21:36:57.084190",
     "status": "completed"
    },
    "tags": []
   },
   "source": [
    "**Split data into train and validation sets**"
   ]
  },
  {
   "cell_type": "code",
   "execution_count": 59,
   "metadata": {
    "execution": {
     "iopub.execute_input": "2020-12-04T21:36:57.484515Z",
     "iopub.status.busy": "2020-12-04T21:36:57.482489Z",
     "iopub.status.idle": "2020-12-04T21:36:57.490162Z",
     "shell.execute_reply": "2020-12-04T21:36:57.489487Z"
    },
    "papermill": {
     "duration": 0.142614,
     "end_time": "2020-12-04T21:36:57.490306",
     "exception": false,
     "start_time": "2020-12-04T21:36:57.347692",
     "status": "completed"
    },
    "tags": []
   },
   "outputs": [
    {
     "name": "stdout",
     "output_type": "stream",
     "text": [
      "X_train:  (801, 15)\n",
      "y_train:  (801,)\n",
      "X_val:  (90, 15)\n",
      "y_val:  (90,)\n"
     ]
    }
   ],
   "source": [
    "X_train,X_val,y_train,y_val = train_test_split(train_, y, test_size = 0.1, random_state = 9)\n",
    "\n",
    "#check the shape of each split\n",
    "print(\"X_train: \",X_train.shape)\n",
    "print(\"y_train: \",y_train.shape)\n",
    "print(\"X_val: \",X_val.shape)\n",
    "print(\"y_val: \",y_val.shape)"
   ]
  },
  {
   "cell_type": "code",
   "execution_count": 60,
   "metadata": {
    "execution": {
     "iopub.execute_input": "2020-12-04T21:36:57.768325Z",
     "iopub.status.busy": "2020-12-04T21:36:57.767326Z",
     "iopub.status.idle": "2020-12-04T21:36:57.772067Z",
     "shell.execute_reply": "2020-12-04T21:36:57.771470Z"
    },
    "papermill": {
     "duration": 0.153666,
     "end_time": "2020-12-04T21:36:57.772223",
     "exception": false,
     "start_time": "2020-12-04T21:36:57.618557",
     "status": "completed"
    },
    "tags": []
   },
   "outputs": [
    {
     "data": {
      "text/html": [
       "<div>\n",
       "<style scoped>\n",
       "    .dataframe tbody tr th:only-of-type {\n",
       "        vertical-align: middle;\n",
       "    }\n",
       "\n",
       "    .dataframe tbody tr th {\n",
       "        vertical-align: top;\n",
       "    }\n",
       "\n",
       "    .dataframe thead th {\n",
       "        text-align: right;\n",
       "    }\n",
       "</style>\n",
       "<table border=\"1\" class=\"dataframe\">\n",
       "  <thead>\n",
       "    <tr style=\"text-align: right;\">\n",
       "      <th></th>\n",
       "      <th>Pclass</th>\n",
       "      <th>Age</th>\n",
       "      <th>Family_size</th>\n",
       "      <th>Total_fare</th>\n",
       "      <th>Sex_female</th>\n",
       "      <th>Sex_male</th>\n",
       "      <th>Embarked_C</th>\n",
       "      <th>Embarked_Q</th>\n",
       "      <th>Embarked_S</th>\n",
       "      <th>Title_Master</th>\n",
       "      <th>Title_Miss</th>\n",
       "      <th>Title_Mr</th>\n",
       "      <th>Title_Mrs</th>\n",
       "      <th>Title_Officer</th>\n",
       "      <th>Title_Royal</th>\n",
       "    </tr>\n",
       "  </thead>\n",
       "  <tbody>\n",
       "    <tr>\n",
       "      <th>494</th>\n",
       "      <td>0.827377</td>\n",
       "      <td>-0.620986</td>\n",
       "      <td>-0.560975</td>\n",
       "      <td>-0.426321</td>\n",
       "      <td>-0.737695</td>\n",
       "      <td>0.737695</td>\n",
       "      <td>-0.485576</td>\n",
       "      <td>-0.307562</td>\n",
       "      <td>0.619306</td>\n",
       "      <td>-0.216803</td>\n",
       "      <td>-0.513644</td>\n",
       "      <td>0.850532</td>\n",
       "      <td>-0.403962</td>\n",
       "      <td>-0.143592</td>\n",
       "      <td>-0.075122</td>\n",
       "    </tr>\n",
       "    <tr>\n",
       "      <th>615</th>\n",
       "      <td>-0.369365</td>\n",
       "      <td>-0.403238</td>\n",
       "      <td>1.299429</td>\n",
       "      <td>1.092339</td>\n",
       "      <td>1.355574</td>\n",
       "      <td>-1.355574</td>\n",
       "      <td>-0.485576</td>\n",
       "      <td>-0.307562</td>\n",
       "      <td>0.619306</td>\n",
       "      <td>-0.216803</td>\n",
       "      <td>1.946875</td>\n",
       "      <td>-1.175735</td>\n",
       "      <td>-0.403962</td>\n",
       "      <td>-0.143592</td>\n",
       "      <td>-0.075122</td>\n",
       "    </tr>\n",
       "    <tr>\n",
       "      <th>882</th>\n",
       "      <td>0.827377</td>\n",
       "      <td>-0.548403</td>\n",
       "      <td>-0.560975</td>\n",
       "      <td>-0.408242</td>\n",
       "      <td>1.355574</td>\n",
       "      <td>-1.355574</td>\n",
       "      <td>-0.485576</td>\n",
       "      <td>-0.307562</td>\n",
       "      <td>0.619306</td>\n",
       "      <td>-0.216803</td>\n",
       "      <td>1.946875</td>\n",
       "      <td>-1.175735</td>\n",
       "      <td>-0.403962</td>\n",
       "      <td>-0.143592</td>\n",
       "      <td>-0.075122</td>\n",
       "    </tr>\n",
       "  </tbody>\n",
       "</table>\n",
       "</div>"
      ],
      "text/plain": [
       "       Pclass       Age  Family_size  Total_fare  Sex_female  Sex_male  \\\n",
       "494  0.827377 -0.620986    -0.560975   -0.426321   -0.737695  0.737695   \n",
       "615 -0.369365 -0.403238     1.299429    1.092339    1.355574 -1.355574   \n",
       "882  0.827377 -0.548403    -0.560975   -0.408242    1.355574 -1.355574   \n",
       "\n",
       "     Embarked_C  Embarked_Q  Embarked_S  Title_Master  Title_Miss  Title_Mr  \\\n",
       "494   -0.485576   -0.307562    0.619306     -0.216803   -0.513644  0.850532   \n",
       "615   -0.485576   -0.307562    0.619306     -0.216803    1.946875 -1.175735   \n",
       "882   -0.485576   -0.307562    0.619306     -0.216803    1.946875 -1.175735   \n",
       "\n",
       "     Title_Mrs  Title_Officer  Title_Royal  \n",
       "494  -0.403962      -0.143592    -0.075122  \n",
       "615  -0.403962      -0.143592    -0.075122  \n",
       "882  -0.403962      -0.143592    -0.075122  "
      ]
     },
     "execution_count": 60,
     "metadata": {},
     "output_type": "execute_result"
    }
   ],
   "source": [
    "X_train.head(3)"
   ]
  },
  {
   "cell_type": "markdown",
   "metadata": {
    "papermill": {
     "duration": 0.128152,
     "end_time": "2020-12-04T21:36:58.028380",
     "exception": false,
     "start_time": "2020-12-04T21:36:57.900228",
     "status": "completed"
    },
    "tags": []
   },
   "source": [
    "### Modelling\n",
    "\n",
    "### 1. Neural Network from scratch"
   ]
  },
  {
   "cell_type": "code",
   "execution_count": 61,
   "metadata": {
    "execution": {
     "iopub.execute_input": "2020-12-04T21:36:58.337744Z",
     "iopub.status.busy": "2020-12-04T21:36:58.311833Z",
     "iopub.status.idle": "2020-12-04T21:36:58.341358Z",
     "shell.execute_reply": "2020-12-04T21:36:58.340714Z"
    },
    "papermill": {
     "duration": 0.18343,
     "end_time": "2020-12-04T21:36:58.341496",
     "exception": false,
     "start_time": "2020-12-04T21:36:58.158066",
     "status": "completed"
    },
    "tags": []
   },
   "outputs": [],
   "source": [
    "#import the NN class\n",
    "from neural_network_model import Layer, NeuralNetwork"
   ]
  },
  {
   "cell_type": "code",
   "execution_count": 62,
   "metadata": {
    "execution": {
     "iopub.execute_input": "2020-12-04T21:36:58.604299Z",
     "iopub.status.busy": "2020-12-04T21:36:58.602901Z",
     "iopub.status.idle": "2020-12-04T21:36:58.609181Z",
     "shell.execute_reply": "2020-12-04T21:36:58.608125Z"
    },
    "papermill": {
     "duration": 0.140087,
     "end_time": "2020-12-04T21:36:58.609328",
     "exception": false,
     "start_time": "2020-12-04T21:36:58.469241",
     "status": "completed"
    },
    "tags": []
   },
   "outputs": [],
   "source": [
    "#get the values and reshape to array type required by the model\n",
    "X_train1 = X_train.values\n",
    "y_train1 = y_train.values\n",
    "y_train1 = y_train1.reshape(-1,1)"
   ]
  },
  {
   "cell_type": "code",
   "execution_count": 63,
   "metadata": {
    "execution": {
     "iopub.execute_input": "2020-12-04T21:36:58.883397Z",
     "iopub.status.busy": "2020-12-04T21:36:58.882457Z",
     "iopub.status.idle": "2020-12-04T21:38:19.766312Z",
     "shell.execute_reply": "2020-12-04T21:38:19.765489Z"
    },
    "papermill": {
     "duration": 81.022706,
     "end_time": "2020-12-04T21:38:19.766448",
     "exception": false,
     "start_time": "2020-12-04T21:36:58.743742",
     "status": "completed"
    },
    "tags": []
   },
   "outputs": [
    {
     "name": "stdout",
     "output_type": "stream",
     "text": [
      "Epoch: 0, loss: 0.60452, Training accuracy:0.38327\n",
      "Epoch: 10, loss: 0.33915, Training accuracy:0.38327\n",
      "Epoch: 20, loss: 0.17932, Training accuracy:0.80649\n",
      "Epoch: 30, loss: 0.15262, Training accuracy:0.80275\n",
      "Epoch: 40, loss: 0.14276, Training accuracy:0.81149\n",
      "Epoch: 50, loss: 0.13617, Training accuracy:0.82272\n",
      "Epoch: 60, loss: 0.13225, Training accuracy:0.83645\n",
      "Epoch: 70, loss: 0.12986, Training accuracy:0.83645\n",
      "Epoch: 80, loss: 0.12827, Training accuracy:0.83521\n",
      "Epoch: 90, loss: 0.12709, Training accuracy:0.83396\n",
      "Epoch: 100, loss: 0.12609, Training accuracy:0.83396\n",
      "Epoch: 110, loss: 0.12520, Training accuracy:0.83396\n",
      "Epoch: 120, loss: 0.12438, Training accuracy:0.83645\n",
      "Epoch: 130, loss: 0.12374, Training accuracy:0.8377\n",
      "Epoch: 140, loss: 0.12320, Training accuracy:0.83895\n",
      "Epoch: 150, loss: 0.12272, Training accuracy:0.8402\n",
      "Epoch: 160, loss: 0.12231, Training accuracy:0.83645\n",
      "Epoch: 170, loss: 0.12196, Training accuracy:0.83645\n",
      "Epoch: 180, loss: 0.12163, Training accuracy:0.83645\n",
      "Epoch: 190, loss: 0.12132, Training accuracy:0.83645\n",
      "Epoch: 200, loss: 0.12105, Training accuracy:0.8377\n",
      "Epoch: 210, loss: 0.12081, Training accuracy:0.83521\n",
      "Epoch: 220, loss: 0.12057, Training accuracy:0.83521\n",
      "Epoch: 230, loss: 0.12036, Training accuracy:0.83396\n",
      "Epoch: 240, loss: 0.12017, Training accuracy:0.83396\n",
      "Epoch: 250, loss: 0.11999, Training accuracy:0.83146\n",
      "Epoch: 260, loss: 0.11980, Training accuracy:0.83396\n",
      "Epoch: 270, loss: 0.11961, Training accuracy:0.83271\n",
      "Epoch: 280, loss: 0.11943, Training accuracy:0.8377\n",
      "Epoch: 290, loss: 0.11926, Training accuracy:0.83895\n",
      "Epoch: 300, loss: 0.11910, Training accuracy:0.83895\n",
      "Epoch: 310, loss: 0.11896, Training accuracy:0.83645\n",
      "Epoch: 320, loss: 0.11883, Training accuracy:0.83645\n",
      "Epoch: 330, loss: 0.11871, Training accuracy:0.83645\n",
      "Epoch: 340, loss: 0.11861, Training accuracy:0.83521\n",
      "Epoch: 350, loss: 0.11852, Training accuracy:0.83396\n",
      "Epoch: 360, loss: 0.11843, Training accuracy:0.83396\n",
      "Epoch: 370, loss: 0.11834, Training accuracy:0.83396\n",
      "Epoch: 380, loss: 0.11826, Training accuracy:0.83396\n",
      "Epoch: 390, loss: 0.11818, Training accuracy:0.83396\n",
      "Epoch: 400, loss: 0.11810, Training accuracy:0.83645\n",
      "Epoch: 410, loss: 0.11803, Training accuracy:0.8377\n",
      "Epoch: 420, loss: 0.11794, Training accuracy:0.8377\n",
      "Epoch: 430, loss: 0.11787, Training accuracy:0.8377\n",
      "Epoch: 440, loss: 0.11777, Training accuracy:0.8377\n",
      "Epoch: 450, loss: 0.11770, Training accuracy:0.8377\n",
      "Epoch: 460, loss: 0.11763, Training accuracy:0.8377\n",
      "Epoch: 470, loss: 0.11757, Training accuracy:0.83895\n",
      "Epoch: 480, loss: 0.11751, Training accuracy:0.8377\n",
      "Epoch: 490, loss: 0.11746, Training accuracy:0.8377\n",
      "Epoch: 500, loss: 0.11740, Training accuracy:0.83895\n",
      "Epoch: 510, loss: 0.11735, Training accuracy:0.8402\n",
      "Epoch: 520, loss: 0.11724, Training accuracy:0.8402\n",
      "Epoch: 530, loss: 0.11707, Training accuracy:0.84145\n",
      "Epoch: 540, loss: 0.11698, Training accuracy:0.8402\n",
      "Epoch: 550, loss: 0.11691, Training accuracy:0.8402\n",
      "Epoch: 560, loss: 0.11685, Training accuracy:0.8402\n",
      "Epoch: 570, loss: 0.11680, Training accuracy:0.8402\n",
      "Epoch: 580, loss: 0.11676, Training accuracy:0.84145\n",
      "Epoch: 590, loss: 0.11672, Training accuracy:0.8402\n",
      "Epoch: 600, loss: 0.11668, Training accuracy:0.8402\n",
      "Epoch: 610, loss: 0.11664, Training accuracy:0.8402\n",
      "Epoch: 620, loss: 0.11660, Training accuracy:0.8402\n",
      "Epoch: 630, loss: 0.11657, Training accuracy:0.8402\n",
      "Epoch: 640, loss: 0.11653, Training accuracy:0.8402\n",
      "Epoch: 650, loss: 0.11650, Training accuracy:0.8402\n",
      "Epoch: 660, loss: 0.11647, Training accuracy:0.8402\n",
      "Epoch: 670, loss: 0.11644, Training accuracy:0.83895\n",
      "Epoch: 680, loss: 0.11642, Training accuracy:0.83895\n",
      "Epoch: 690, loss: 0.11640, Training accuracy:0.83645\n",
      "Epoch: 700, loss: 0.11638, Training accuracy:0.8377\n",
      "Epoch: 710, loss: 0.11637, Training accuracy:0.83895\n",
      "Epoch: 720, loss: 0.11635, Training accuracy:0.83895\n",
      "Epoch: 730, loss: 0.11633, Training accuracy:0.83895\n",
      "Epoch: 740, loss: 0.11631, Training accuracy:0.83895\n",
      "Epoch: 750, loss: 0.11630, Training accuracy:0.83895\n",
      "Epoch: 760, loss: 0.11628, Training accuracy:0.83895\n",
      "Epoch: 770, loss: 0.11626, Training accuracy:0.83895\n",
      "Epoch: 780, loss: 0.11624, Training accuracy:0.83895\n",
      "Epoch: 790, loss: 0.11622, Training accuracy:0.83895\n"
     ]
    }
   ],
   "source": [
    "#clear session\n",
    "keras.backend.clear_session()\n",
    "tf.random.set_seed(51)\n",
    "np.random.seed(52)\n",
    "\n",
    "nn = NeuralNetwork()\n",
    "nn.add_layer(Layer(15, 8, 'relu'))\n",
    "nn.add_layer(Layer(8, 4, 'relu'))\n",
    "nn.add_layer(Layer(4, 1, 'sigmoid'))\n",
    "\n",
    "#train the neural network\n",
    "model_loss = nn.train(X_train1, y_train1, 0.003, 800)"
   ]
  },
  {
   "cell_type": "code",
   "execution_count": 64,
   "metadata": {
    "execution": {
     "iopub.execute_input": "2020-12-04T21:38:20.101155Z",
     "iopub.status.busy": "2020-12-04T21:38:20.099874Z",
     "iopub.status.idle": "2020-12-04T21:38:20.311371Z",
     "shell.execute_reply": "2020-12-04T21:38:20.310532Z"
    },
    "papermill": {
     "duration": 0.384957,
     "end_time": "2020-12-04T21:38:20.311514",
     "exception": false,
     "start_time": "2020-12-04T21:38:19.926557",
     "status": "completed"
    },
    "tags": []
   },
   "outputs": [
    {
     "data": {
      "image/png": "[encoded data removed]",
      "text/plain": [
       "<Figure size 720x576 with 1 Axes>"
      ]
     },
     "metadata": {
      "needs_background": "light"
     },
     "output_type": "display_data"
    }
   ],
   "source": [
    "#plot the training loss curve\n",
    "plt.figure(figsize = (10,8))\n",
    "plt.plot(model_loss)\n",
    "plt.title('Loss curve')\n",
    "plt.xlabel('Epochs')\n",
    "plt.ylabel('MSE loss')\n",
    "plt.show()"
   ]
  },
  {
   "cell_type": "code",
   "execution_count": 65,
   "metadata": {
    "execution": {
     "iopub.execute_input": "2020-12-04T21:38:20.648666Z",
     "iopub.status.busy": "2020-12-04T21:38:20.647772Z",
     "iopub.status.idle": "2020-12-04T21:38:20.655992Z",
     "shell.execute_reply": "2020-12-04T21:38:20.656852Z"
    },
    "papermill": {
     "duration": 0.183051,
     "end_time": "2020-12-04T21:38:20.657027",
     "exception": false,
     "start_time": "2020-12-04T21:38:20.473976",
     "status": "completed"
    },
    "tags": []
   },
   "outputs": [
    {
     "name": "stdout",
     "output_type": "stream",
     "text": [
      "Accuracy: 84.44%\n"
     ]
    }
   ],
   "source": [
    "#evaluate on validation data\n",
    "nn_pred = nn.predict(X_val.values)\n",
    "acc_score = accuracy_score(nn_pred, y_val.values.flatten())\n",
    "print(\"Accuracy: {:.2%}\".format(acc_score))"
   ]
  },
  {
   "cell_type": "code",
   "execution_count": 66,
   "metadata": {
    "execution": {
     "iopub.execute_input": "2020-12-04T21:38:20.987310Z",
     "iopub.status.busy": "2020-12-04T21:38:20.984966Z",
     "iopub.status.idle": "2020-12-04T21:38:20.991265Z",
     "shell.execute_reply": "2020-12-04T21:38:20.990539Z"
    },
    "papermill": {
     "duration": 0.173567,
     "end_time": "2020-12-04T21:38:20.991419",
     "exception": false,
     "start_time": "2020-12-04T21:38:20.817852",
     "status": "completed"
    },
    "tags": []
   },
   "outputs": [],
   "source": [
    "#predict on test data\n",
    "nn_test_pred = nn.predict(test_.values)"
   ]
  },
  {
   "cell_type": "code",
   "execution_count": 67,
   "metadata": {
    "execution": {
     "iopub.execute_input": "2020-12-04T21:38:21.331701Z",
     "iopub.status.busy": "2020-12-04T21:38:21.330885Z",
     "iopub.status.idle": "2020-12-04T21:38:21.345235Z",
     "shell.execute_reply": "2020-12-04T21:38:21.344512Z"
    },
    "papermill": {
     "duration": 0.189522,
     "end_time": "2020-12-04T21:38:21.345389",
     "exception": false,
     "start_time": "2020-12-04T21:38:21.155867",
     "status": "completed"
    },
    "tags": []
   },
   "outputs": [
    {
     "data": {
      "text/html": [
       "<div>\n",
       "<style scoped>\n",
       "    .dataframe tbody tr th:only-of-type {\n",
       "        vertical-align: middle;\n",
       "    }\n",
       "\n",
       "    .dataframe tbody tr th {\n",
       "        vertical-align: top;\n",
       "    }\n",
       "\n",
       "    .dataframe thead th {\n",
       "        text-align: right;\n",
       "    }\n",
       "</style>\n",
       "<table border=\"1\" class=\"dataframe\">\n",
       "  <thead>\n",
       "    <tr style=\"text-align: right;\">\n",
       "      <th></th>\n",
       "      <th>PassengerId</th>\n",
       "      <th>Survived</th>\n",
       "    </tr>\n",
       "  </thead>\n",
       "  <tbody>\n",
       "    <tr>\n",
       "      <th>0</th>\n",
       "      <td>892</td>\n",
       "      <td>0</td>\n",
       "    </tr>\n",
       "    <tr>\n",
       "      <th>1</th>\n",
       "      <td>893</td>\n",
       "      <td>1</td>\n",
       "    </tr>\n",
       "    <tr>\n",
       "      <th>2</th>\n",
       "      <td>894</td>\n",
       "      <td>0</td>\n",
       "    </tr>\n",
       "  </tbody>\n",
       "</table>\n",
       "</div>"
      ],
      "text/plain": [
       "   PassengerId  Survived\n",
       "0          892         0\n",
       "1          893         1\n",
       "2          894         0"
      ]
     },
     "execution_count": 67,
     "metadata": {},
     "output_type": "execute_result"
    }
   ],
   "source": [
    "#nn_sub_file = pd.read_csv(\"/kaggle/input/titanic/gender_submission.csv\")\n",
    "nn_sub_file = pd.read_csv(\"gender_submission.csv\")\n",
    "nn_sub_file.head(3)"
   ]
  },
  {
   "cell_type": "code",
   "execution_count": 68,
   "metadata": {
    "execution": {
     "iopub.execute_input": "2020-12-04T21:38:21.680400Z",
     "iopub.status.busy": "2020-12-04T21:38:21.679220Z",
     "iopub.status.idle": "2020-12-04T21:38:21.684350Z",
     "shell.execute_reply": "2020-12-04T21:38:21.683747Z"
    },
    "papermill": {
     "duration": 0.177118,
     "end_time": "2020-12-04T21:38:21.684488",
     "exception": false,
     "start_time": "2020-12-04T21:38:21.507370",
     "status": "completed"
    },
    "tags": []
   },
   "outputs": [
    {
     "data": {
      "text/html": [
       "<div>\n",
       "<style scoped>\n",
       "    .dataframe tbody tr th:only-of-type {\n",
       "        vertical-align: middle;\n",
       "    }\n",
       "\n",
       "    .dataframe tbody tr th {\n",
       "        vertical-align: top;\n",
       "    }\n",
       "\n",
       "    .dataframe thead th {\n",
       "        text-align: right;\n",
       "    }\n",
       "</style>\n",
       "<table border=\"1\" class=\"dataframe\">\n",
       "  <thead>\n",
       "    <tr style=\"text-align: right;\">\n",
       "      <th></th>\n",
       "      <th>PassengerId</th>\n",
       "      <th>Survived</th>\n",
       "    </tr>\n",
       "  </thead>\n",
       "  <tbody>\n",
       "    <tr>\n",
       "      <th>0</th>\n",
       "      <td>892</td>\n",
       "      <td>0</td>\n",
       "    </tr>\n",
       "    <tr>\n",
       "      <th>1</th>\n",
       "      <td>893</td>\n",
       "      <td>0</td>\n",
       "    </tr>\n",
       "    <tr>\n",
       "      <th>2</th>\n",
       "      <td>894</td>\n",
       "      <td>0</td>\n",
       "    </tr>\n",
       "    <tr>\n",
       "      <th>3</th>\n",
       "      <td>895</td>\n",
       "      <td>0</td>\n",
       "    </tr>\n",
       "    <tr>\n",
       "      <th>4</th>\n",
       "      <td>896</td>\n",
       "      <td>1</td>\n",
       "    </tr>\n",
       "  </tbody>\n",
       "</table>\n",
       "</div>"
      ],
      "text/plain": [
       "   PassengerId  Survived\n",
       "0          892         0\n",
       "1          893         0\n",
       "2          894         0\n",
       "3          895         0\n",
       "4          896         1"
      ]
     },
     "execution_count": 68,
     "metadata": {},
     "output_type": "execute_result"
    }
   ],
   "source": [
    "nn_sub_file[\"Survived\"] = nn_test_pred\n",
    "nn_sub_file.head()"
   ]
  },
  {
   "cell_type": "code",
   "execution_count": 69,
   "metadata": {
    "execution": {
     "iopub.execute_input": "2020-12-04T21:38:22.022596Z",
     "iopub.status.busy": "2020-12-04T21:38:22.021565Z",
     "iopub.status.idle": "2020-12-04T21:38:22.290420Z",
     "shell.execute_reply": "2020-12-04T21:38:22.289530Z"
    },
    "papermill": {
     "duration": 0.439108,
     "end_time": "2020-12-04T21:38:22.290556",
     "exception": false,
     "start_time": "2020-12-04T21:38:21.851448",
     "status": "completed"
    },
    "tags": []
   },
   "outputs": [],
   "source": [
    "nn_sub_file.to_csv(\"NN_scratch_submission_file.csv\",index = False)"
   ]
  },
  {
   "cell_type": "markdown",
   "metadata": {},
   "source": [
    "**Neural Network with Early Stopping**"
   ]
  },
  {
   "cell_type": "code",
   "execution_count": 70,
   "metadata": {
    "execution": {
     "iopub.execute_input": "2020-12-04T21:38:22.632679Z",
     "iopub.status.busy": "2020-12-04T21:38:22.627653Z",
     "iopub.status.idle": "2020-12-04T21:38:50.274730Z",
     "shell.execute_reply": "2020-12-04T21:38:50.274054Z"
    },
    "papermill": {
     "duration": 27.820648,
     "end_time": "2020-12-04T21:38:50.274872",
     "exception": false,
     "start_time": "2020-12-04T21:38:22.454224",
     "status": "completed"
    },
    "tags": []
   },
   "outputs": [
    {
     "name": "stdout",
     "output_type": "stream",
     "text": [
      "Epoch: 0, loss: 0.59561, Training accuracy:0.38327\n",
      "Epoch: 10, loss: 0.30975, Training accuracy:0.38327\n",
      "Epoch: 20, loss: 0.30974, Training accuracy:0.38327\n",
      "Epoch: 30, loss: 0.30969, Training accuracy:0.38327\n",
      "Epoch: 40, loss: 0.17887, Training accuracy:0.75281\n",
      "Epoch: 50, loss: 0.17896, Training accuracy:0.75281\n",
      "Epoch: 60, loss: 0.17863, Training accuracy:0.75281\n",
      "Epoch: 70, loss: 0.17495, Training accuracy:0.76155\n",
      "Epoch: 80, loss: 0.17403, Training accuracy:0.76779\n",
      "Epoch: 90, loss: 0.17395, Training accuracy:0.76779\n",
      "Epoch: 100, loss: 0.17368, Training accuracy:0.76779\n",
      "Epoch: 110, loss: 0.17415, Training accuracy:0.76779\n",
      "Epoch: 120, loss: 0.17519, Training accuracy:0.76779\n",
      "Epoch: 130, loss: 0.17379, Training accuracy:0.76779\n",
      "Epoch: 140, loss: 0.17369, Training accuracy:0.76779\n",
      "Epoch: 150, loss: 0.17379, Training accuracy:0.76779\n",
      "Epoch: 160, loss: 0.17388, Training accuracy:0.76779\n",
      "Epoch: 170, loss: 0.17418, Training accuracy:0.76779\n",
      "Epoch: 180, loss: 0.17684, Training accuracy:0.76779\n",
      "Early stopping\n"
     ]
    }
   ],
   "source": [
    "#clear the session\n",
    "keras.backend.clear_session()\n",
    "tf.random.set_seed(51)\n",
    "np.random.seed(19)\n",
    "\n",
    "nn = NeuralNetwork()\n",
    "nn.add_layer(Layer(15, 32, 'tanh'))\n",
    "nn.add_layer(Layer(32, 16, 'tanh'))\n",
    "nn.add_layer(Layer(16, 8, 'tanh'))\n",
    "nn.add_layer(Layer(8, 4, 'relu'))\n",
    "nn.add_layer(Layer(4, 1, 'sigmoid'))\n",
    "\n",
    "#train the neural network\n",
    "nnet_loss = nn.train(X_train1, y_train1, 0.3, 800, early_stopping = True)"
   ]
  },
  {
   "cell_type": "code",
   "execution_count": 71,
   "metadata": {
    "execution": {
     "iopub.execute_input": "2020-12-04T21:38:50.635971Z",
     "iopub.status.busy": "2020-12-04T21:38:50.628693Z",
     "iopub.status.idle": "2020-12-04T21:38:50.810071Z",
     "shell.execute_reply": "2020-12-04T21:38:50.810680Z"
    },
    "papermill": {
     "duration": 0.365142,
     "end_time": "2020-12-04T21:38:50.810866",
     "exception": false,
     "start_time": "2020-12-04T21:38:50.445724",
     "status": "completed"
    },
    "tags": []
   },
   "outputs": [
    {
     "data": {
      "image/png": "[encoded data removed]",
      "text/plain": [
       "<Figure size 720x576 with 1 Axes>"
      ]
     },
     "metadata": {
      "needs_background": "light"
     },
     "output_type": "display_data"
    }
   ],
   "source": [
    "#plot the training loss curve\n",
    "plt.figure(figsize = (10,8))\n",
    "plt.plot(nnet_loss)\n",
    "plt.title('Loss curve')\n",
    "plt.xlabel('Epochs')\n",
    "plt.ylabel('MSE loss')\n",
    "plt.show()"
   ]
  },
  {
   "cell_type": "code",
   "execution_count": 72,
   "metadata": {
    "execution": {
     "iopub.execute_input": "2020-12-04T21:38:51.165170Z",
     "iopub.status.busy": "2020-12-04T21:38:51.164290Z",
     "iopub.status.idle": "2020-12-04T21:38:51.169702Z",
     "shell.execute_reply": "2020-12-04T21:38:51.170281Z"
    },
    "papermill": {
     "duration": 0.186525,
     "end_time": "2020-12-04T21:38:51.170463",
     "exception": false,
     "start_time": "2020-12-04T21:38:50.983938",
     "status": "completed"
    },
    "tags": []
   },
   "outputs": [
    {
     "name": "stdout",
     "output_type": "stream",
     "text": [
      "Accuracy: 78.89%\n"
     ]
    }
   ],
   "source": [
    "#evaluate on validation data\n",
    "nnet_pred = nn.predict(X_val.values)\n",
    "accu_score = accuracy_score(nnet_pred, y_val.values.flatten())\n",
    "print(\"Accuracy: {:.2%}\".format(accu_score))"
   ]
  },
  {
   "cell_type": "code",
   "execution_count": 73,
   "metadata": {
    "execution": {
     "iopub.execute_input": "2020-12-04T21:38:51.527889Z",
     "iopub.status.busy": "2020-12-04T21:38:51.526903Z",
     "iopub.status.idle": "2020-12-04T21:38:51.532503Z",
     "shell.execute_reply": "2020-12-04T21:38:51.533262Z"
    },
    "papermill": {
     "duration": 0.18372,
     "end_time": "2020-12-04T21:38:51.533459",
     "exception": false,
     "start_time": "2020-12-04T21:38:51.349739",
     "status": "completed"
    },
    "tags": []
   },
   "outputs": [],
   "source": [
    "#predict on test data\n",
    "nnet_test_pred = nn.predict(test_.values)"
   ]
  },
  {
   "cell_type": "code",
   "execution_count": 74,
   "metadata": {
    "execution": {
     "iopub.execute_input": "2020-12-04T21:38:51.902369Z",
     "iopub.status.busy": "2020-12-04T21:38:51.892927Z",
     "iopub.status.idle": "2020-12-04T21:38:51.907258Z",
     "shell.execute_reply": "2020-12-04T21:38:51.906458Z"
    },
    "papermill": {
     "duration": 0.197737,
     "end_time": "2020-12-04T21:38:51.907389",
     "exception": false,
     "start_time": "2020-12-04T21:38:51.709652",
     "status": "completed"
    },
    "tags": []
   },
   "outputs": [
    {
     "data": {
      "text/html": [
       "<div>\n",
       "<style scoped>\n",
       "    .dataframe tbody tr th:only-of-type {\n",
       "        vertical-align: middle;\n",
       "    }\n",
       "\n",
       "    .dataframe tbody tr th {\n",
       "        vertical-align: top;\n",
       "    }\n",
       "\n",
       "    .dataframe thead th {\n",
       "        text-align: right;\n",
       "    }\n",
       "</style>\n",
       "<table border=\"1\" class=\"dataframe\">\n",
       "  <thead>\n",
       "    <tr style=\"text-align: right;\">\n",
       "      <th></th>\n",
       "      <th>PassengerId</th>\n",
       "      <th>Survived</th>\n",
       "    </tr>\n",
       "  </thead>\n",
       "  <tbody>\n",
       "    <tr>\n",
       "      <th>0</th>\n",
       "      <td>892</td>\n",
       "      <td>0</td>\n",
       "    </tr>\n",
       "    <tr>\n",
       "      <th>1</th>\n",
       "      <td>893</td>\n",
       "      <td>1</td>\n",
       "    </tr>\n",
       "    <tr>\n",
       "      <th>2</th>\n",
       "      <td>894</td>\n",
       "      <td>0</td>\n",
       "    </tr>\n",
       "    <tr>\n",
       "      <th>3</th>\n",
       "      <td>895</td>\n",
       "      <td>0</td>\n",
       "    </tr>\n",
       "    <tr>\n",
       "      <th>4</th>\n",
       "      <td>896</td>\n",
       "      <td>1</td>\n",
       "    </tr>\n",
       "  </tbody>\n",
       "</table>\n",
       "</div>"
      ],
      "text/plain": [
       "   PassengerId  Survived\n",
       "0          892         0\n",
       "1          893         1\n",
       "2          894         0\n",
       "3          895         0\n",
       "4          896         1"
      ]
     },
     "execution_count": 74,
     "metadata": {},
     "output_type": "execute_result"
    }
   ],
   "source": [
    "#nn_sub_file1 = pd.read_csv(\"/kaggle/input/titanic/gender_submission.csv\")\n",
    "nn_sub_file1 = pd.read_csv(\"gender_submission.csv\")\n",
    "nn_sub_file1[\"Survived\"] = nnet_test_pred\n",
    "nn_sub_file1.head()"
   ]
  },
  {
   "cell_type": "code",
   "execution_count": 75,
   "metadata": {
    "execution": {
     "iopub.execute_input": "2020-12-04T21:38:52.267525Z",
     "iopub.status.busy": "2020-12-04T21:38:52.265932Z",
     "iopub.status.idle": "2020-12-04T21:38:52.271173Z",
     "shell.execute_reply": "2020-12-04T21:38:52.270419Z"
    },
    "papermill": {
     "duration": 0.186007,
     "end_time": "2020-12-04T21:38:52.271309",
     "exception": false,
     "start_time": "2020-12-04T21:38:52.085302",
     "status": "completed"
    },
    "tags": []
   },
   "outputs": [],
   "source": [
    "nn_sub_file1.to_csv(\"nn_submission_file2.csv\",index = False)"
   ]
  },
  {
   "cell_type": "markdown",
   "metadata": {
    "papermill": {
     "duration": 0.174134,
     "end_time": "2020-12-04T21:38:52.618322",
     "exception": false,
     "start_time": "2020-12-04T21:38:52.444188",
     "status": "completed"
    },
    "tags": []
   },
   "source": [
    "### 2. Ensemble Voting Classifier model"
   ]
  },
  {
   "cell_type": "code",
   "execution_count": 76,
   "metadata": {
    "execution": {
     "iopub.execute_input": "2020-12-04T21:38:52.989824Z",
     "iopub.status.busy": "2020-12-04T21:38:52.988886Z",
     "iopub.status.idle": "2020-12-04T21:38:54.248372Z",
     "shell.execute_reply": "2020-12-04T21:38:54.247436Z"
    },
    "papermill": {
     "duration": 1.454107,
     "end_time": "2020-12-04T21:38:54.248535",
     "exception": false,
     "start_time": "2020-12-04T21:38:52.794428",
     "status": "completed"
    },
    "tags": []
   },
   "outputs": [
    {
     "data": {
      "text/plain": [
       "VotingClassifier(estimators=[('lr',\n",
       "                              LogisticRegression(class_weight='balanced')),\n",
       "                             ('gbc',\n",
       "                              GradientBoostingClassifier(criterion='mse',\n",
       "                                                         learning_rate=0.01,\n",
       "                                                         max_depth=6,\n",
       "                                                         min_samples_leaf=2,\n",
       "                                                         n_estimators=200,\n",
       "                                                         random_state=16)),\n",
       "                             ('mlp',\n",
       "                              MLPClassifier(max_iter=500, random_state=1))])"
      ]
     },
     "execution_count": 76,
     "metadata": {},
     "output_type": "execute_result"
    }
   ],
   "source": [
    "#individual classifiers for voting classifier\n",
    "#Logistic Regression\n",
    "lr = LogisticRegression(class_weight = 'balanced')\n",
    "\n",
    "#Gradient Boosting Classifier\n",
    "gbc = GradientBoostingClassifier(n_estimators = 200,learning_rate = 0.01, criterion = 'mse',\n",
    "                                 max_depth = 6,min_samples_leaf = 2,random_state = 16)\n",
    "\n",
    "#MLP classifier\n",
    "mlp = MLPClassifier(learning_rate = \"constant\",learning_rate_init = 0.001,random_state = 1, max_iter = 500)\n",
    "\n",
    "#Voting classifier of the above models\n",
    "vc = VotingClassifier(estimators=[('lr', lr), ('gbc', gbc), ('mlp', mlp)], voting = 'hard')\n",
    "vc.fit(X_train, y_train)"
   ]
  },
  {
   "cell_type": "code",
   "execution_count": 77,
   "metadata": {
    "execution": {
     "iopub.execute_input": "2020-12-04T21:38:54.621343Z",
     "iopub.status.busy": "2020-12-04T21:38:54.620205Z",
     "iopub.status.idle": "2020-12-04T21:38:54.648113Z",
     "shell.execute_reply": "2020-12-04T21:38:54.648964Z"
    },
    "papermill": {
     "duration": 0.217742,
     "end_time": "2020-12-04T21:38:54.649194",
     "exception": false,
     "start_time": "2020-12-04T21:38:54.431452",
     "status": "completed"
    },
    "tags": []
   },
   "outputs": [
    {
     "name": "stdout",
     "output_type": "stream",
     "text": [
      "Accuracy: 87.78%\n"
     ]
    }
   ],
   "source": [
    "#predict on validation data\n",
    "vc_pred = vc.predict(X_val)\n",
    "vc_acc = accuracy_score(y_val,vc_pred)\n",
    "print(\"Accuracy: {:.2%}\".format(vc_acc))\n",
    "\n",
    "#predict on test data\n",
    "vc_test_pred = vc.predict(test_)"
   ]
  },
  {
   "cell_type": "code",
   "execution_count": 78,
   "metadata": {
    "execution": {
     "iopub.execute_input": "2020-12-04T21:38:55.014313Z",
     "iopub.status.busy": "2020-12-04T21:38:55.011030Z",
     "iopub.status.idle": "2020-12-04T21:38:55.024220Z",
     "shell.execute_reply": "2020-12-04T21:38:55.024847Z"
    },
    "papermill": {
     "duration": 0.195052,
     "end_time": "2020-12-04T21:38:55.025033",
     "exception": false,
     "start_time": "2020-12-04T21:38:54.829981",
     "status": "completed"
    },
    "tags": []
   },
   "outputs": [
    {
     "data": {
      "text/html": [
       "<div>\n",
       "<style scoped>\n",
       "    .dataframe tbody tr th:only-of-type {\n",
       "        vertical-align: middle;\n",
       "    }\n",
       "\n",
       "    .dataframe tbody tr th {\n",
       "        vertical-align: top;\n",
       "    }\n",
       "\n",
       "    .dataframe thead th {\n",
       "        text-align: right;\n",
       "    }\n",
       "</style>\n",
       "<table border=\"1\" class=\"dataframe\">\n",
       "  <thead>\n",
       "    <tr style=\"text-align: right;\">\n",
       "      <th></th>\n",
       "      <th>PassengerId</th>\n",
       "      <th>Survived</th>\n",
       "    </tr>\n",
       "  </thead>\n",
       "  <tbody>\n",
       "    <tr>\n",
       "      <th>0</th>\n",
       "      <td>892</td>\n",
       "      <td>0</td>\n",
       "    </tr>\n",
       "    <tr>\n",
       "      <th>1</th>\n",
       "      <td>893</td>\n",
       "      <td>1</td>\n",
       "    </tr>\n",
       "    <tr>\n",
       "      <th>2</th>\n",
       "      <td>894</td>\n",
       "      <td>0</td>\n",
       "    </tr>\n",
       "    <tr>\n",
       "      <th>3</th>\n",
       "      <td>895</td>\n",
       "      <td>0</td>\n",
       "    </tr>\n",
       "    <tr>\n",
       "      <th>4</th>\n",
       "      <td>896</td>\n",
       "      <td>1</td>\n",
       "    </tr>\n",
       "  </tbody>\n",
       "</table>\n",
       "</div>"
      ],
      "text/plain": [
       "   PassengerId  Survived\n",
       "0          892         0\n",
       "1          893         1\n",
       "2          894         0\n",
       "3          895         0\n",
       "4          896         1"
      ]
     },
     "execution_count": 78,
     "metadata": {},
     "output_type": "execute_result"
    }
   ],
   "source": [
    "#voting_sub_file = pd.read_csv(\"/kaggle/input/titanic/gender_submission.csv\")\n",
    "voting_sub_file = pd.read_csv(\"gender_submission.csv\")\n",
    "voting_sub_file[\"Survived\"] = vc_test_pred\n",
    "voting_sub_file.head()"
   ]
  },
  {
   "cell_type": "code",
   "execution_count": 79,
   "metadata": {
    "execution": {
     "iopub.execute_input": "2020-12-04T21:38:55.390808Z",
     "iopub.status.busy": "2020-12-04T21:38:55.389336Z",
     "iopub.status.idle": "2020-12-04T21:38:55.394378Z",
     "shell.execute_reply": "2020-12-04T21:38:55.393622Z"
    },
    "papermill": {
     "duration": 0.190184,
     "end_time": "2020-12-04T21:38:55.394516",
     "exception": false,
     "start_time": "2020-12-04T21:38:55.204332",
     "status": "completed"
    },
    "tags": []
   },
   "outputs": [],
   "source": [
    "voting_sub_file.to_csv(\"voting_classifier_SubFile.csv\",index = False)"
   ]
  },
  {
   "cell_type": "markdown",
   "metadata": {
    "papermill": {
     "duration": 0.22358,
     "end_time": "2020-12-04T21:38:55.794139",
     "exception": false,
     "start_time": "2020-12-04T21:38:55.570559",
     "status": "completed"
    },
    "tags": []
   },
   "source": [
    "### Average and Weighted Average Ensemble Model"
   ]
  },
  {
   "cell_type": "markdown",
   "metadata": {
    "papermill": {
     "duration": 0.176859,
     "end_time": "2020-12-04T21:38:56.147695",
     "exception": false,
     "start_time": "2020-12-04T21:38:55.970836",
     "status": "completed"
    },
    "tags": []
   },
   "source": [
    "**Logistic Regression**"
   ]
  },
  {
   "cell_type": "code",
   "execution_count": 80,
   "metadata": {
    "execution": {
     "iopub.execute_input": "2020-12-04T21:38:56.509457Z",
     "iopub.status.busy": "2020-12-04T21:38:56.508127Z",
     "iopub.status.idle": "2020-12-04T21:38:56.525026Z",
     "shell.execute_reply": "2020-12-04T21:38:56.524164Z"
    },
    "papermill": {
     "duration": 0.199703,
     "end_time": "2020-12-04T21:38:56.525229",
     "exception": false,
     "start_time": "2020-12-04T21:38:56.325526",
     "status": "completed"
    },
    "tags": []
   },
   "outputs": [
    {
     "data": {
      "text/plain": [
       "LogisticRegression()"
      ]
     },
     "execution_count": 80,
     "metadata": {},
     "output_type": "execute_result"
    }
   ],
   "source": [
    "lr = LogisticRegression()\n",
    "lr.fit(X_train,y_train)"
   ]
  },
  {
   "cell_type": "code",
   "execution_count": 81,
   "metadata": {
    "execution": {
     "iopub.execute_input": "2020-12-04T21:38:56.908783Z",
     "iopub.status.busy": "2020-12-04T21:38:56.907958Z",
     "iopub.status.idle": "2020-12-04T21:38:56.912639Z",
     "shell.execute_reply": "2020-12-04T21:38:56.911966Z"
    },
    "papermill": {
     "duration": 0.19875,
     "end_time": "2020-12-04T21:38:56.912769",
     "exception": false,
     "start_time": "2020-12-04T21:38:56.714019",
     "status": "completed"
    },
    "tags": []
   },
   "outputs": [
    {
     "name": "stdout",
     "output_type": "stream",
     "text": [
      "Accuracy: 81.11%\n"
     ]
    }
   ],
   "source": [
    "lr_pred = lr.predict(X_val)\n",
    "lr_acc = accuracy_score(y_val,lr_pred)\n",
    "print(\"Accuracy: {:.2%}\".format(lr_acc))\n",
    "\n",
    "lr_test_pred = lr.predict(test_)"
   ]
  },
  {
   "cell_type": "markdown",
   "metadata": {
    "papermill": {
     "duration": 0.176403,
     "end_time": "2020-12-04T21:38:57.269293",
     "exception": false,
     "start_time": "2020-12-04T21:38:57.092890",
     "status": "completed"
    },
    "tags": []
   },
   "source": [
    "**Gradient Boosting Classifier**"
   ]
  },
  {
   "cell_type": "code",
   "execution_count": 82,
   "metadata": {
    "execution": {
     "iopub.execute_input": "2020-12-04T21:38:57.635169Z",
     "iopub.status.busy": "2020-12-04T21:38:57.633916Z",
     "iopub.status.idle": "2020-12-04T21:38:58.290206Z",
     "shell.execute_reply": "2020-12-04T21:38:58.289505Z"
    },
    "papermill": {
     "duration": 0.841522,
     "end_time": "2020-12-04T21:38:58.290362",
     "exception": false,
     "start_time": "2020-12-04T21:38:57.448840",
     "status": "completed"
    },
    "tags": []
   },
   "outputs": [
    {
     "data": {
      "text/plain": [
       "GradientBoostingClassifier(criterion='mse', max_depth=6, min_samples_leaf=2,\n",
       "                           n_estimators=200, random_state=16)"
      ]
     },
     "execution_count": 82,
     "metadata": {},
     "output_type": "execute_result"
    }
   ],
   "source": [
    "gbc = GradientBoostingClassifier(n_estimators = 200,learning_rate = 0.1, criterion = 'mse',\n",
    "                                 max_depth = 6,min_samples_leaf = 2,random_state = 16)\n",
    "gbc.fit(X_train,y_train)"
   ]
  },
  {
   "cell_type": "code",
   "execution_count": 83,
   "metadata": {
    "execution": {
     "iopub.execute_input": "2020-12-04T21:38:58.658166Z",
     "iopub.status.busy": "2020-12-04T21:38:58.656642Z",
     "iopub.status.idle": "2020-12-04T21:38:58.670533Z",
     "shell.execute_reply": "2020-12-04T21:38:58.671789Z"
    },
    "papermill": {
     "duration": 0.203499,
     "end_time": "2020-12-04T21:38:58.672020",
     "exception": false,
     "start_time": "2020-12-04T21:38:58.468521",
     "status": "completed"
    },
    "tags": []
   },
   "outputs": [
    {
     "name": "stdout",
     "output_type": "stream",
     "text": [
      "Accuracy: 81.11%\n"
     ]
    }
   ],
   "source": [
    "gbc_pred = gbc.predict(X_val)\n",
    "gbc_acc = accuracy_score(y_val,gbc_pred)\n",
    "print(\"Accuracy: {:.2%}\".format(gbc_acc))\n",
    "\n",
    "gbc_test_pred = gbc.predict(test_)"
   ]
  },
  {
   "cell_type": "markdown",
   "metadata": {
    "papermill": {
     "duration": 0.178014,
     "end_time": "2020-12-04T21:38:59.030894",
     "exception": false,
     "start_time": "2020-12-04T21:38:58.852880",
     "status": "completed"
    },
    "tags": []
   },
   "source": [
    "**MLP Classifier**"
   ]
  },
  {
   "cell_type": "code",
   "execution_count": 84,
   "metadata": {
    "execution": {
     "iopub.execute_input": "2020-12-04T21:38:59.400403Z",
     "iopub.status.busy": "2020-12-04T21:38:59.399447Z",
     "iopub.status.idle": "2020-12-04T21:38:59.912778Z",
     "shell.execute_reply": "2020-12-04T21:38:59.912019Z"
    },
    "papermill": {
     "duration": 0.701251,
     "end_time": "2020-12-04T21:38:59.912940",
     "exception": false,
     "start_time": "2020-12-04T21:38:59.211689",
     "status": "completed"
    },
    "tags": []
   },
   "outputs": [
    {
     "data": {
      "text/plain": [
       "MLPClassifier(max_iter=300)"
      ]
     },
     "execution_count": 84,
     "metadata": {},
     "output_type": "execute_result"
    }
   ],
   "source": [
    "mlp = MLPClassifier(max_iter = 300)\n",
    "mlp.fit(X_train,y_train)"
   ]
  },
  {
   "cell_type": "code",
   "execution_count": 85,
   "metadata": {
    "execution": {
     "iopub.execute_input": "2020-12-04T21:39:00.289155Z",
     "iopub.status.busy": "2020-12-04T21:39:00.285649Z",
     "iopub.status.idle": "2020-12-04T21:39:00.295539Z",
     "shell.execute_reply": "2020-12-04T21:39:00.294668Z"
    },
    "papermill": {
     "duration": 0.198139,
     "end_time": "2020-12-04T21:39:00.295697",
     "exception": false,
     "start_time": "2020-12-04T21:39:00.097558",
     "status": "completed"
    },
    "tags": []
   },
   "outputs": [
    {
     "name": "stdout",
     "output_type": "stream",
     "text": [
      "Accuracy: 82.22%\n"
     ]
    }
   ],
   "source": [
    "mlp_pred = mlp.predict(X_val)\n",
    "mlp_acc = accuracy_score(y_val,mlp_pred)\n",
    "print(\"Accuracy: {:.2%}\".format(mlp_acc))\n",
    "\n",
    "mlp_test_pred = mlp.predict(test_)"
   ]
  },
  {
   "cell_type": "code",
   "execution_count": 86,
   "metadata": {
    "execution": {
     "iopub.execute_input": "2020-12-04T21:39:00.669441Z",
     "iopub.status.busy": "2020-12-04T21:39:00.668278Z",
     "iopub.status.idle": "2020-12-04T21:39:00.687143Z",
     "shell.execute_reply": "2020-12-04T21:39:00.688270Z"
    },
    "papermill": {
     "duration": 0.209923,
     "end_time": "2020-12-04T21:39:00.688513",
     "exception": false,
     "start_time": "2020-12-04T21:39:00.478590",
     "status": "completed"
    },
    "tags": []
   },
   "outputs": [],
   "source": [
    "#lr_sub_file = pd.read_csv(\"/kaggle/input/titanic/gender_submission.csv\")\n",
    "lr_sub_file = pd.read_csv(\"gender_submission.csv\")\n",
    "lr_sub_file[\"Survived\"] = lr_test_pred\n",
    "lr_sub_file.to_csv(\"lr.csv\",index = False)\n",
    "\n",
    "#gbc_sub_file = pd.read_csv(\"/kaggle/input/titanic/gender_submission.csv\")\n",
    "gbc_sub_file = pd.read_csv(\"gender_submission.csv\")\n",
    "gbc_sub_file[\"Survived\"] = gbc_test_pred\n",
    "gbc_sub_file.to_csv(\"gbc.csv\",index = False)\n",
    "\n",
    "#mlp_sub_file = pd.read_csv(\"/kaggle/input/titanic/gender_submission.csv\")\n",
    "mlp_sub_file = pd.read_csv(\"gender_submission.csv\")\n",
    "mlp_sub_file[\"Survived\"] = mlp_test_pred\n",
    "mlp_sub_file.to_csv(\"mlp.csv\",index = False)"
   ]
  },
  {
   "cell_type": "markdown",
   "metadata": {
    "papermill": {
     "duration": 0.184865,
     "end_time": "2020-12-04T21:39:01.054625",
     "exception": false,
     "start_time": "2020-12-04T21:39:00.869760",
     "status": "completed"
    },
    "tags": []
   },
   "source": [
    "### 3.Average Ensemble model"
   ]
  },
  {
   "cell_type": "code",
   "execution_count": 87,
   "metadata": {
    "execution": {
     "iopub.execute_input": "2020-12-04T21:39:01.422783Z",
     "iopub.status.busy": "2020-12-04T21:39:01.421773Z",
     "iopub.status.idle": "2020-12-04T21:39:01.425043Z",
     "shell.execute_reply": "2020-12-04T21:39:01.424312Z"
    },
    "papermill": {
     "duration": 0.189205,
     "end_time": "2020-12-04T21:39:01.425189",
     "exception": false,
     "start_time": "2020-12-04T21:39:01.235984",
     "status": "completed"
    },
    "tags": []
   },
   "outputs": [],
   "source": [
    "nn_pred = np.array(nn_pred)\n",
    "nn_test_pred = np.array(nn_test_pred)"
   ]
  },
  {
   "cell_type": "code",
   "execution_count": 88,
   "metadata": {
    "execution": {
     "iopub.execute_input": "2020-12-04T21:39:01.793441Z",
     "iopub.status.busy": "2020-12-04T21:39:01.792569Z",
     "iopub.status.idle": "2020-12-04T21:39:01.799163Z",
     "shell.execute_reply": "2020-12-04T21:39:01.798258Z"
    },
    "papermill": {
     "duration": 0.194857,
     "end_time": "2020-12-04T21:39:01.799340",
     "exception": false,
     "start_time": "2020-12-04T21:39:01.604483",
     "status": "completed"
    },
    "tags": []
   },
   "outputs": [
    {
     "name": "stdout",
     "output_type": "stream",
     "text": [
      "Validation Accuracy: 82.22%\n"
     ]
    }
   ],
   "source": [
    "#validation data prediction\n",
    "average_pred = (lr_pred.reshape(-1,1) + gbc_pred.reshape(-1,1) + nn_pred.reshape(-1,1) + \n",
    "                mlp_pred.reshape(-1,1))/4\n",
    "\n",
    "#thresholding\n",
    "avg_pred = (average_pred >= 0.5).astype(int)\n",
    "avg_acc = accuracy_score(y_val,avg_pred)\n",
    "print(\"Validation Accuracy: {:.2%}\".format(avg_acc))"
   ]
  },
  {
   "cell_type": "code",
   "execution_count": 89,
   "metadata": {
    "execution": {
     "iopub.execute_input": "2020-12-04T21:39:02.171133Z",
     "iopub.status.busy": "2020-12-04T21:39:02.170287Z",
     "iopub.status.idle": "2020-12-04T21:39:02.173698Z",
     "shell.execute_reply": "2020-12-04T21:39:02.172905Z"
    },
    "papermill": {
     "duration": 0.19282,
     "end_time": "2020-12-04T21:39:02.173829",
     "exception": false,
     "start_time": "2020-12-04T21:39:01.981009",
     "status": "completed"
    },
    "tags": []
   },
   "outputs": [],
   "source": [
    "#test data\n",
    "average_test_pred = (lr_test_pred.reshape(-1,1) + gbc_test_pred.reshape(-1,1) + nn_test_pred.reshape(-1,1) + \n",
    "                    mlp_test_pred.reshape(-1,1))/4\n",
    "\n",
    "#test data thresholding\n",
    "avg_test_pred = (average_test_pred >= 0.5).astype(int)"
   ]
  },
  {
   "cell_type": "code",
   "execution_count": 90,
   "metadata": {
    "execution": {
     "iopub.execute_input": "2020-12-04T21:39:02.543679Z",
     "iopub.status.busy": "2020-12-04T21:39:02.542517Z",
     "iopub.status.idle": "2020-12-04T21:39:02.555828Z",
     "shell.execute_reply": "2020-12-04T21:39:02.555013Z"
    },
    "papermill": {
     "duration": 0.20053,
     "end_time": "2020-12-04T21:39:02.555960",
     "exception": false,
     "start_time": "2020-12-04T21:39:02.355430",
     "status": "completed"
    },
    "tags": []
   },
   "outputs": [
    {
     "data": {
      "text/html": [
       "<div>\n",
       "<style scoped>\n",
       "    .dataframe tbody tr th:only-of-type {\n",
       "        vertical-align: middle;\n",
       "    }\n",
       "\n",
       "    .dataframe tbody tr th {\n",
       "        vertical-align: top;\n",
       "    }\n",
       "\n",
       "    .dataframe thead th {\n",
       "        text-align: right;\n",
       "    }\n",
       "</style>\n",
       "<table border=\"1\" class=\"dataframe\">\n",
       "  <thead>\n",
       "    <tr style=\"text-align: right;\">\n",
       "      <th></th>\n",
       "      <th>PassengerId</th>\n",
       "      <th>Survived</th>\n",
       "    </tr>\n",
       "  </thead>\n",
       "  <tbody>\n",
       "    <tr>\n",
       "      <th>0</th>\n",
       "      <td>892</td>\n",
       "      <td>0</td>\n",
       "    </tr>\n",
       "    <tr>\n",
       "      <th>1</th>\n",
       "      <td>893</td>\n",
       "      <td>1</td>\n",
       "    </tr>\n",
       "    <tr>\n",
       "      <th>2</th>\n",
       "      <td>894</td>\n",
       "      <td>0</td>\n",
       "    </tr>\n",
       "    <tr>\n",
       "      <th>3</th>\n",
       "      <td>895</td>\n",
       "      <td>0</td>\n",
       "    </tr>\n",
       "    <tr>\n",
       "      <th>4</th>\n",
       "      <td>896</td>\n",
       "      <td>1</td>\n",
       "    </tr>\n",
       "  </tbody>\n",
       "</table>\n",
       "</div>"
      ],
      "text/plain": [
       "   PassengerId  Survived\n",
       "0          892         0\n",
       "1          893         1\n",
       "2          894         0\n",
       "3          895         0\n",
       "4          896         1"
      ]
     },
     "execution_count": 90,
     "metadata": {},
     "output_type": "execute_result"
    }
   ],
   "source": [
    "#avg_sub_file = pd.read_csv(\"/kaggle/input/titanic/gender_submission.csv\")\n",
    "avg_sub_file = pd.read_csv(\"gender_submission.csv\")\n",
    "avg_sub_file[\"Survived\"] = avg_test_pred\n",
    "avg_sub_file.head()"
   ]
  },
  {
   "cell_type": "code",
   "execution_count": 91,
   "metadata": {
    "execution": {
     "iopub.execute_input": "2020-12-04T21:39:02.928874Z",
     "iopub.status.busy": "2020-12-04T21:39:02.927237Z",
     "iopub.status.idle": "2020-12-04T21:39:02.932766Z",
     "shell.execute_reply": "2020-12-04T21:39:02.932137Z"
    },
    "papermill": {
     "duration": 0.193185,
     "end_time": "2020-12-04T21:39:02.932907",
     "exception": false,
     "start_time": "2020-12-04T21:39:02.739722",
     "status": "completed"
    },
    "tags": []
   },
   "outputs": [],
   "source": [
    "avg_sub_file.to_csv(\"avg_ensemble_SubFile.csv\",index = False)"
   ]
  },
  {
   "cell_type": "markdown",
   "metadata": {
    "papermill": {
     "duration": 0.194985,
     "end_time": "2020-12-04T21:39:03.324230",
     "exception": false,
     "start_time": "2020-12-04T21:39:03.129245",
     "status": "completed"
    },
    "tags": []
   },
   "source": [
    "### 4. Weighted Average Ensemble Model"
   ]
  },
  {
   "cell_type": "code",
   "execution_count": 92,
   "metadata": {
    "execution": {
     "iopub.execute_input": "2020-12-04T21:39:03.714955Z",
     "iopub.status.busy": "2020-12-04T21:39:03.713869Z",
     "iopub.status.idle": "2020-12-04T21:39:03.717656Z",
     "shell.execute_reply": "2020-12-04T21:39:03.718312Z"
    },
    "papermill": {
     "duration": 0.206216,
     "end_time": "2020-12-04T21:39:03.718484",
     "exception": false,
     "start_time": "2020-12-04T21:39:03.512268",
     "status": "completed"
    },
    "tags": []
   },
   "outputs": [
    {
     "name": "stdout",
     "output_type": "stream",
     "text": [
      "Accuracy: 85.56%\n"
     ]
    }
   ],
   "source": [
    "#validation data\n",
    "wa_pred = (0.2 * gbc_pred.reshape(-1,1) + 0.4 * nn_pred.reshape(-1,1)  + 0.4 * mlp_pred.reshape(-1,1))\n",
    "\n",
    "#thresholding data\n",
    "wt_avg_pred = (wa_pred >= 0.5).astype(int)\n",
    "wa_acc = accuracy_score(y_val,wt_avg_pred)\n",
    "print(\"Accuracy: {:.2%}\".format(wa_acc))"
   ]
  },
  {
   "cell_type": "code",
   "execution_count": 93,
   "metadata": {
    "execution": {
     "iopub.execute_input": "2020-12-04T21:39:04.103552Z",
     "iopub.status.busy": "2020-12-04T21:39:04.102701Z",
     "iopub.status.idle": "2020-12-04T21:39:04.106561Z",
     "shell.execute_reply": "2020-12-04T21:39:04.105749Z"
    },
    "papermill": {
     "duration": 0.197971,
     "end_time": "2020-12-04T21:39:04.106697",
     "exception": false,
     "start_time": "2020-12-04T21:39:03.908726",
     "status": "completed"
    },
    "tags": []
   },
   "outputs": [],
   "source": [
    "#test data\n",
    "wavg_test_pred = (0.2 * gbc_test_pred.reshape(-1,1) + 0.4 * nn_test_pred.reshape(-1,1)  + 0.4 * mlp_test_pred.reshape(-1,1))\n",
    "\n",
    "\n",
    "#test data thresholding\n",
    "wa_test_pred = (wavg_test_pred >= 0.5).astype(int)"
   ]
  },
  {
   "cell_type": "code",
   "execution_count": 94,
   "metadata": {
    "execution": {
     "iopub.execute_input": "2020-12-04T21:39:04.480300Z",
     "iopub.status.busy": "2020-12-04T21:39:04.479142Z",
     "iopub.status.idle": "2020-12-04T21:39:04.491924Z",
     "shell.execute_reply": "2020-12-04T21:39:04.491127Z"
    },
    "papermill": {
     "duration": 0.203594,
     "end_time": "2020-12-04T21:39:04.492058",
     "exception": false,
     "start_time": "2020-12-04T21:39:04.288464",
     "status": "completed"
    },
    "tags": []
   },
   "outputs": [
    {
     "data": {
      "text/html": [
       "<div>\n",
       "<style scoped>\n",
       "    .dataframe tbody tr th:only-of-type {\n",
       "        vertical-align: middle;\n",
       "    }\n",
       "\n",
       "    .dataframe tbody tr th {\n",
       "        vertical-align: top;\n",
       "    }\n",
       "\n",
       "    .dataframe thead th {\n",
       "        text-align: right;\n",
       "    }\n",
       "</style>\n",
       "<table border=\"1\" class=\"dataframe\">\n",
       "  <thead>\n",
       "    <tr style=\"text-align: right;\">\n",
       "      <th></th>\n",
       "      <th>PassengerId</th>\n",
       "      <th>Survived</th>\n",
       "    </tr>\n",
       "  </thead>\n",
       "  <tbody>\n",
       "    <tr>\n",
       "      <th>0</th>\n",
       "      <td>892</td>\n",
       "      <td>0</td>\n",
       "    </tr>\n",
       "    <tr>\n",
       "      <th>1</th>\n",
       "      <td>893</td>\n",
       "      <td>0</td>\n",
       "    </tr>\n",
       "    <tr>\n",
       "      <th>2</th>\n",
       "      <td>894</td>\n",
       "      <td>0</td>\n",
       "    </tr>\n",
       "    <tr>\n",
       "      <th>3</th>\n",
       "      <td>895</td>\n",
       "      <td>0</td>\n",
       "    </tr>\n",
       "    <tr>\n",
       "      <th>4</th>\n",
       "      <td>896</td>\n",
       "      <td>0</td>\n",
       "    </tr>\n",
       "  </tbody>\n",
       "</table>\n",
       "</div>"
      ],
      "text/plain": [
       "   PassengerId  Survived\n",
       "0          892         0\n",
       "1          893         0\n",
       "2          894         0\n",
       "3          895         0\n",
       "4          896         0"
      ]
     },
     "execution_count": 94,
     "metadata": {},
     "output_type": "execute_result"
    }
   ],
   "source": [
    "#wa_sub_file = pd.read_csv(\"/kaggle/input/titanic/gender_submission.csv\")\n",
    "wa_sub_file = pd.read_csv(\"gender_submission.csv\")\n",
    "wa_sub_file[\"Survived\"] = wa_test_pred\n",
    "wa_sub_file.head()"
   ]
  },
  {
   "cell_type": "code",
   "execution_count": 95,
   "metadata": {
    "execution": {
     "iopub.execute_input": "2020-12-04T21:39:04.867559Z",
     "iopub.status.busy": "2020-12-04T21:39:04.865439Z",
     "iopub.status.idle": "2020-12-04T21:39:04.870746Z",
     "shell.execute_reply": "2020-12-04T21:39:04.869921Z"
    },
    "papermill": {
     "duration": 0.193064,
     "end_time": "2020-12-04T21:39:04.870879",
     "exception": false,
     "start_time": "2020-12-04T21:39:04.677815",
     "status": "completed"
    },
    "tags": []
   },
   "outputs": [],
   "source": [
    "wa_sub_file.to_csv(\"WtdAvg_ensemble_SubFile.csv\",index = False)"
   ]
  },
  {
   "cell_type": "markdown",
   "metadata": {},
   "source": [
    "The above modelling and results show that the NN model from scratch with 1 hidden layer has a validation accuracy of 84.4%, Voting Classifier has validation accuracy of 87.7% while the average has 82.2% and weighted average has 85.5%."
   ]
  },
  {
   "cell_type": "code",
   "execution_count": null,
   "metadata": {
    "papermill": {
     "duration": 0.184759,
     "end_time": "2020-12-04T21:39:05.244636",
     "exception": false,
     "start_time": "2020-12-04T21:39:05.059877",
     "status": "completed"
    },
    "tags": []
   },
   "outputs": [],
   "source": []
  }
 ],
 "metadata": {
  "kernelspec": {
   "display_name": "Python 3",
   "language": "python",
   "name": "python3"
  },
  "language_info": {
   "codemirror_mode": {
    "name": "ipython",
    "version": 3
   },
   "file_extension": ".py",
   "mimetype": "text/x-python",
   "name": "python",
   "nbconvert_exporter": "python",
   "pygments_lexer": "ipython3",
   "version": "3.7.2"
  },
  "papermill": {
   "duration": 158.18339,
   "end_time": "2020-12-04T21:39:05.538615",
   "environment_variables": {},
   "exception": null,
   "input_path": "__notebook__.ipynb",
   "output_path": "__notebook__.ipynb",
   "parameters": {},
   "start_time": "2020-12-04T21:36:27.355225",
   "version": "2.1.0"
  }
 },
 "nbformat": 4,
 "nbformat_minor": 4
}
